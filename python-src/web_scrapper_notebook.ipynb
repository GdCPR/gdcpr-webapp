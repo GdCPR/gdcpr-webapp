{
 "cells": [
  {
   "cell_type": "markdown",
   "metadata": {},
   "source": [
    "### Import modules"
   ]
  },
  {
   "cell_type": "code",
   "execution_count": 1,
   "metadata": {},
   "outputs": [],
   "source": [
    "from scrapper.art_hash import get_hash\n",
    "from scrapper.extract_artcls_data import current_artcls, artcl_data, artcl_content\n",
    "from scrapper.location_detector import detect_location, validate_location, get_location_id\n",
    "from scrapper.relevance_score_claculator import calculate_score as score\n",
    "from database_manager.database_connector import dbconnection as db\n",
    "from database_manager import querys"
   ]
  },
  {
   "cell_type": "markdown",
   "metadata": {},
   "source": [
    "### Save url containing articles"
   ]
  },
  {
   "cell_type": "code",
   "execution_count": 2,
   "metadata": {},
   "outputs": [],
   "source": [
    "# Base url\n",
    "news_url= \"https://www.elnuevodia.com/noticias/seguridad\""
   ]
  },
  {
   "cell_type": "markdown",
   "metadata": {},
   "source": [
    "### Construct data dictionary and insert data into database"
   ]
  },
  {
   "cell_type": "code",
   "execution_count": 5,
   "metadata": {},
   "outputs": [],
   "source": [
    "db.reconnect()\n",
    "cursor = db.cursor(buffered=True)\n",
    "\n",
    "# Fetch stored articles hashes\n",
    "cursor.execute(querys.FETCH_HASHES)\n",
    "\n",
    "# Create list of hashes\n",
    "hashes = []\n",
    "for row in cursor:\n",
    "    hashes.append(row[0])\n",
    "\n",
    "# Get current articles\n",
    "articles = current_artcls(news_url)\n",
    "\n",
    "# Iterate over current articles\n",
    "for article in articles:\n",
    "    # Get article has\n",
    "    art_hash = get_hash(article=article)\n",
    "    # Get article data and store to database only of hash is not in database already\n",
    "    if art_hash not in hashes:\n",
    "\n",
    "        data_dict = artcl_data(article=article)\n",
    "        \n",
    "        data_dict.update(artcl_content(article_data=data_dict))\n",
    "        \n",
    "        # Execute insert and commit to database\n",
    "        cursor.execute(querys.INSERT_ARTICLE, data_dict)\n",
    "        db.commit()\n",
    "\n",
    "        # Get ID of inserted article\n",
    "        art_id = cursor.lastrowid\n",
    "\n",
    "        locs_found = detect_location(article_data=data_dict)\n",
    "\n",
    "        loc_validated = validate_location(location=locs_found)\n",
    "        \n",
    "        if loc_validated:\n",
    "            for loc in loc_validated:\n",
    "                \n",
    "                loc_id = get_location_id(validated_location=loc)\n",
    "                scre = score(location_id=loc_id)\n",
    "                print(f\"{loc} ID: {loc_id} --- Score {scre}\")\n",
    "                # To do: Insert (ArticleID, LocationID) into ArticleLocationRelationship table\n",
    "                # using the article ID fetched from database after inserted, and loc_id in this\n",
    "                # for loop\n",
    "                data_dict = {\"articleid\": art_id, \"locationid\": loc_id}\n",
    "                cursor.execute(querys.INSERT_ARTICLE_LOCATION, data_dict)\n",
    "                db.commit()"
   ]
  },
  {
   "cell_type": "markdown",
   "metadata": {},
   "source": [
    "## Calculate relevance score"
   ]
  },
  {
   "cell_type": "code",
   "execution_count": 6,
   "metadata": {},
   "outputs": [
    {
     "name": "stdout",
     "output_type": "stream",
     "text": [
      "adjuntas ID: 1 --- Score 0.0\n",
      "aguada ID: 2 --- Score 0.0\n",
      "aguadilla ID: 3 --- Score 0.02631578947368421\n",
      "aguas_buenas ID: 4 --- Score 0.0\n",
      "aibonito ID: 5 --- Score 0.02631578947368421\n",
      "anasco ID: 6 --- Score 0.0\n",
      "arecibo ID: 7 --- Score 0.0\n",
      "arroyo ID: 8 --- Score 0.0\n",
      "barceloneta ID: 9 --- Score 0.0\n",
      "barranquitas ID: 10 --- Score 0.0\n",
      "bayamon ID: 11 --- Score 0.21052631578947367\n",
      "cabo_rojo ID: 12 --- Score 0.0\n",
      "caguas ID: 13 --- Score 0.15789473684210525\n",
      "camuy ID: 14 --- Score 0.02631578947368421\n",
      "canovanas ID: 15 --- Score 0.0\n",
      "carolina ID: 16 --- Score 0.0\n",
      "catano ID: 17 --- Score 0.0\n",
      "cayey ID: 18 --- Score 0.02631578947368421\n",
      "ceiba ID: 19 --- Score 0.0\n",
      "ciales ID: 20 --- Score 0.0\n",
      "cidra ID: 21 --- Score 0.02631578947368421\n",
      "coamo ID: 22 --- Score 0.0\n",
      "comerio ID: 23 --- Score 0.0\n",
      "corozal ID: 24 --- Score 0.0\n",
      "culebra ID: 25 --- Score 0.0\n",
      "dorado ID: 26 --- Score 0.02631578947368421\n",
      "fajardo ID: 27 --- Score 0.02631578947368421\n",
      "florida ID: 28 --- Score 0.0\n",
      "guanica ID: 29 --- Score 0.05263157894736842\n",
      "guayama ID: 30 --- Score 0.0\n",
      "guayanilla ID: 31 --- Score 0.0\n",
      "guaynabo ID: 32 --- Score 0.0\n",
      "gurabo ID: 33 --- Score 0.0\n",
      "hatillo ID: 34 --- Score 0.0\n",
      "hormigueros ID: 35 --- Score 0.0\n",
      "humacao ID: 36 --- Score 0.02631578947368421\n",
      "isabela ID: 37 --- Score 0.0\n",
      "jayuya ID: 38 --- Score 0.0\n",
      "juana_diaz ID: 39 --- Score 0.0\n",
      "juncos ID: 40 --- Score 0.07894736842105263\n",
      "lajas ID: 41 --- Score 0.0\n",
      "lares ID: 42 --- Score 0.0\n",
      "las_marias ID: 43 --- Score 0.0\n",
      "las_piedras ID: 44 --- Score 0.05263157894736842\n",
      "loiza ID: 45 --- Score 0.0\n",
      "luquillo ID: 46 --- Score 0.0\n",
      "manati ID: 47 --- Score 0.0\n",
      "maricao ID: 48 --- Score 0.0\n",
      "maunabo ID: 49 --- Score 0.02631578947368421\n",
      "mayaguez ID: 50 --- Score 0.0\n",
      "moca ID: 51 --- Score 0.0\n",
      "morovis ID: 52 --- Score 0.0\n",
      "naguabo ID: 53 --- Score 0.0\n",
      "naranjito ID: 54 --- Score 0.0\n",
      "orocovis ID: 55 --- Score 0.0\n",
      "patillas ID: 56 --- Score 0.0\n",
      "penuelas ID: 57 --- Score 0.0\n",
      "ponce ID: 58 --- Score 0.0\n",
      "quebradillas ID: 59 --- Score 0.0\n",
      "rincon ID: 60 --- Score 0.0\n",
      "rio_grande ID: 61 --- Score 0.0\n",
      "sabana_grande ID: 62 --- Score 0.05263157894736842\n",
      "salinas ID: 63 --- Score 0.0\n",
      "san_german ID: 64 --- Score 0.0\n",
      "san_juan ID: 65 --- Score 0.34210526315789475\n",
      "san_lorenzo ID: 66 --- Score 0.0\n",
      "san_sebastian ID: 67 --- Score 0.0\n",
      "santa_isabel ID: 68 --- Score 0.0\n",
      "toa_alta ID: 69 --- Score 0.05263157894736842\n",
      "toa_baja ID: 70 --- Score 0.0\n",
      "trujillo_alto ID: 71 --- Score 0.02631578947368421\n",
      "utuado ID: 72 --- Score 0.0\n",
      "vega_alta ID: 73 --- Score 0.05263157894736842\n",
      "vega_baja ID: 74 --- Score 0.05263157894736842\n",
      "vieques ID: 75 --- Score 0.0\n",
      "villalba ID: 76 --- Score 0.0\n",
      "yabucoa ID: 77 --- Score 0.0\n",
      "yauco ID: 78 --- Score 0.0\n"
     ]
    }
   ],
   "source": [
    "db.reconnect()\n",
    "cursor = db.cursor(buffered=True)\n",
    "cursor.execute(\"SELECT * FROM Location\")\n",
    "for row in cursor:\n",
    "    scre = score(location_id=row[0])\n",
    "    print(f\"{row[1]} ID: {row[0]} --- Score {scre}\")"
   ]
  },
  {
   "cell_type": "markdown",
   "metadata": {},
   "source": [
    "### Print Articles table rows"
   ]
  },
  {
   "cell_type": "code",
   "execution_count": null,
   "metadata": {},
   "outputs": [],
   "source": [
    "query = \"\"\"SELECT * FROM Articles\"\"\"\n",
    "cursor.execute(query)\n",
    "for row in cursor:\n",
    "    print(row)"
   ]
  },
  {
   "cell_type": "markdown",
   "metadata": {},
   "source": [
    "## Print Location rows"
   ]
  },
  {
   "cell_type": "code",
   "execution_count": null,
   "metadata": {},
   "outputs": [],
   "source": [
    "db.reconnect()\n",
    "query = \"\"\"SELECT * FROM Location\"\"\"\n",
    "cursor = db.cursor(buffered=True)\n",
    "cursor.execute(query)\n",
    "for row in cursor:\n",
    "    print(row)\n",
    "db.close()"
   ]
  },
  {
   "cell_type": "markdown",
   "metadata": {},
   "source": [
    "## Print bridging table rows"
   ]
  },
  {
   "cell_type": "code",
   "execution_count": null,
   "metadata": {},
   "outputs": [],
   "source": [
    "query = \"\"\"SELECT * FROM ArticlesLocationRelation\"\"\"\n",
    "cursor = db.cursor(buffered=True)\n",
    "cursor.execute(query)\n",
    "for row in cursor:\n",
    "    print(row)\n",
    "db.close()"
   ]
  },
  {
   "cell_type": "markdown",
   "metadata": {},
   "source": [
    "## Close database connection"
   ]
  },
  {
   "cell_type": "code",
   "execution_count": null,
   "metadata": {},
   "outputs": [],
   "source": [
    "db.close()"
   ]
  },
  {
   "cell_type": "markdown",
   "metadata": {},
   "source": [
    "# Testing"
   ]
  },
  {
   "cell_type": "code",
   "execution_count": null,
   "metadata": {},
   "outputs": [],
   "source": [
    "from database_manager.database_connector import dbconnection as db\n",
    "from database_manager import querys\n",
    "\n",
    "db.reconnect()\n",
    "cursor = db.cursor(buffered=True)\n",
    "data = {\"locationid\": 65}\n",
    "cursor.execute(querys.COUNT, data)\n",
    "# cursor.execute(\"SELECT COUNT(*) FROM ArticlesLocationRelation WHERE LocationID = 65\")\n",
    "# cursor.execute(\"SELECT LocationID FROM ArticlesLocationRelation\")\n",
    "count = cursor.fetchone()[0]\n",
    "# print(count)\n",
    "\n",
    "data = {\"table\": \"Articles\", \"id_field\": \"ArticleID\"}\n",
    "cursor.execute(querys.ARTICLE_MAXID)\n",
    "print(cursor.fetchone()[0])\n",
    "# arts_count = \n",
    "# for row in cursor:\n",
    "#     print(row[0])\n",
    "\n",
    "db.close()"
   ]
  },
  {
   "cell_type": "code",
   "execution_count": null,
   "metadata": {},
   "outputs": [],
   "source": []
  },
  {
   "cell_type": "code",
   "execution_count": null,
   "metadata": {},
   "outputs": [],
   "source": []
  }
 ],
 "metadata": {
  "kernelspec": {
   "display_name": "Python 3",
   "language": "python",
   "name": "python3"
  },
  "language_info": {
   "codemirror_mode": {
    "name": "ipython",
    "version": 3
   },
   "file_extension": ".py",
   "mimetype": "text/x-python",
   "name": "python",
   "nbconvert_exporter": "python",
   "pygments_lexer": "ipython3",
   "version": "3.12.4"
  }
 },
 "nbformat": 4,
 "nbformat_minor": 2
}
