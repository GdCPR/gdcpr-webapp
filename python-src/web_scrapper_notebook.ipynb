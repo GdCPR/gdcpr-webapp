{
 "cells": [
  {
   "cell_type": "markdown",
   "metadata": {},
   "source": [
    "### Import modules"
   ]
  },
  {
   "cell_type": "code",
   "execution_count": 1,
   "metadata": {},
   "outputs": [],
   "source": [
    "from scrapper.art_hash import get_hash\n",
    "from scrapper.extract_artcls_data import current_artcls, artcl_data, artcl_content\n",
    "from scrapper.location_detector import detect_location, validate_location, get_location_id\n",
    "from scrapper.relevance_score_claculator import calculate_score as score\n",
    "from database_manager.database_connector import dbconnection as db\n",
    "from database_manager import querys"
   ]
  },
  {
   "cell_type": "markdown",
   "metadata": {},
   "source": [
    "### Save url containing articles"
   ]
  },
  {
   "cell_type": "code",
   "execution_count": 2,
   "metadata": {},
   "outputs": [],
   "source": [
    "# Base url\n",
    "news_url= \"https://www.elnuevodia.com/noticias/seguridad\""
   ]
  },
  {
   "cell_type": "markdown",
   "metadata": {},
   "source": [
    "### Construct data dictionary and insert data into database"
   ]
  },
  {
   "cell_type": "code",
   "execution_count": 3,
   "metadata": {},
   "outputs": [],
   "source": [
    "# Get the current articles in endi.com \n",
    "# under the Seguridad category\n",
    "articles = current_artcls(news_url)\n",
    "\n",
    "# Iterate over current articles\n",
    "for article in articles:\n",
    "    # Re-establish database connection\n",
    "    db.reconnect()\n",
    "    # Create communication cursor object\n",
    "    cursor = db.cursor(buffered=True)\n",
    "\n",
    "    # Get article hash\n",
    "    art_hash = get_hash(article=article)\n",
    "    # Fetch stored articles hashes\n",
    "    cursor.execute(querys.FETCH_HASHES)\n",
    "    # Select rows where article hash exists\n",
    "    cursor.execute(querys.CHECK_HASH, [art_hash])\n",
    "    # Count number of rows hash appears\n",
    "    check = cursor.rowcount\n",
    "\n",
    "    # Get article data and store to database only if\n",
    "    # article hash do not exists; check variable must\n",
    "    # be 0\n",
    "    if check == 0:\n",
    "        # Create data dictionary with extracted article initial\n",
    "        # data and hash \n",
    "        # URL, Headline, Author, and Hash \n",
    "        query_dict = artcl_data(article=article)\n",
    "        \n",
    "        # Update data dictionary to store content data\n",
    "        # Subheadline, Datetime, and Content\n",
    "        query_dict.update(artcl_content(article_data=query_dict))\n",
    "        \n",
    "        # Insert article data into database table Articles \n",
    "        cursor.execute(querys.INSERT_ARTICLE, query_dict)\n",
    "        # Commit the insert\n",
    "        db.commit()\n",
    "\n",
    "        # Get ID of inserted article\n",
    "        art_id = cursor.lastrowid\n",
    "\n",
    "        # Create list with article detected location \n",
    "        locs_found = detect_location(article_data=query_dict)\n",
    "        # Create list with detected locations validated\n",
    "        loc_validated = validate_location(location=locs_found)\n",
    "        \n",
    "        # Insert into ArticleLocationRelationship only if\n",
    "        # valudad location contains values \n",
    "        if loc_validated:\n",
    "            # Iterate over validated locations\n",
    "            for loc in loc_validated:\n",
    "                # Get the location id\n",
    "                loc_id = get_location_id(validated_location=loc)\n",
    "                \n",
    "                # Insert ArticleID and LocationID into ArticlesLocationRelation\n",
    "                query_dict = {\"articleid\": art_id, \"locationid\": loc_id}\n",
    "                cursor.execute(querys.INSERT_ARTICLE_LOCATION, query_dict)\n",
    "                db.commit()\n",
    "\n",
    "                # Calculate relevance score for the given location\n",
    "                sc = score(location_id=loc_id)\n",
    "                # Update the location relevance score\n",
    "                query_dict = {\"locationid\":loc_id , \"score\": sc}\n",
    "                cursor.execute(querys.UPDATE_RELEVACE_SCORE, query_dict)\n",
    "                db.commit()\n",
    "    cursor.close()\n",
    "    db.close()"
   ]
  },
  {
   "cell_type": "markdown",
   "metadata": {},
   "source": [
    "## Print Articles rows"
   ]
  },
  {
   "cell_type": "code",
   "execution_count": 6,
   "metadata": {},
   "outputs": [
    {
     "name": "stdout",
     "output_type": "stream",
     "text": [
      "(1, 'https://www.elnuevodia.com/noticias/seguridad/notas/policia-verifica-videos-y-entrevista-testigos-en-relacion-al-asesinato-de-un-adolescente-de-15-anos-en-aguadilla/', 'Policía verifica vídeos y entrevista testigos en relación al asesinato de un adolescente de 15 años en Aguadilla', 'Por Alex Figueroa Cancel', 'Los investigadores sospechan que hubo más de un atacante', datetime.datetime(2024, 7, 23, 11, 51), 'b15fbb2241cd5026433ac9450f31f15657ef962bea5d9a858774038795b8c224')\n",
      "(2, 'https://www.elnuevodia.com/noticias/seguridad/notas/hallan-el-cuerpo-de-una-persona-en-estado-descomposicion-en-toa-baja/', 'Hallan el cuerpo de una persona en estado descomposición en Toa Baja', 'Por Alex Figueroa Cancel', 'Fue encontrado por un ciudadano debajo del llamado “Puente de las Banderas” en Levittown', datetime.datetime(2024, 7, 23, 9, 14), 'a36e87d490393f673fbc652fe4c6175187d32bbc468d7ef2bc3c66e7a9de8c77')\n",
      "(3, 'https://www.elnuevodia.com/noticias/seguridad/notas/desmantelan-organizacion-criminal-que-introducia-drogas-a-la-carcel-federal-en-puerto-rico-a-traves-del-correo/', 'Desmantelan organización criminal que introducía drogas a la cárcel federal en Puerto Rico a través del correo', 'Por Alex Figueroa Cancel', 'Los cargos de un gran jurado alegan que los ocho acusados conspiraron para enviar sustancias controladas al Centro Metropolitano de Detención en Guaynabo', datetime.datetime(2024, 7, 23, 9, 37), 'bec1800a6f2c50be138e13108df5a62d6f524b5484e3b4e1859c26ff684e6ee1')\n",
      "(4, 'https://www.elnuevodia.com/noticias/seguridad/notas/realizan-carjacking-en-guayama-durante-confuso-incidente/', 'Realizan “carjacking” en Guayama durante confuso incidente', 'Por Agustín Criollo Oquero', 'El robo a mano armada ocurrió en la carretera PR-3, a la altura del kilómetro 143.2', datetime.datetime(2024, 7, 23, 7, 2), 'a2ddc919b939641cee955c013b011901f39a76d99328647552a456b0aa59b9e6')\n",
      "(5, 'https://www.elnuevodia.com/noticias/seguridad/notas/reportan-incendio-en-una-embarcacion-en-humacao/', 'Reportan incendio en una embarcación en Humacao', 'Por Alex Figueroa Cancel', 'Los daños fueron estimados en unos $10,000', datetime.datetime(2024, 7, 23, 6, 31), '0d723999068629b57d67310e7631a8237e80a81d25427e9e5092db6cb241ddbc')\n",
      "(6, 'https://www.elnuevodia.com/noticias/seguridad/notas/como-se-utiliza-la-inteligencia-artificial-en-las-investigaciones-criminales-en-puerto-rico-componentes-del-sistema-de-justicia-lo-explican/', '¿Cómo se utiliza la inteligencia artificial en las investigaciones criminales en Puerto Rico? Componentes del sistema de justicia lo explican', 'Por Adriana Díaz Tirado', 'El auge de estas herramientas en las agencias de orden público abre una nueva ventana de discusión sobre los controles que se requieren para su uso y desarrollo enmarcado en los derechos civiles', datetime.datetime(2024, 7, 23, 23, 10), 'f969b5b71c481162b297e041a045b93ad34c91b899ee31044dc11320135c203b')\n",
      "(7, 'https://www.elnuevodia.com/noticias/seguridad/notas/arrestan-en-san-juan-a-presunto-lider-de-la-organizacion-criminal-65-inc/', 'Arrestan en San Juan a presunto líder de la organización criminal “65 Inc.“', 'Por Andrea Guemárez Soto', 'Según la Policía, a Christian Escalera Rodríguez, alias “Mono”, también se le vincula con el asesinato de un joven de 21 años en hechos ocurridos el domingo', datetime.datetime(2024, 7, 23, 20, 23), 'f6132e5616841f96f52ee54e041f28e27a62c1fb37e44377d315b2cec581a849')\n",
      "(8, 'https://www.elnuevodia.com/noticias/seguridad/notas/roban-de-una-residencia-herramientas-valoradas-en-4663/', 'Roban de una residencia herramientas valoradas en $4,663', 'Por Alex Figueroa Cancel', 'Los hechos fueron reportados en urbanización Reparto Metropolitano, en San Juan', datetime.datetime(2024, 7, 22, 14, 59), '85dd46e4b4e8efe0b0d6819bf6aa1d9f464892632cd38e220dfc4eec70eb9870')\n",
      "(9, 'https://www.elnuevodia.com/noticias/seguridad/notas/encuentran-dentro-de-un-vehiculo-a-un-hombre-asesinado-a-tiros-en-san-juan/', 'Encuentran dentro de un vehículo a un hombre asesinado a tiros en San Juan', 'Por Alex Figueroa Cancel', 'Los hechos ocurrieron frente a una residencia en la urbanización Villa Olímpica y la víctima fue identificada como Lionel Simonetti García, de 39 años', datetime.datetime(2024, 7, 22, 6, 58), '90b98f83f1d58d99bcae1d97b37dd67502c079f62d321725b0d870113a7f8b79')\n",
      "(10, 'https://www.elnuevodia.com/noticias/seguridad/notas/transportistas-llevaran-caravana-de-protesta-por-el-expreso-pr-22/', 'Transportistas llevarán caravana de protesta por el expreso PR-22', 'Por Alex Figueroa Cancel', 'Tienen planificado llegar hasta el Negociado de Transporte en la mañana de este lunes', datetime.datetime(2024, 7, 22, 10, 51), '04d00f992a02e5380f1a340486f84edd96c81ef53ab73c90a7e423aaf7368ff7')\n",
      "(11, 'https://www.elnuevodia.com/noticias/seguridad/notas/asesinan-a-adolescente-de-15-anos-y-su-madre-y-hermano-resultan-heridos-en-aguadilla/', 'Asesinan a adolescente de 15 años y su madre y hermano resultan heridos en Aguadilla', 'Por Alex Figueroa Cancel', 'La Policía informó que los tres tenían heridas de arma blanca', datetime.datetime(2024, 7, 22, 6, 25), '716e89ebf7e453f8befcee45dd7f8b53ff010e01c5d7d4a72f17fd9587d8bf94')\n",
      "(12, 'https://www.elnuevodia.com/noticias/seguridad/notas/identifican-a-occiso-hallado-en-juncos-como-un-chofer-de-uber-reportado-como-desaparecido/', 'Identifican a occiso hallado en Juncos como un chofer de Uber reportado como desaparecido', 'Por Alex Figueroa Cancel', 'La Policía reportó el hallazgo del cuerpo el jueves pasado', datetime.datetime(2024, 7, 22, 8, 4), 'f362047c66243e7c7058c531e17faef569e09af85b8799e38634309fec5465bb')\n",
      "(13, 'https://www.elnuevodia.com/noticias/seguridad/notas/mueren-baleados-dos-hombres-en-casos-separados-reportados-en-las-piedras-y-san-juan/', 'Mueren baleados dos hombres en casos separados reportados en Las Piedras y San Juan', 'Por Richard I. Colón Badillo', 'Ambas víctimas ha sido identificadas como jóvenes de 21 años', datetime.datetime(2024, 7, 21, 8, 49), '3f9e671c7ebde79708c28dcfe9d0708cac1b507bebf96f2fbde913825f7241b2')\n",
      "(14, 'https://www.elnuevodia.com/noticias/seguridad/notas/la-policia-reporta-la-muerte-sospechosa-de-un-joven-en-la-zona-de-monte-hatillo/', 'La Policía reporta la “muerte sospechosa” de un joven en la zona de Monte Hatillo', 'Por Alex Figueroa Cancel', 'Los investigadores encontraron un casquillo de bala en la escena, pero no el arma de fuego', datetime.datetime(2024, 7, 22, 7, 13), '99a95144fc420a6a2d7ffe23175c298bf06eda5843e2b216f2085a137371be98')\n",
      "(15, 'https://www.elnuevodia.com/noticias/seguridad/notas/hombre-es-victima-de-carjacking-en-el-estacionamiento-de-un-parque-de-san-juan/', 'Hombre es víctima de “carjacking” en el estacionamiento de un parque de San Juan', 'Por Richard I. Colón Badillo', 'El perjudicado fue amenazado por dos personas vestidas de negro', datetime.datetime(2024, 7, 21, 9, 28), 'b09effd5b05943be51793520619900e92f147cca7bb797d2ff58cd9f691f65a4')\n",
      "(16, 'https://www.elnuevodia.com/noticias/seguridad/notas/con-muerte-cerebral-hombre-que-presuntamente-intento-despojar-a-mujer-de-su-vehiculo-en-bayamon/', 'Con muerte cerebral hombre que presuntamente intentó despojar a mujer de su vehículo en Bayamón', 'Por Yaritza Rivera Clemente y Agustín Criollo Oquero', 'Yaniel Vázquez Hernández, supuestamente, intentó hurtar el automóvil mediante carjacking, pero fue herido de bala por la madre de la perjudicada, una agente de la Policía Municipal', datetime.datetime(2024, 7, 20, 15, 57), 'c7d50f146222231d877ff43387353b72a5a6258d224e7c00bebe60c4d0ae7778')\n",
      "(17, 'https://www.elnuevodia.com/noticias/seguridad/notas/no-les-quiero-hacer-dano-realizan-carjacking-en-estacionamiento-de-centro-comercial-en-bayamon/', '“No les quiero hacer daño”: realizan carjacking en estacionamiento de centro comercial en Bayamón', 'Por Yaritza Rivera Clemente', 'La mujer, que se encontraba acompañada de una menor de 7 años, relató a la Policía que el asaltante le dijo: “Quiero su carro y dinero”', datetime.datetime(2024, 7, 20, 11, 49), 'fd34e9ef2b0bc00418e138360dd9ec8cf6835299f321428479c1dcb60dd4400a')\n",
      "(18, 'https://www.elnuevodia.com/noticias/seguridad/notas/buscan-a-joven-reportado-como-desaparecido-en-san-juan/', 'Buscan a joven reportado como desaparecido en San Juan', 'Por Yaritza Rivera Clemente', 'Terrence Tuner Deshun, de 32 años, fue visto por última vez el 16 de julio en los predios del Hospital de Veteranos', datetime.datetime(2024, 7, 19, 16, 43), '0f291c83205272333917a9faae254dd2b230d97940025a3fbac214faaec6ee2c')\n",
      "(19, 'https://www.elnuevodia.com/noticias/seguridad/notas/la-policia-solicita-cooperacion-ciudadana-para-identificar-a-hombre-asesinado-en-juncos/', 'La Policía solicita cooperación ciudadana para identificar a hombre asesinado en Juncos', 'Por Yaritza Rivera Clemente', 'El crimen se reportó la mañana del pasado jueves frente a la urbanización Ciudad Jardín', datetime.datetime(2024, 7, 19, 16, 41), '60dff19277af2fc25d87a9b4e323fcae2d16a3800f8ecb782213743943cf2c5b')\n",
      "(20, 'https://www.elnuevodia.com/noticias/seguridad/notas/localizan-en-buen-estado-a-sexagenario-reportado-como-desaparecido-en-carolina/', 'Localizan en buen estado a sexagenario reportado como desaparecido en Carolina', 'Por Yaritza Rivera Clemente', 'La Policía informó este viernes que Edwin Maldonado Rivera, de 65 años, fue ubicado en dicho ayuntamiento', datetime.datetime(2024, 7, 19, 16, 30), '60eacffb890a73aae2ee54f436d80e2e65294aba4275336dbf7f934d506871ed')\n",
      "(21, 'https://www.elnuevodia.com/noticias/seguridad/notas/asesinan-a-un-hombre-en-el-interior-de-una-guagua-en-arecibo/', 'Asesinan a un hombre en el interior de una guagua en Arecibo', 'Por Yaritza Rivera Clemente', 'El occiso fue identificado como Eddie E. Hernández Rivera, de 41 años y residente del pueblo de Arecibo', datetime.datetime(2024, 7, 19, 16, 27), 'be56fd5eef35af17ac7f2943896acb0fab61dd978313a612bb63705a767c7d87')\n",
      "(22, 'https://www.elnuevodia.com/noticias/seguridad/notas/reportan-accidente-fatal-frente-a-centro-comercial-en-mayaguez/', 'Reportan accidente fatal frente a centro comercial en Mayagüez', 'Por Agustín Criollo Oquero', 'El pasajero que viajaba en una guagua Ford F-150 por la PR-2 murió luego de que el vehículo impactara una valla de seguridad', datetime.datetime(2024, 7, 19, 14, 28), 'ea6f69a0216f6cb6496eb5e867ec71b7567328dc36ee0a66e8939015e2981308')\n",
      "(23, 'https://www.elnuevodia.com/noticias/seguridad/notas/asesinan-a-adolescente-de-15-anos-y-su-madre-y-hermano-resultan-heridos-en-aguadilla/', 'Asesinan a adolescente de 15 años y su madre y hermano resultan heridos en Aguadilla', 'Por Alex Figueroa Cancel', 'La Policía informó que los tres tenían heridas de arma blanca', datetime.datetime(2024, 7, 22, 6, 25), '98ee38cea5daaa5a9caac94f6af143c529d3a092b18530dd68c8c06b89395955')\n",
      "(24, 'https://www.elnuevodia.com/noticias/seguridad/notas/identifican-a-occiso-hallado-en-juncos-como-un-chofer-de-uber-reportado-como-desaparecido/', 'Identifican a occiso hallado en Juncos como un chofer de Uber reportado como desaparecido', 'Por Alex Figueroa Cancel', 'La Policía reportó el hallazgo del cuerpo el jueves pasado', datetime.datetime(2024, 7, 22, 8, 4), 'e5389d4ac3fd9cf81233390493d85ff10bb3d3765f6f027463b2827bda5c96a1')\n",
      "(25, 'https://www.elnuevodia.com/noticias/seguridad/notas/mueren-baleados-dos-hombres-en-casos-separados-reportados-en-las-piedras-y-san-juan/', 'Mueren baleados dos hombres en casos separados reportados en Las Piedras y San Juan', 'Por Richard I. Colón Badillo', 'Ambas víctimas ha sido identificadas como jóvenes de 21 años', datetime.datetime(2024, 7, 21, 8, 49), 'adfebb48f4975e9f299bb368734001d4faaddf54fdcb7e90dd93637b0d0b4117')\n",
      "(26, 'https://www.elnuevodia.com/noticias/seguridad/notas/la-policia-reporta-la-muerte-sospechosa-de-un-joven-en-la-zona-de-monte-hatillo/', 'La Policía reporta la “muerte sospechosa” de un joven en la zona de Monte Hatillo', 'Por Alex Figueroa Cancel', 'Los investigadores encontraron un casquillo de bala en la escena, pero no el arma de fuego', datetime.datetime(2024, 7, 22, 7, 13), '6583615626e7f26f9748e78bf621214881db932eb64a7562291315ce95ccc184')\n",
      "(27, 'https://www.elnuevodia.com/noticias/seguridad/notas/hombre-es-victima-de-carjacking-en-el-estacionamiento-de-un-parque-de-san-juan/', 'Hombre es víctima de “carjacking” en el estacionamiento de un parque de San Juan', 'Por Richard I. Colón Badillo', 'El perjudicado fue amenazado por dos personas vestidas de negro', datetime.datetime(2024, 7, 21, 9, 28), '3bd9ceaf0a64ac097f495687bf862716a1d8acd0d5dda0219b7f17df7464ef35')\n",
      "(28, 'https://www.elnuevodia.com/noticias/seguridad/notas/con-muerte-cerebral-hombre-que-presuntamente-intento-despojar-a-mujer-de-su-vehiculo-en-bayamon/', 'Con muerte cerebral hombre que presuntamente intentó despojar a mujer de su vehículo en Bayamón', 'Por Yaritza Rivera Clemente y Agustín Criollo Oquero', 'Yaniel Vázquez Hernández, supuestamente, intentó hurtar el automóvil mediante carjacking, pero fue herido de bala por la madre de la perjudicada, una agente de la Policía Municipal', datetime.datetime(2024, 7, 20, 15, 57), '330ff08475a457e9d4d1cbbb02e16273c37db8fd585cb7b10bea21fbd14ec737')\n",
      "(29, 'https://www.elnuevodia.com/noticias/seguridad/notas/no-les-quiero-hacer-dano-realizan-carjacking-en-estacionamiento-de-centro-comercial-en-bayamon/', '“No les quiero hacer daño”: realizan carjacking en estacionamiento de centro comercial en Bayamón', 'Por Yaritza Rivera Clemente', 'La mujer, que se encontraba acompañada de una menor de 7 años, relató a la Policía que el asaltante le dijo: “Quiero su carro y dinero”', datetime.datetime(2024, 7, 20, 11, 49), '2d6b90625bb36a61a49fdbecf3a95ad562db9f376d7fff711f3e1a60b20a14dc')\n",
      "(30, 'https://www.elnuevodia.com/noticias/seguridad/notas/delincuentes-amarran-a-hombre-en-residencia-en-toa-alta-y-se-llevan-45000-en-efectivo-de-la-caja-fuerte/', 'Delincuentes amarran a hombre en residencia en Toa Alta y se llevan $45,000 en efectivo de la caja fuerte', 'Por Yaritza Rivera Clemente', 'Los individuos armados, además, despojaron al perjudicado de una cadena de oro y dos relojes marca Rolex valorados en $25,000', datetime.datetime(2024, 7, 20, 11, 9), 'f4ba76c3bff950de5ddcce7361a376164c06b933eb620d188360682f4ad00df4')\n",
      "(31, 'https://www.elnuevodia.com/noticias/seguridad/notas/muere-peaton-que-fue-arrollado-frente-a-un-negocio-en-guanica/', 'Muere peatón que fue arrollado frente a un negocio en Guánica', 'Por Yaritza Rivera Clemente', 'La Policía informó que el conductor se detuvo en la escena', datetime.datetime(2024, 7, 20, 9, 53), '4e2ac04d5c3b867ed3b53b10dfdae54b5eed493f74f4f0059f501dd4dd1c5cc0')\n",
      "(32, 'https://www.elnuevodia.com/noticias/seguridad/notas/conductor-presuntamente-ebrio-arrolla-fatalmente-a-peaton-en-la-avenida-barbosa-en-rio-piedras/', 'Conductor presuntamente ebrio provocó la muerte de peatón en la avenida Barbosa en Río Piedras', 'Por Agustín Criollo Oquero', 'La víctima fue impactado a las 4:53 de la madrugada del sábado por un conductor que, al hacerle la prueba de alcohol, arrojó 0.192%', datetime.datetime(2024, 7, 20, 9, 29), '10b7212a14a98120863798a406ceaa360bb19c6a262331588de5e28b8ba8874e')\n"
     ]
    }
   ],
   "source": [
    "db.reconnect()\n",
    "query = \"\"\"SELECT * FROM Articles\"\"\"\n",
    "cursor = db.cursor(buffered=True)\n",
    "cursor.execute(query)\n",
    "for row in cursor:\n",
    "    print(row)\n",
    "db.close()"
   ]
  },
  {
   "cell_type": "markdown",
   "metadata": {},
   "source": [
    "## Print Articles-Location Relation rows"
   ]
  },
  {
   "cell_type": "code",
   "execution_count": 5,
   "metadata": {},
   "outputs": [
    {
     "name": "stdout",
     "output_type": "stream",
     "text": [
      "(1, 3)\n",
      "(11, 3)\n",
      "(23, 3)\n",
      "(22, 6)\n",
      "(21, 7)\n",
      "(10, 11)\n",
      "(16, 11)\n",
      "(17, 11)\n",
      "(28, 11)\n",
      "(29, 11)\n",
      "(12, 13)\n",
      "(19, 13)\n",
      "(24, 13)\n",
      "(31, 29)\n",
      "(3, 32)\n",
      "(5, 36)\n",
      "(13, 36)\n",
      "(25, 36)\n",
      "(12, 40)\n",
      "(19, 40)\n",
      "(24, 40)\n",
      "(13, 44)\n",
      "(25, 44)\n",
      "(22, 50)\n",
      "(7, 65)\n",
      "(8, 65)\n",
      "(9, 65)\n",
      "(10, 65)\n",
      "(13, 65)\n",
      "(14, 65)\n",
      "(15, 65)\n",
      "(18, 65)\n",
      "(25, 65)\n",
      "(26, 65)\n",
      "(27, 65)\n",
      "(30, 69)\n",
      "(2, 70)\n"
     ]
    }
   ],
   "source": [
    "db.reconnect()\n",
    "query = \"\"\"SELECT * FROM ArticlesLocationRelation\"\"\"\n",
    "cursor = db.cursor(buffered=True)\n",
    "cursor.execute(query)\n",
    "for row in cursor:\n",
    "    print(row)\n",
    "db.close()"
   ]
  },
  {
   "cell_type": "markdown",
   "metadata": {},
   "source": [
    "## Print Location rows"
   ]
  },
  {
   "cell_type": "code",
   "execution_count": 4,
   "metadata": {},
   "outputs": [
    {
     "name": "stdout",
     "output_type": "stream",
     "text": [
      "(1, 'adjuntas', 0.0)\n",
      "(2, 'aguada', 0.0)\n",
      "(3, 'aguadilla', 0.13043478260869565)\n",
      "(4, 'aguas_buenas', 0.0)\n",
      "(5, 'aibonito', 0.0)\n",
      "(6, 'anasco', 0.045454545454545456)\n",
      "(7, 'arecibo', 0.047619047619047616)\n",
      "(8, 'arroyo', 0.0)\n",
      "(9, 'barceloneta', 0.0)\n",
      "(10, 'barranquitas', 0.0)\n",
      "(11, 'bayamon', 0.1724137931034483)\n",
      "(12, 'cabo_rojo', 0.0)\n",
      "(13, 'caguas', 0.125)\n",
      "(14, 'camuy', 0.0)\n",
      "(15, 'canovanas', 0.0)\n",
      "(16, 'carolina', 0.0)\n",
      "(17, 'catano', 0.0)\n",
      "(18, 'cayey', 0.0)\n",
      "(19, 'ceiba', 0.0)\n",
      "(20, 'ciales', 0.0)\n",
      "(21, 'cidra', 0.0)\n",
      "(22, 'coamo', 0.0)\n",
      "(23, 'comerio', 0.0)\n",
      "(24, 'corozal', 0.0)\n",
      "(25, 'culebra', 0.0)\n",
      "(26, 'dorado', 0.0)\n",
      "(27, 'fajardo', 0.0)\n",
      "(28, 'florida', 0.0)\n",
      "(29, 'guanica', 0.03225806451612903)\n",
      "(30, 'guayama', 0.0)\n",
      "(31, 'guayanilla', 0.0)\n",
      "(32, 'guaynabo', 0.3333333333333333)\n",
      "(33, 'gurabo', 0.0)\n",
      "(34, 'hatillo', 0.0)\n",
      "(35, 'hormigueros', 0.0)\n",
      "(36, 'humacao', 0.12)\n",
      "(37, 'isabela', 0.0)\n",
      "(38, 'jayuya', 0.0)\n",
      "(39, 'juana_diaz', 0.0)\n",
      "(40, 'juncos', 0.125)\n",
      "(41, 'lajas', 0.0)\n",
      "(42, 'lares', 0.0)\n",
      "(43, 'las_marias', 0.0)\n",
      "(44, 'las_piedras', 0.08)\n",
      "(45, 'loiza', 0.0)\n",
      "(46, 'luquillo', 0.0)\n",
      "(47, 'manati', 0.0)\n",
      "(48, 'maricao', 0.0)\n",
      "(49, 'maunabo', 0.0)\n",
      "(50, 'mayaguez', 0.045454545454545456)\n",
      "(51, 'moca', 0.0)\n",
      "(52, 'morovis', 0.0)\n",
      "(53, 'naguabo', 0.0)\n",
      "(54, 'naranjito', 0.0)\n",
      "(55, 'orocovis', 0.0)\n",
      "(56, 'patillas', 0.0)\n",
      "(57, 'penuelas', 0.0)\n",
      "(58, 'ponce', 0.0)\n",
      "(59, 'quebradillas', 0.0)\n",
      "(60, 'rincon', 0.0)\n",
      "(61, 'rio_grande', 0.0)\n",
      "(62, 'sabana_grande', 0.0)\n",
      "(63, 'salinas', 0.0)\n",
      "(64, 'san_german', 0.0)\n",
      "(65, 'san_juan', 0.4074074074074074)\n",
      "(66, 'san_lorenzo', 0.0)\n",
      "(67, 'san_sebastian', 0.0)\n",
      "(68, 'santa_isabel', 0.0)\n",
      "(69, 'toa_alta', 0.03333333333333333)\n",
      "(70, 'toa_baja', 0.5)\n",
      "(71, 'trujillo_alto', 0.0)\n",
      "(72, 'utuado', 0.0)\n",
      "(73, 'vega_alta', 0.0)\n",
      "(74, 'vega_baja', 0.0)\n",
      "(75, 'vieques', 0.0)\n",
      "(76, 'villalba', 0.0)\n",
      "(77, 'yabucoa', 0.0)\n",
      "(78, 'yauco', 0.0)\n"
     ]
    }
   ],
   "source": [
    "db.reconnect()\n",
    "query = \"\"\"SELECT * FROM Location\"\"\"\n",
    "cursor = db.cursor(buffered=True)\n",
    "cursor.execute(query)\n",
    "for row in cursor:\n",
    "    print(row)\n",
    "db.close()"
   ]
  },
  {
   "cell_type": "markdown",
   "metadata": {},
   "source": [
    "# Testing"
   ]
  },
  {
   "cell_type": "code",
   "execution_count": null,
   "metadata": {},
   "outputs": [],
   "source": []
  }
 ],
 "metadata": {
  "kernelspec": {
   "display_name": "Python 3",
   "language": "python",
   "name": "python3"
  },
  "language_info": {
   "codemirror_mode": {
    "name": "ipython",
    "version": 3
   },
   "file_extension": ".py",
   "mimetype": "text/x-python",
   "name": "python",
   "nbconvert_exporter": "python",
   "pygments_lexer": "ipython3",
   "version": "3.12.4"
  }
 },
 "nbformat": 4,
 "nbformat_minor": 2
}
