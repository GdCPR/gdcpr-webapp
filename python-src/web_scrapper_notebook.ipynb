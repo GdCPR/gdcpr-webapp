{
 "cells": [
  {
   "cell_type": "markdown",
   "metadata": {},
   "source": [
    "# Endi.com Web-Scrapper"
   ]
  },
  {
   "cell_type": "markdown",
   "metadata": {},
   "source": [
    "## Import Modules\n",
    "* requests -> to send HTTP/1.1 requests\n",
    "* bas4/BeautifulSoup -> parsing HTML documents\n",
    "* itertools -> counter functionality\n",
    "* spacy -> NLP\n",
    "* unidecode -> unicode to ASCII characters"
   ]
  },
  {
   "cell_type": "code",
   "execution_count": 1,
   "metadata": {},
   "outputs": [],
   "source": [
    "import requests\n",
    "import pandas as pd\n",
    "from bs4 import BeautifulSoup, element\n",
    "from itertools import count\n",
    "import spacy\n",
    "from unidecode import unidecode\n"
   ]
  },
  {
   "cell_type": "markdown",
   "metadata": {},
   "source": [
    "## Variables"
   ]
  },
  {
   "cell_type": "code",
   "execution_count": 2,
   "metadata": {},
   "outputs": [],
   "source": [
    "# Base url\n",
    "news_url= \"https://www.elnuevodia.com/noticias/seguridad\""
   ]
  },
  {
   "cell_type": "markdown",
   "metadata": {},
   "source": [
    "## Extract and Save HTML Content"
   ]
  },
  {
   "cell_type": "code",
   "execution_count": 3,
   "metadata": {},
   "outputs": [],
   "source": [
    "# Get request to base url\n",
    "news_html = requests.get(news_url)"
   ]
  },
  {
   "cell_type": "markdown",
   "metadata": {},
   "source": [
    "## Parse HTML Content"
   ]
  },
  {
   "cell_type": "code",
   "execution_count": 4,
   "metadata": {},
   "outputs": [],
   "source": [
    "# Creating soup of HTML text content with bs4 HTML parser\n",
    "main_soup = BeautifulSoup(news_html.text, 'html.parser')"
   ]
  },
  {
   "cell_type": "markdown",
   "metadata": {},
   "source": [
    "## Find Articles"
   ]
  },
  {
   "cell_type": "code",
   "execution_count": 5,
   "metadata": {},
   "outputs": [],
   "source": [
    "# find all articles by tag and class specification\n",
    "articles = main_soup.find_all('article', {'class': 'standard-teaser-container condensed-horizontal news'})"
   ]
  },
  {
   "cell_type": "markdown",
   "metadata": {},
   "source": [
    "## Function to Print Better Fictionaries"
   ]
  },
  {
   "cell_type": "code",
   "execution_count": 6,
   "metadata": {},
   "outputs": [],
   "source": [
    "def pretty_print_dict(d):\n",
    "    # From: https://www.geeksforgeeks.org/python-pretty-print-a-dictionary-with-dictionary-value/\n",
    "    #take empty string\n",
    "    pretty_dict = ''  \n",
    "        \n",
    "    #get items for dict\n",
    "    for k, v in d.items():\n",
    "        pretty_dict += f'{k}: \\n'\n",
    "        for value in v:\n",
    "            pretty_dict += f'    {value}: {v[value]}\\n'\n",
    "    #return result\n",
    "    return pretty_dict"
   ]
  },
  {
   "cell_type": "markdown",
   "metadata": {},
   "source": [
    "## Function to Extract Articles Data\n",
    "* Title\n",
    "* Path\n",
    "* url\n",
    "* Author"
   ]
  },
  {
   "cell_type": "code",
   "execution_count": 7,
   "metadata": {},
   "outputs": [],
   "source": [
    "def get_artcl_data(article: element.Tag) -> dict:\n",
    "        \"\"\"\n",
    "        Extract articles data from endi.com digital news paper.\n",
    "\n",
    "        Parameters\n",
    "        ----------\n",
    "        articles : ResultSet\n",
    "            list of query results\n",
    "\n",
    "        Returns\n",
    "        -------\n",
    "        dict\n",
    "            a dictionary containing article title, url, and author data\n",
    "\n",
    "        Raises\n",
    "        ------\n",
    "        Error Counter\n",
    "            when article not found\n",
    "        \"\"\"\n",
    "        try:\n",
    "            # Extract article title \n",
    "            article_headline= article.find(name= 'h3', attrs= {'class':'standard-teaser-headline teaser-headline'}).text\n",
    "            \n",
    "            # Extract article path\n",
    "            article_path= article.find(name= \"a\", href= True)['href']\n",
    "            \n",
    "            # Extract article url\n",
    "            article_url= \"https://www.elnuevodia.com{path}\".format(path= article_path)\n",
    "            \n",
    "            # Extract article author\n",
    "            article_author= article.find(\"div\", {\"class\": \"authors-byline-text\"}).text\n",
    "            \n",
    "            # Return dictionary with data\n",
    "            return {\"headline\": article_headline, \"url\": article_url, \"author\": article_author}\n",
    "        except:\n",
    "             # Print message is find error\n",
    "             print(\"¡No se encontró resultado!\")"
   ]
  },
  {
   "cell_type": "markdown",
   "metadata": {},
   "source": [
    "## Function to Extract Articles Content\n",
    "Alsi, it appends the contents into the given dictionary.\n",
    "* Subheadline\n",
    "* Date\n",
    "* Time\n",
    "* Content"
   ]
  },
  {
   "cell_type": "code",
   "execution_count": 8,
   "metadata": {},
   "outputs": [],
   "source": [
    "def get_artcl_content(article_data: dict) -> dict:\n",
    "    article_html = requests.get(article_data[\"url\"])\n",
    "    \n",
    "    article_soup= BeautifulSoup(article_html.text, \"html.parser\")\n",
    "    \n",
    "    headline_sub= article_soup.find(name= \"div\", attrs= {\"class\": \"article-headline__subheadline\"}).text\n",
    "    \n",
    "    article_date_time= (article_soup.find(name= \"div\", attrs= {\"class\": \"article-headline__date\"}).text).split(\"-\")\n",
    "    article_date= article_date_time[0].strip()\n",
    "    article_time= article_date_time[1].strip()\n",
    "    \n",
    "    article_content= article_soup.find_all(name= \"p\", attrs= {\"class\": \"content-element\"})\n",
    "    content= []\n",
    "    for __ in article_content: content.append(__.text)\n",
    "    content= \" \".join(content)\n",
    "    \n",
    "    return {\"headline_sub\": headline_sub, \"date\": article_date, \"time\": article_time, \"content\": content}"
   ]
  },
  {
   "cell_type": "markdown",
   "metadata": {},
   "source": [
    "## Iterate Articles and Construct Dictionary "
   ]
  },
  {
   "cell_type": "code",
   "execution_count": 9,
   "metadata": {},
   "outputs": [],
   "source": [
    "data_handler= {}\n",
    "stats_handler= {}\n",
    "\n",
    "for _ in zip(count(start= 1, step= 1), articles): data_handler[str(_[0])]= get_artcl_data(article= _[1])\n",
    "for _ in data_handler.keys(): data_handler[_].update(get_artcl_content(article_data= data_handler[_]))"
   ]
  },
  {
   "cell_type": "markdown",
   "metadata": {},
   "source": [
    "## Load Data of Municipalities of Puerto Rico"
   ]
  },
  {
   "cell_type": "code",
   "execution_count": 10,
   "metadata": {},
   "outputs": [],
   "source": [
    "# Store html tables\n",
    "# df_wiki= pd.read_html(\"https://en.wikipedia.org/wiki/Pueblos_in_Puerto_Rico#List_of_Pueblos\")\n",
    "municipalities_df = pd.read_csv(\"resources/puerto_rico_municipalities.txt\",\n",
    "                                sep= \" \",\n",
    "                                header= None,\n",
    "                                names= [\"municipality\"])\n",
    "\n",
    "# Filter for the first table and unique values from the Pueblos Column\n",
    "municipalities_list= [unidecode(municipality) for municipality in municipalities_df[\"municipality\"].values]"
   ]
  },
  {
   "cell_type": "markdown",
   "metadata": {},
   "source": [
    "## Configure spaCy model"
   ]
  },
  {
   "cell_type": "code",
   "execution_count": 11,
   "metadata": {},
   "outputs": [],
   "source": [
    "# Load the model\n",
    "npl= spacy.load(\"es_core_news_sm\")"
   ]
  },
  {
   "cell_type": "markdown",
   "metadata": {},
   "source": [
    "## Add municipalities to data handler\n",
    "!!!   Need to package this into a function   !!!"
   ]
  },
  {
   "cell_type": "code",
   "execution_count": 12,
   "metadata": {},
   "outputs": [],
   "source": [
    "# Iterate over data_handler\n",
    "for _ in count(start= 1, step= 1):\n",
    "    try:\n",
    "        # Get article content\n",
    "        body_text= unidecode(data_handler[str(_)][\"content\"])\n",
    "        headline_text= unidecode(data_handler[str(_)][\"content\"])\n",
    "        \n",
    "        # Analyze article content\n",
    "        body_doc= npl(body_text)\n",
    "        headline_doc= npl(headline_text)\n",
    "\n",
    "        # Store the pueblos found from the article content\n",
    "        municipalities_found_body= [ent.text.lower().replace(\" \", \"_\") for ent in body_doc.ents if ent.label_== \"LOC\"]\n",
    "        municipalities_found_headline= [ent.text.lower().replace(\" \", \"_\") for ent in headline_doc.ents if ent.label_== \"LOC\"]\n",
    " \n",
    "        # Validate model found words with pueblos de puerto rico list \n",
    "        municipalities_validated= (set(municipalities_found_body) & set(municipalities_list)) or (set(municipalities_found_headline) & set(municipalities_list))\n",
    "        data_handler[str(_)].update({\"pueblos\": list(municipalities_validated)}) \n",
    "        \n",
    "    except:\n",
    "        break"
   ]
  },
  {
   "cell_type": "markdown",
   "metadata": {},
   "source": [
    "## Final Data"
   ]
  },
  {
   "cell_type": "code",
   "execution_count": 13,
   "metadata": {},
   "outputs": [
    {
     "name": "stdout",
     "output_type": "stream",
     "text": [
      "1: \n",
      "    headline: Arrestan a unas 167 personas por embriaguez durante la pasada semanaLos agentes del Negociado de Patrullas de Carreteras realizaron un total de 18,532 intervenciones, según expusieron \n",
      "    url: https://www.elnuevodia.com/noticias/seguridad/notas/arrestan-a-unas-167-personas-por-embriaguez-durante-la-pasada-semana/\n",
      "    author: Por Alex Figueroa Cancel\n",
      "    headline_sub: Los agentes del Negociado de Patrullas de Carreteras realizaron un total de 18,532 intervenciones, según expusieron \n",
      "    date: 8 de julio de 2024\n",
      "    time: 11:35 AM\n",
      "    content: La Policía informó el lunes que agentes adscritos a las Patrullas de Carreteras arrestaron a unas 167 personas por conducir en estado de embriaguez durante la semana pasada, que incluyó días feriados. En comunicado de prensa, la agencia indicó, además, que los oficiales realizaron un total de 18,532 intervenciones, incluyendo seis por Ley de Armas, cuatro por sustancias controladas, dos por Obstrucción a la Justicia y una por Ley 54. Asimismo, intervinieron con 89 conductores no autorizados. “En medio de estas intervenciones, se ocuparon un total de cuatro pistolas, tres revólveres y 173 municiones. También, seis abastecedores con municiones. Por otro lado, en lo que respecta a sustancias controladas, se incautaron cinco frascos de marihuana, 21 bolsas de cocaína y ocho bolsas de marihuana”, indicó la Uniformada en el comunicado. Además, agregaron que también confiscaron seis vehículos y que se recuperó uno que había sido reportado como desaparecido. En total, obtuvieron $9,249 para confiscar y $9,000 en fianza. Mientras, en el fin de semana largo no se reportaron accidentes fatales. La cifra de muertes en las carreteras se encuentra en 136 en lo que va del año 2024, lo que representa 20 accidentes menos que los 156 reportados en el año 2023. La clasificación de los mismos para el año 2024 son: 46 conductores; 15 pasajeros; 29 peatones; 38 motociclistas; cinco ciclistas; dos jinetes y uno en four track.\n",
      "    pueblos: []\n",
      "2: \n",
      "    headline: Caso por disparos en playa de Vega Baja fue citado para la próxima semanaLos investigadores buscan más evidencia para analizar, con miras a radicar cargos\n",
      "    url: https://www.elnuevodia.com/noticias/seguridad/notas/caso-por-disparos-en-playa-de-vega-baja-fue-citado-para-la-proxima-semana/\n",
      "    author: Por Alex Figueroa Cancel\n",
      "    headline_sub: Los investigadores buscan más evidencia para analizar, con miras a radicar cargos\n",
      "    date: 8 de julio de 2024\n",
      "    time: 9:19 AM\n",
      "    content: Las autoridades citaron para el 18 de julio el caso relacionado a un hombre que disparó varias veces al aire durante un altercado en la playa Puerto Nuevo de Vega Baja. El coronel Manuel de Jesús, director de la rama investigativa de la Policía, indicó que la fecha establecida responde a la necesidad de tramitar pruebas pendientes con miras a una radicación de cargos. Explicó que la Fiscalía del Distrito de Bayamón solicitó “levantar evidencia”, especialmente la relacionada a los vídeos que captaron el incidente, algunos de los cuales han circulado a través de las redes sociales. Las imágenes muestran a un hombre con grillete en uno de sus tobillos, levantando su mano derecha cuando se escuchan las detonaciones. Los hechos se reportaron en la mañana del pasado 4 de julio, mientras que la Policía consultó al día siguiente, cuando surgió la petición de la prueba. “Se citó para el 18 de julio para dar tiempo (a los investigadores) a analizar la evidencia”, detalló De Jesús. En comunicado de prensa, la Policía informó que como sospechoso de haber disparado al aire fue arrestado un hombre de 28 años que cumple actualmente una probatoria federal tras cumplir una condena de cárcel por un caso de armas y drogas del 2018. Mientras, luego de un fin de semana largo, cuando no operó el Tribunal Federal en San Juan, en la mañana del lunes no se observaba en el expediente electrónico alguna notificación sobre violaciones a condiciones de libertad tras la intervención policiaca. En relación al incidente en la playa, también fueron detenidos un joven de 18 años y un menor de 17 años, luego de que surgiera una pelea entre varias personas a orillas del mar en el balenario.\n",
      "    pueblos: ['san_juan']\n",
      "3: \n",
      "    headline: Radican cargos contra un hombre que presuntamente agredió a su madre y le robó el carro en RincónEl imputado fue arrestado, posteriormente, en el estacionamiento de una escuela de Aguadilla\n",
      "    url: https://www.elnuevodia.com/noticias/seguridad/notas/radican-cargos-contra-un-hombre-que-presuntamente-agredio-a-su-madre-y-le-robo-el-carro-en-rincon/\n",
      "    author: Por Richard I. Colón Badillo\n",
      "    headline_sub: El imputado fue arrestado, posteriormente, en el estacionamiento de una escuela de Aguadilla\n",
      "    date: 7 de julio de 2024\n",
      "    time: 1:50 PMActualizado el 8 de julio de 2024\n",
      "    content: Un hombre de 27 años fue encarcelado durante la tarde del domingo luego que una jueza del Tribunal de Aguadilla encontrara causa para arresto por maltratar a su madre, una mujer de edad avanzada, y por usar un arma blanca en una residencia en la PR-414, kilómetro 0.3 del barrio Pueblo, en Rincón. La jueza Dinarah Mártir Hau señaló una fianza de $50,000 en contra del imputado, identificado como Manuel Alexis Ramos, la cual no fue prestada, siendo ingresado a la cárcel Las Cucharas en Ponce. Según un informe de la Policía, a las 4:30 a.m., Ramos llegó hasta la residencia de la mujer y le exigió dinero, a lo que esta le contestó que solo tenía $40. Al no estar satisfecho, el hombre supuestamente agredió a la mujer en diferentes partes del cuerpo, luego rompió un espejo y utilizó un pedazo de cristal para causarle una laceración en el brazo izquierdo. Tras esto, el individuo agarró una camiseta y la colocó alrededor del cuello de la mujer, provocando que esta cayera al piso. Posteriormente, el sujeto abandonó el lugar en el carro de su madre, un Toyota Corolla blanco del año 2004, sin autorización. El carro fue recuperado tras el arresto de Ramos en el estacionamiento de la antigua escuela Javariz, en el casco urbano de Aguadilla.\n",
      "    pueblos: ['rincon', 'aguadilla', 'ponce']\n",
      "4: \n",
      "    headline: Ciencias Forenses confirma que osamenta hallada en Río Grande corresponde a joven reportado como desaparecidoUna pesquisa en curso del Negociado Federal de Investigaciones (FBI, por sus siglas en inglés) por varios delitos violentos llevó, el pasado lunes, al hallazgo de Jomar Príncipe Rodríguez, de 18 años\n",
      "    url: https://www.elnuevodia.com/noticias/seguridad/notas/ciencias-forenses-confirma-que-osamenta-hallada-en-rio-grande-corresponde-a-joven-reportado-como-desaparecido/\n",
      "    author: Por Andrea Guemárez Soto\n",
      "    headline_sub: Una pesquisa en curso del Negociado Federal de Investigaciones (FBI, por sus siglas en inglés) por varios delitos violentos llevó, el pasado lunes, al hallazgo de Jomar Príncipe Rodríguez, de 18 años\n",
      "    date: 7 de julio de 2024\n",
      "    time: 4:43 PM\n",
      "    content: El Instituto de Ciencias Forenses (ICF) confirmó, mediante radiografías dentales, que los restos humanos hallados el pasado lunes en Río Grande corresponden a Jomar Príncipe Rodríguez, quien fue reportado como desaparecido desde diciembre del año pasado cuando fue visto por última vez en la urbanización Villas de Loíza, en Canóvanas. “Un familiar autorizado para el proceso de identificación fue notificado hoy de que el reporte de la odontóloga forense concluyó que los restos en custodia del ICF corresponden a Príncipe Rodríguez, reportado como desaparecido. La autopsia fue realizada y una vez concluya el análisis antropológico, los restos del joven estarán listos para ser entregados a la funeraria que seleccione la familia”, indicó la agencia mediante declaraciones escritas. El pasado 2 de julio, una pesquisa en curso del Negociado Federal de Investigaciones (FBI, por sus siglas en inglés) por varios delitos violentos llevó a agentes federales a la osamenta encontrada en la urbanización Estancias del Sol. Posteriormente, las autoridades estatales fueron informadas del hallazgo. El coronel Manuel de Jesús, director de la Rama Investigativa de la Policía, indicó a El Nuevo Día en ese momento que “las agencias federales tienen la investigación. Una información los llevó allí, buscaron en diferentes áreas y nos dan conocimiento por la colaboración que tenemos”. “Ellos tienen su investigación federal y nosotros tenemos la investigación por la desaparición. Seguimos trabajando en colaboración, y pendientes a los resultados de las pruebas (del ICF)”, agregó. Mientras, la portavoz del FBI en Puerto Rico, Limary Cruz Rubio, se limitó a indicar que “estamos colaborando con la Policía en el procesamiento de la evidencia, pero si alguien tiene información que pueda ayudarnos puede llamarnos al 787-987-6500″. El número de confidencias de la Policía de Puerto Rico es el 787-343-2020. Según supo El Nuevo Día, al momento no se descarta la posibilidad de “carjacking” y secuestro como ángulos a investigar en la pesquisa. Príncipe Rodríguez fue reportado desaparecido por su madre, Wilmarie Rodríguez Pizarro, el pasado 7 de diciembre luego de que presuntamente saliera con unas amistades para el pueblo de Río Grande y no regresara a su hogar.\n",
      "    pueblos: ['canovanas', 'rio_grande']\n",
      "5: \n",
      "    headline: Grave un peatón que fue atropellado en caso de “hit and run” en la avenida 65 de InfanteríaEl vehículo responsable fue descrito como un Toyota Yaris color gris\n",
      "    url: https://www.elnuevodia.com/noticias/seguridad/notas/grave-peaton-que-fue-atropellado-en-caso-de-hit-and-run-en-la-avenida-65-de-infanteria/\n",
      "    author: Por Richard I. Colón Badillo\n",
      "    headline_sub: El vehículo responsable fue descrito como un Toyota Yaris color gris\n",
      "    date: 7 de julio de 2024\n",
      "    time: 9:19 AMActualizado el 7 de julio de 2024\n",
      "    content: Un peatón se encuentra grave luego de que fuese atropellado en la avenida 65 de Infantería, en Río Piedras, por un conductor que abandonó la escena a las 3:17 a.m. del domingo. Según un informe de la Policía, la víctima fue transportada en condición de cuidado al Centro Médico en Río Piedras con lesiones graves. El auto responsable de impactar al hombre fue descrito como un Toyota Yaris gris, aunque no se pudo proveer el año del modelo o la tablilla. El perjudicado fue encontrado por agentes de la Uniformada luego de que una llamada al Sistema de Emergencia 9-1-1 alertara sobre los hechos. Al momento fue catalogado como “John Doe” y descrito como un hombre de tez negra vestido con camisa roja, mahón azul y sandalias. El caso es investigado por el Cuerpo de Investigaciones Criminales (CIC) de San Juan.\n",
      "    pueblos: ['san_juan']\n",
      "6: \n",
      "    headline: Hallan una osamenta humana en los predios de un edificio en Río PiedrasUna empresa subcontratada por LUMA Energy se encontraba verificando los contadores del lugar cuando dieron con el hallazgo\n",
      "    url: https://www.elnuevodia.com/noticias/seguridad/notas/hallan-una-osamenta-humana-en-los-predios-de-un-edificio-en-rio-piedras/\n",
      "    author: Por Richard I. Colón Badillo\n",
      "    headline_sub: Una empresa subcontratada por LUMA Energy se encontraba verificando los contadores del lugar cuando dieron con el hallazgo\n",
      "    date: 7 de julio de 2024\n",
      "    time: 10:16 AM\n",
      "    content: Una empleada de una empresa subcontratada por LUMA Energy descubrió una osamenta humana a eso de las 3:00 p.m. del sábado en los predios de un edificio abandonado, localizado en el antiguo Instituto Técnico Comercial, en la avenida Ponce de León, en Río Piedras. Según un informe de la Policía, la mujer hacía trabajos verificando contadores en el lugar cuando dio con los restos. La querellante fue entrevistada por los agentes y se le dio conocimiento al Cuerpo de Investigaciones Criminales (CIC) de San Juan. Una antropóloga forense que fue enviada a la escena certificó que la osamenta era humana. Este caso se da cinco días después que la Policía y el Negociado Federal de Investigaciones (FBI por sus siglas en inglés) colaboraran en la investigación de otra osamenta descubierta en la urbanización Estancias del Sol, en Río Grande.\n",
      "    pueblos: ['san_juan', 'rio_grande']\n",
      "7: \n",
      "    headline: Un hombre de 59 años se ahoga en la Poza del Ángel en Río GrandeLas autoridades fueron alertadas por una llamada al Sistema de Emergencias 9-1-1\n",
      "    url: https://www.elnuevodia.com/noticias/seguridad/notas/un-hombre-de-59-anos-se-ahoga-en-la-poza-del-angel-en-rio-grande/\n",
      "    author: Por Richard I. Colón Badillo\n",
      "    headline_sub: Las autoridades fueron alertadas por una llamada al Sistema de Emergencias 9-1-1\n",
      "    date: 7 de julio de 2024\n",
      "    time: 9:44 AM\n",
      "    content: Un hombre de 59 años murió ahogado en la llamada Poza del Ángel, localizada en la PR-191, cercana a la zona de El Yunque, en Río Grande. Según un informe de la Policía, las autoridades encontraron el cuerpo de Miguel Ángel Rosario Colón, residente de ese municipio, a orillas del cuerpo de agua tras una llamada al Sistema de Emergencia 9-1-1 alertar sobre la situación. Personal de Emergencias Médicas Estatal certificaron la falta de signos vitales del individuo. La investigación estuvo a cargo del Cuerpo de Investigaciones Criminales de Fajardo.\n",
      "    pueblos: ['rio_grande']\n",
      "8: \n",
      "    headline: Revelan la identidad de una de las víctimas en doble asesinato reportado en un residencial en AreciboLa Policía aún no cuenta con la identidad del hombre que también fue encontrado baleado en el apartamento\n",
      "    url: https://www.elnuevodia.com/noticias/seguridad/notas/revelan-la-identidad-de-una-de-las-victimas-en-doble-asesinato-reportado-en-un-residencial-en-arecibo/\n",
      "    author: Por Florencia García Melazzo y Richard I. Colón Badillo\n",
      "    headline_sub: La Policía aún no cuenta con la identidad del hombre que también fue encontrado baleado en el apartamento\n",
      "    date: 6 de julio de 2024\n",
      "    time: 7:53 PMActualizado el 7 de julio de 2024\n",
      "    content: El Negociado de la Policía investiga el hallazgo, en la noche del sábado, de los cuerpos baleados de un hombre y una mujer en el residencial Las Mesetas, en Arecibo. De acuerdo con la información preliminar, el incidente fue reportado a las 6:00 de la tarde en el apartamento 150 del edificio 5 en el mencionado complejo residencial. La mujer fue identificada como Camily Wilma Sosa Guzmán, de 37 años y residente del mencionado lugar. Por su parte, el hombre fue identificada como “John Doe” y descrito como de de tez blanca, de 25 a 35 años, aproximadamente, y vestía un pantalón corto, color azul. La Policía informó además que Sosa Guzmán poseía expediente criminal por apropiación ilegal agravada. Las autoridades encontraron ambos cuerpos sin vida y con múltiples heridas de bala, confirmó a El Nuevo Día el sargento Reynaldo Jiménez, de la División de Homicidios del Cuerpo de Investigaciones Criminales (CIC) de Arecibo. Los cuerpos fueron trasladados al Instituto de Ciencias Forenses para su identificación. En la escena,  se recuperaron casquillos de arma corta y se comprobó que la entrada al apartamento donde ocurrieron los hechos fue forzada, agregó Jiménez, quien además señaló que no cuentan con testigos de los hechos. Personal del Cuerpo de Investigaciones Criminales (CIC) de Arecibo está a cargo de la investigación.\n",
      "    pueblos: ['arecibo']\n",
      "9: \n",
      "    headline: Investigan si incendio reportado en Paseo Caribe se originó a causa de una persona que manejaba una estufa eléctricaEl fuego se registró el sábado en el complejo Laguna Plaza y no se reportaron heridos\n",
      "    url: https://www.elnuevodia.com/noticias/seguridad/notas/investigan-si-incendio-reportado-en-paseo-caribe-se-origino-a-causa-de-una-persona-que-manejaba-una-estufa-electrica/\n",
      "    author: Por Florencia García Melazzo y Richard I. Colón Badillo\n",
      "    headline_sub: El fuego se registró el sábado en el complejo Laguna Plaza y no se reportaron heridos\n",
      "    date: 6 de julio de 2024\n",
      "    time: 5:58 PM\n",
      "    content: Una persona que manipuló una estufa eléctrica pudo haber sido la causante de un incendio que se originó en el complejo Laguna Plaza en Paseo Caribe, en San Juan, en la tarde del sábado. Según informó la Policía en un informe de novedades, la querellante reveló que las cámaras de seguridad del restaurante Fogo de Chão, donde se cree comenzó el fuego en dos hornillas que se encontraban en el área de la cocina del local, apuntan a que una persona estaba utilizando el enser previo al suceso. El fuego luego pudo ser controlado por el personal de Bomberos y de la Oficina Municipal para Manejo de Emergencias de San Juan, quienes refirieron la investigación a la Policía. Además, trascendió que, como parte de la pesquisa, la Uniformada solicitó las grabaciones del establecimiento mediante un recurso de subpoena. Al momento, no hay un estimado de los daños causados por el incendio.\n",
      "    pueblos: ['san_juan']\n",
      "10: \n",
      "    headline: Feminicidios con múltiples víctimas: advierten sobre efectos de la violencia en las redes de apoyo El caso más reciente perpetrado en una égida, en el que el feminicida también mató a la madre de su expareja, podría provocar que otras víctimas no acudan a sus familiares temiendo por sus vidas\n",
      "    url: https://www.elnuevodia.com/noticias/seguridad/notas/feminicidios-con-multiples-victimas-advierten-sobre-efectos-de-la-violencia-en-las-redes-de-apoyo/\n",
      "    author: Por Adriana Díaz Tirado\n",
      "    headline_sub: El caso más reciente perpetrado en una égida, en el que el feminicida también mató a la madre de su expareja, podría provocar que otras víctimas no acudan a sus familiares temiendo por sus vidas\n",
      "    date: 6 de julio de 2024\n",
      "    time: 4:12 PM\n",
      "    content: En tres casos de los 14 feminicidios íntimos perpetrados en lo que va de año, madres de las víctimas y otras personas cercanas han resultado asesinadas en medio de estos incidentes de violencia de género. Esta dinámica de poder, en la que los agresores también asesinan a familiares de sus exparejas para luego culminar con su vida, pudiera tener efectos en las redes de apoyo que tienen otras víctimas que, quizás, teman buscar ayuda con sus allegados, coincidieron este sábado expertas en servicios a sobrevivientes. “El privarse de la vida luego de un feminicidio tiene mucho que ver con querer mantener el control de todo, de que ni siquiera haya ningún espacio para que me juzguen. Yo las mato y me mato después, y ahí acabó todo el tema. Es una cuestión bien enraizada en tener el poder absoluto sobre todo lo que está pasando”, explicó la abogada Josefina Pantoja Oquendo, portavoz del Observatorio de Equidad de Género de Puerto Rico. En el caso más reciente, perpetrado este viernes en una égida en Guaynabo, Richard Bernard Nieves mató a la madre de su hijo de 8 años, Sonia Maysonet Carrasco, de 35 años, y a su exsuegra, para terminar quitándose la vida. El feminicida, de 58 años y que no tenía historial criminal, acudió a la residencia de la abuela materna de su hijo y le disparó a su expareja con un arma de fuego, para la cual no portaba licencia, justo después que ella le abriera la puerta. La madre de la expareja de Bernad Nieves, Sonia Carrasco Díaz, de 64 años, era sobreviviente de cáncer y, en mayo de 2021, colocó en su foto de perfil de Facebook el filtro con la frase: “Nacimos para ser libres. No asesinadas”. En siete de los 14 casos íntimos registrados en lo que va de 2024, el feminicida se ha quitado la vida después de los actos y cuatro de ellos eran adultos de más de 55 años. Pantoja Oquendo, también representante de la Comisión de la Mujer del Colegio de Abogados y Abogadas de Puerto Rico, reconoció cómo estos casos intimidan a otras víctimas de violencia de género y a su círculo cercano. “Envía un mensaje a los vecinos, familiares de: ‘No me voy a meter en eso’. Sí, (estos feminicidios) afectan las redes de protección y de seguridad que otra sobreviviente pueda tener”, enfatizó Pantoja Oquendo. Del mismo modo, la directora ejecutiva de Casa Juana Colón, Janice Soliván Roig, planteó la necesidad de expandir los servicios a los menores que son víctimas secundarias, como este caso de Guaynabo, en el que un niño perdió a tres seres queridos. “Como organización, nos sentimos cada vez más vulnerables porque los agresores ya no tienen límites de dónde a acudir a cometer actos contra las sobrevivientes. Entran a áreas laborables, residenciales de sus familias e inclusive al cuartel de la Policía. Hemos tenido que incurrir en otros gastos para proteger en la medida máxima que se pueda no solamente a las sobrevivientes, sino también al personal que queda en una situación de mucha vulnerabilidad”, expuso Soliván Roig, quien asiste sobrevivientes en Comerío. Entretanto, ambas entrevistadas señalaron la conexión entre la flexibilización de las armas de fuego con los aumentos de los feminicidios con múltiples víctimas durante este año. “Hay un vínculo bien grande, ya pautado, entre el uso de armas y los feminicidios. (…) Se amplía tu poder de provocar miedo o amenazar. Es más fácil tomar la decisión porque tiene el método ahí para quitarle la vida a la otra persona. Por otro lado, si andas con un revólver sin licencia, ya tú tienes la predisposición porque violaste la ley”, planteó Pantoja Oquendo. ---- Tanto la Policía como la Oficina de la Procuradora de las Mujeres tienen herramientas para atender, confidencialmente, cualquier señalamiento o querella sobre un patrón de abuso, maltrato o situación por violencia de género. Si atraviesas por una emergencia o incidente que requiere la intervención inmediata de las autoridades, llama al Sistema de Emergencias 9-1-1. Si eres o conoces de una persona que atraviesa un patrón similar, puedes comunicarte con la Policía al 787-792-6734 o 787-343-2020, así como con la Oficina de la Procuradora de las Mujeres al 787-722-2977. Asimismo, Coordinadora Paz para las Mujeres cuenta con un directorio de organizaciones y servicios para buscar ayuda. Otro recurso podría ser solicitar una orden de protección contra su agresor: conoce cómo puedes hacerlo pulsando aquí.\n",
      "    pueblos: ['guaynabo']\n",
      "11: \n",
      "    headline: Investigan muerte de joven en Bayamón por aparente envenenamiento La madre del fallecido de 20 años dijo que un amigo de su hijo le alertó que lo encontró convulsionando en su residencia  \n",
      "    url: https://www.elnuevodia.com/noticias/seguridad/notas/investigan-muerte-de-joven-en-bayamon-por-aparente-envenenamiento/\n",
      "    author: Por Florencia García Melazzo\n",
      "    headline_sub: La madre del fallecido de 20 años dijo que un amigo de su hijo le alertó que lo encontró convulsionando en su residencia  \n",
      "    date: 6 de julio de 2024\n",
      "    time: 3:55 PM\n",
      "    content: Las autoridades investigan la muerte de un joven de 20 años que fue declarado muerto en la mañana del sábado en un hospital de Bayamón y presentó síntomas compatibles con envenenamiento, informó la oficina de prensa de la Policía. Según el informe preliminar, la madre del joven fallecido, identificado como Gabriel A. Cruz Rivera, indicó que alrededor de las 4:40 de la madrugada, un amigo de su hijo la alertó que, presuntamente, tras haber compartido con él en su residencia ubicada en la urbanización Parque San Miguel de Bayamón, lo encontró convulsionando y sangrando en el suelo al salir de su cuarto. Los paramédicos acudieron al lugar y transportaron a Cruz Rivera a una institución hospitalaria cercana en condición crítica. Allí, el médico de turno señaló que los síntomas del perjudicado eran compatibles con un envenenamiento y, posteriormente, certificó su muerte a las 11:14 de la mañana del sábado. El reporte de la Uniformada menciona que Cruz Rivera tenía un grillete electrónico en una de sus piernas. Se indicó además que la madre del joven afirmó que este no padecía de ninguna enfermedad. Personal del Cuerpo de Investigaciones Criminales de Bayamón se hizo cargo de la investigación para esclarecer las circunstancias de esta muerte.\n",
      "    pueblos: []\n",
      "12: \n",
      "    headline: Hombre fallece mientras realizaba labores de poda de árboles en PonceLa Policía informó que otro sujeto resultó herido \n",
      "    url: https://www.elnuevodia.com/noticias/seguridad/notas/hombre-fallece-mientras-realizaba-labores-de-poda-de-arboles-en-ponce/\n",
      "    author: Por Yaritza Rivera Clemente\n",
      "    headline_sub: La Policía informó que otro sujeto resultó herido \n",
      "    date: 6 de julio de 2024\n",
      "    time: 2:50 PM\n",
      "    content: El Negociado de la Policía investiga como un “incidente desgraciado” la muerte de un hombre que realizaba labores de poda de árboles en la urbanización Haciendas del Monte, ubicada en la carretera 14, en Ponce. De acuerdo a un informe de novedades, el incidente -donde también un hombre resultó herido- fue reportado a las autoridades a las 12:55 p.m., de este sábado. Al momento, los perjudicados no han sido identificados. La Uniformada precisó que paramédicos se movilizaron al lugar de los hechos y le brindaron asistencia médica al hombre que resultó herido, por lo que fue transportado a una institución hospitalaria y se desconoce su condición. Agentes del Cuerpo de Investigaciones Criminales (CIC) de Ponce tienen a cargo la pesquisa.\n",
      "    pueblos: ['ponce']\n",
      "13: \n",
      "    headline: Le roban la guagua y las herramientas de trabajo a una agente de la Policía en Guayama Los hechos se reportaron en la noche del viernes \n",
      "    url: https://www.elnuevodia.com/noticias/seguridad/notas/le-roban-la-guagua-y-las-herramientas-de-trabajo-a-una-agente-de-la-policia-en-guayama/\n",
      "    author: Por Yaritza Rivera Clemente\n",
      "    headline_sub: Los hechos se reportaron en la noche del viernes \n",
      "    date: 6 de julio de 2024\n",
      "    time: 2:26 PM\n",
      "    content: La guagua de una agente del Negociado de la Policía de Puerto Rico (NPPR) fue hurtada en la noche del viernes del estacionamiento del centro comercial Céntrico, en el municipio de Guayama, informó la Uniformada. De acuerdo al informe de novedades, la querella fue presentada a las 9:20 p.m. y la perjudicada denunció que alguien se apropió de su guagua marca Kia, modelo Sportage, del año 2020, con la tablilla JKR-169. La Uniformada detalló que dentro del vehículo había herramientas de trabajo, tales como “un chaleco antibalas, un radio JCV Kenwood, un chaleco protector, gorra con corona, todos pertenecientes al NPPR”. Este caso fue referido a la División de Vehículos Hurtados, del Cuerpo de Investigaciones Criminales (CIC) de Guayama, para la pesquisa correspondiente\n",
      "    pueblos: ['guayama']\n",
      "14: \n",
      "    headline: Policías frustran robo de motora deportiva en la madrugada del sábado en Hato ReyAl percatarse de la presencia de los agentes, los ladrones abandonaron el vehículo en una calle aledaña \n",
      "    url: https://www.elnuevodia.com/noticias/seguridad/notas/policias-frustran-robo-de-motora-deportiva-en-la-madrugada-del-sabado-en-hato-rey/\n",
      "    author: Por Agustín Criollo Oquero\n",
      "    headline_sub: Al percatarse de la presencia de los agentes, los ladrones abandonaron el vehículo en una calle aledaña \n",
      "    date: 6 de julio de 2024\n",
      "    time: 2:03 PM\n",
      "    content: Agentes de la Uniformada lograron frustrar el robo de una motora en una residencia de Hato Rey durante la madrugada del sábado, informó el Negociado de la Policía (NPPR). Según el informe preliminar, agentes adscritos al precinto de Hato Rey Oeste fueron alertados a las 12:50 a.m. de hoy sobre enmascarados que hurtaban una motora deportiva Endurance, modelo 200 color anaranjado, de una residencia en la calle Héctor Salamán de ese sector del área metropolitana de San Juan. Al llegar los agentes, los ladrones, quienes vestían ropa negra y cubrían sus rostros, se percataron de la presencia de la Policía y abandonaron la motora unos metros más adelante, en la calle Ingeniero José Canals. Posteriormente, los agentes lograron localizar a la dueña del vehículo a través del registro de la motora, quien realizó gestiones para recuperar su propiedad. El agente Eric López, adscrito al precinto de Hato Rey Oeste, investigó el incidente.\n",
      "    pueblos: ['san_juan']\n",
      "15: \n",
      "    headline: Asesinan a un hombre cerca de un parque de pelota en Canóvanas El joven Jonathan Rodríguez Santiago, de 30 años, corría bicicleta cuando fue interceptado por unos individuos que le dispararon desde un vehículo\n",
      "    url: https://www.elnuevodia.com/noticias/seguridad/notas/asesinan-a-un-hombre-cerca-de-un-parque-de-pelotas-en-canovanas/\n",
      "    author: Por Yaritza Rivera Clemente\n",
      "    headline_sub: El joven Jonathan Rodríguez Santiago, de 30 años, corría bicicleta cuando fue interceptado por unos individuos que le dispararon desde un vehículo\n",
      "    date: 6 de julio de 2024\n",
      "    time: 12:23 PM\n",
      "    content: Un hombre fue asesinado a las 10:54 a.m. de este sábado mientras corría bicicleta cerca de un parque de pelota en la calle 28, de la urbanización Jardines de Palmarejo, en Canóvanas, informó el Negociado de la Policía. Según el informe de novedades, las autoridades fueron alertadas a través de una llamada realizada al Sistema de Emergencias 9-1-1 sobre unos disparos en el lugar. Cuando llegaron a la escena, los agentes encontraron a un hombre muerto con varias heridas de bala. La Policía confirmó que el occiso fue identificado como Jonathan Rodríguez Santiago, de 30 años. Sin embargo, aún se desconoce el móvil de los hechos. Rodríguez Santiago tenía expediente criminal por violencia doméstica, precisó la Uniformada. De la investigación preliminar se desprende que mientras la víctima se dirigía en su bicicleta por la calle “fue interceptado por varios individuos en un vehículo color vino, desde el cual le realizaron múltiples disparos”, precisó la Uniformada en su más reciente informe. El agente Edgar Ribot, de la División de Homicidios del Cuerpo de Investigaciones Criminales de Carolina, bajo la supervisión del sargento Felipe Rodríguez y el teniente Félix Mateo Torres, se hizo cargo de la pesquisa, en unión al fiscal José Carrasquillo Santana.\n",
      "    pueblos: ['canovanas']\n",
      "16: \n",
      "    headline: Aparece hombre de 74 años por el que se activó la Alerta Silver Josué Santiago Rosario fue hallado en buen estado de salud en Plaza del Sol en Bayamón \n",
      "    url: https://www.elnuevodia.com/noticias/seguridad/notas/aparece-hombre-de-74-anos-por-el-que-se-activo-la-alerta-silver/\n",
      "    author: Por Yaritza Rivera Clemente\n",
      "    headline_sub: Josué Santiago Rosario fue hallado en buen estado de salud en Plaza del Sol en Bayamón \n",
      "    date: 6 de julio de 2024\n",
      "    time: 10:24 AM\n",
      "    content: El Negociado de la Policía confirmó que el septuagenario por el que se había activado la Alerta Silver, fue hallado en buen estado de salud en los predios de la tienda Pep Boys, en el centro comercial Plaza del Sol, en Bayamón. El hombre identificado como Josué Santiago Rosario, de 74 años y está diagnosticado con una condición cognitiva– ya se encuentra en su residencia junto a su familia, confirmó la Uniformada a El Nuevo Día. A raíz de la aparición, el comisionado de la Policía, Antonio López Figueroa, ordenó la desactivación de la alerta. Como parte del protocolo, será transportado a una institución hospitalaria para un examen general. Más temprano, el hombre fue descrito como de 5′06″, de tez blanca, el cabello blanco, ojos negros y peso aproximado de 115 libras. “Como señas particulares tiene barba canosa y frondosa, utiliza gorras que en el interior tiene su nombre y número de teléfono”, informó la Uniformada. Santiago Rosario había sido visto por última vez el viernes a las 5:30 de la tarde, cuando salió de su residencia en la calle Camino de Hostal, de la urbanización Quintas del Río, en Bayamón. Al momento de su desaparición, vestía camisa azul marino con cuello y mangas con franjas blancas; pantalón sudadera largo gris y tenis negros. La Policía había solicitado la cooperación de los ciudadanos para dar con su paradero. La Alerta Silver tiene como objetivo difundir información rápida sobre la desaparición de adultos mayores de 60 años con condiciones de Alzheimer u otras formas de demencia. Según la Ley 132 de 2009, “la Policía será la agencia primaria responsable de operar el Plan y determinar si procede o no emitir la alerta”.\n",
      "    pueblos: ['bayamon']\n",
      "17: \n",
      "    headline: Buscan a conductor que abandonó escena de peatón atropellado en Río PiedrasEl perjudicado por el “hit and run” se encontraba en condición de cuidado\n",
      "    url: https://www.elnuevodia.com/noticias/seguridad/notas/buscan-a-conductor-que-abandono-escena-de-peaton-atropellado-en-rio-piedras/\n",
      "    author: Por Alex Figueroa Cancel\n",
      "    headline_sub: El perjudicado por el “hit and run” se encontraba en condición de cuidado\n",
      "    date: 5 de julio de 2024\n",
      "    time: 7:20 AMActualizado el 6 de julio de 2024\n",
      "    content: Las autoridades buscan a una persona que atropelló a un hombre y abandonó la escena en la madrugada de este viernes en Río Piedras. El “hit and run” fue reportado a eso de las 5:19 a.m., específicamente en la carretera PR-181, frente al local de Auto Paint Center, en dirección hacia el residencial El Prado. En comunicado de prensa, la Policía indicó que, según la información preliminar, un hombre que “no ha sido identificado se encontraba por la carretera antes mencionada, cuando fue impactado por un vehículo, el cual abandonó la escena”. El peatón fue descrito como de tez negra, ojos marrones, rapado, de 280 a 300 libras y tiene una estatura de 6′2. El mismo vestía camiseta color azul marino, pantalón largo deportivo color negro, tipo “jogger” y tenis deportivas color negras y blancas, según la Policía. El perjudicado fue atendido en el lugar por paramédicos y transportado al hospital Centro Médico de Río Piedras en condición de cuidado. Agentes adscritos al Precinto de Río Piedras y la División de Patrullas y Carreteras del área de San Juan investigan el caso. “Se exhorta a la ciudadanía que de poseer información que ayude al esclarecimiento de casos, favor de llamar al 787-343-2020″, apuntó el comunicado de la Policía. “También, pueden escribirnos a través de Twitter o Facebook”.\n",
      "    pueblos: []\n",
      "18: \n",
      "    headline: Reportan robo domiciliario donde amarraron a la víctima y cargaron con $7,000 en efectivo en GuaynaboTres sujetos enmascarados y vestidos de negro habrían entrado a la residencia y realizado el asalto luego de inmovilizar al residente \n",
      "    url: https://www.elnuevodia.com/noticias/seguridad/notas/reportan-robo-domiciliario-donde-amarraron-a-la-victima-y-cargaron-con-7000-en-efectivo-en-guaynabo/\n",
      "    author: Por Agustín Criollo Oquero\n",
      "    headline_sub: Tres sujetos enmascarados y vestidos de negro habrían entrado a la residencia y realizado el asalto luego de inmovilizar al residente \n",
      "    date: 4 de julio de 2024\n",
      "    time: 1:11 PMActualizado el 4 de julio de 2024\n",
      "    content: Un supuesto robo domiciliario perpetrado en una residencia de una exclusiva urbanización en Guaynabo fue reportado por la víctima a eso de las 10:15 de la mañana del jueves, informó el Negociado de la Policía (NPPR). Según señala el informe preliminar, agentes de la Policía Municipal de Guaynabo investigaron preliminarmente una querella sobre un robo domiciliario donde, presuntamente, tres individuos vestidos de negro y con el rostro cubierto entraron a una residencia, ubicada en la avenida Ramírez de Arellano de la urbanización Torrimar, ataron de manos al perjudicado y procedieron a iniciar el asalto. Los desconocidos lograron cargar con $7,000 en efectivo, las llaves de dos automóviles, un bulto y documentos personales. Luego, se marcharon del lugar sin ocasionarle daño físico al residente. La agente municipal Yaira Rodríguez investigó preliminarmente la querella y refirió el caso a la División de Robos del CIC de Bayamón para que continúen con la pesquisa.\n",
      "    pueblos: ['bayamon']\n",
      "19: \n",
      "    headline: Roban $500,000 en prendas y efectivo durante escalamiento de residencia en HatilloSegún la querellante, desconocidos forzaron la puerta de su residencia y cargaron con joyas y dinero en efectivo de una caja fuerte \n",
      "    url: https://www.elnuevodia.com/noticias/seguridad/notas/roban-500000-en-prendas-y-efectivo-durante-escalamiento-de-residencia-en-hatillo/\n",
      "    author: Por Agustín Criollo Oquero\n",
      "    headline_sub: Según la querellante, desconocidos forzaron la puerta de su residencia y cargaron con joyas y dinero en efectivo de una caja fuerte \n",
      "    date: 4 de julio de 2024\n",
      "    time: 11:28 AM\n",
      "    content: Desconocidos cargaron con un botín de miles de dólares en prendas y efectivo durante un escalamiento reportado el miércoles en una residencia de Hatillo, informó el Negociado de la Policía (NPPR). Según el informe preliminar, la querellante, residente en la calle Guayacán en el sector Quiñones del barrio Pueblo de ese municipio, denunció el miércoles a las 6:41 p.m. que alguien forzó la puerta principal de su residencia logrando acceso al interior y abriendo la caja fuerte que se encontraba en el cuarto principal, de donde tomaron varias joyas valoradas aproximadamente en $500,000 así como $500 en efectivo. El agente Ángel Manuel Vázquez, adscrito al Distrito de la Policía en Hatillo , investigó la querella preliminarmente mientras que la División de Delitos contra la Propiedad del CIC de Arecibo continúa con la pesquisa.\n",
      "    pueblos: ['hatillo']\n",
      "20: \n",
      "    headline: Conductor es víctima de “carjacking” mientras esperaba en una intersección en CatañoEl perjudicado aseguró que mientras esperaba el cambio de luz, un desconocido lo despojó del vehículo \n",
      "    url: https://www.elnuevodia.com/noticias/seguridad/notas/conductor-es-victima-de-carjacking-mientras-esperaba-en-una-interseccion-en-catano/\n",
      "    author: Por Agustín Criollo Oquero\n",
      "    headline_sub: El perjudicado aseguró que mientras esperaba el cambio de luz, un desconocido lo despojó del vehículo \n",
      "    date: 4 de julio de 2024\n",
      "    time: 7:58 AM\n",
      "    content: Un robo de automóvil a mano armada (carjacking) se registró en la madrugada del jueves en la carretera PR-167, jurisdicción de Cataño, informó el Negociado de la Policía (NPPR). Según el informe preliminar, una llamada a la 1:28 a.m. de hoy alertó a la Policía sobre un carjacking ocurrido en esa carretera, intersección con la avenida Sabana Seca, en el mencionado municipio. El querellante, un conductor de 26 años, aseguró que mientras se encontraba detenido frente al semáforo en la intersección esperando el cambio de luz, un sujeto portando un arma de fuego, mediante amenaza e intimidación, lo despojó del vehículo marca Jeep, modelo Cherokee color blanco de 2023. El asaltante se marchó del lugar sin hacerle daño al perjudicado. El caso fue investigado inicialmente por el agente Miguel Vázquez, adscrito al distrito policiaco de Cataño y referido posteriormente a la División de Robo del Cuerpo de Investigaciones Criminales (CIC) de Bayamón, para que continúen con la pesquisa.\n",
      "    pueblos: ['catano', 'bayamon']\n",
      "21: \n",
      "    headline: Policía no descarta feminicidio tras la muerte de una joven de 26 años en FajardoInicialmente, se reportó que Neishmarie Estrada Serrano se habría privado de la vida el pasado domingo\n",
      "    url: https://www.elnuevodia.com/noticias/seguridad/notas/policia-no-descarta-feminicidio-tras-la-muerte-de-una-joven-de-26-anos-en-fajardo/\n",
      "    author: Por Florencia García Melazzo\n",
      "    headline_sub: Inicialmente, se reportó que Neishmarie Estrada Serrano se habría privado de la vida el pasado domingo\n",
      "    date: 3 de julio de 2024\n",
      "    time: 6:34 PMActualizado el 3 de julio de 2024\n",
      "    content: Las circunstancias en torno a la muerte de una joven de 26 años, identificada como Neishmarie Estrada Serrano, inicialmente reportada como un suicidio el pasado domingo, en Fajardo, están siendo investigadas sin descartar un posible feminicidio, según aclaró el miércoles el comisionado del Negociado de la Policía, Antonio López Figueroa. “Desde el primer momento, hemos activado el Protocolo de Feminicidio y estamos llevando a cabo una investigación meticulosa a cargo de la división de Violencia Doméstica y el CIC de Fajardo. No descartamos ninguna hipótesis y estamos tratando este caso con la seriedad que merece”, expresó López Figueroa en declaraciones escritas. El incidente se reportó a las 8:17 de la noche del domingo, 30 de junio, en el Condominio La Loma, en Fajardo, luego de recibir una llamada al Sistema de Emergencias 9-1-1 que alertó sobre la situación. Al llegar al lugar, los agentes encontraron el cuerpo de Estrada Serrano en una de las habitaciones de su residencia. Personal del Cuerpo de Investigaciones Criminales de Fajardo, en colaboración con el fiscal Eliezer Reyes, se hicieron cargo de la pesquisa. “Los familiares de Neishmarie pueden tener la certeza de que estamos poniendo todos los recursos necesarios para realizar una investigación profunda, sin prisa, pero diligente, para dar con la verdad de los hechos”, agregó López Figueroa.\n",
      "    pueblos: ['fajardo']\n",
      "22: \n",
      "    headline: Arrestan a uno de los más buscados del área de MayagüezEl Negociado de la Policía confirmó que el hombre de 60 años fue detenido en San Germán\n",
      "    url: https://www.elnuevodia.com/noticias/seguridad/notas/arrestan-a-uno-de-los-mas-buscados-del-area-de-mayaguez-4/\n",
      "    author: Por Yaritza Rivera Clemente\n",
      "    headline_sub: El Negociado de la Policía confirmó que el hombre de 60 años fue detenido en San Germán\n",
      "    date: 3 de julio de 2024\n",
      "    time: 4:32 PM\n",
      "    content: Un hombre que figuraba en la lista de los más buscados del Negociado de la Policía en el área de Mayagüez y contra quien pesaban dos órdenes de arresto por apropiación ilegal, escalamiento y conspiración, entre otros delitos, fue detenido este miércoles en San Germán, confirmó la Uniformada. De acuerdo con el informe de novedades, Wally Custodio Vargas, alias Wally, de 60 años y vecino de Mayagüez, el arresto fue efectuado a las 12:50 p.m., en la avenida Los Veteranos, calle Del Río, en San Germán, por agentes de la Policía, adscritos a la División de Arrestos de Mayagüez. Contra Custodio Vargas pesaba una fianza de $100,000 por hechos que se remontan al 8 de junio cuando se alega que, presuntamente, impactó con su auto a un policía estatal cuando se disponía a arrestarlo en la gasolinera Gulf, que ubica en la carretera PR-106, kilómetro 2, en Mayagüez. Por este caso, la fiscal Francés Bravo radicó cargos por conspiración, amenazas o atentados contra funcionarios del sistema de justicia o sus familiares e imprudencia y negligencia, tipificados en el Código Penal y la Ley de Tránsito, informó el Negociado de la Policía. Además, contra el hombre pesaba otra orden de arresto por apropiarse de productos de la tienda Walmart en Mayagüez. Al momento de su arresto, la Policía le ocupó a Custodio Vargas una pistola falsa, dos celulares y dinero en efectivo. Durante la intervención, también fue arrestada Ivelisse Rodríguez Martínez, de 40 años, contra quien también pesaba una orden de arresto por desacato al tribunal con una fianza de $25 mil. Ambos detenidos son sospechosos de varias apropiaciones ilegales y robos en el área oeste por lo que serán entrevistados por agentes del Cuerpo de Investigaciones Criminales (CIC) del área, para la radicación de cargos. La Policía hizo un llamado a personas que entiendan que han sido víctimas de ambas personas a que se comunique al CIC de Mayagüez al 787-832-9696, extensión 1512, o a la línea confidencial de la Policía al 787-343-2020. Toda llamada será estrictamente confidencial.\n",
      "    pueblos: ['mayaguez', 'san_german']\n",
      "23: \n",
      "    headline: Investigan muerte de joven en Bayamón por aparente envenenamiento La madre del fallecido de 20 años dijo que un amigo de su hijo le alertó que lo encontró convulsionando en su residencia  \n",
      "    url: https://www.elnuevodia.com/noticias/seguridad/notas/investigan-muerte-de-joven-en-bayamon-por-aparente-envenenamiento/\n",
      "    author: Por Florencia García Melazzo\n",
      "    headline_sub: La madre del fallecido de 20 años dijo que un amigo de su hijo le alertó que lo encontró convulsionando en su residencia  \n",
      "    date: 6 de julio de 2024\n",
      "    time: 3:55 PM\n",
      "    content: Las autoridades investigan la muerte de un joven de 20 años que fue declarado muerto en la mañana del sábado en un hospital de Bayamón y presentó síntomas compatibles con envenenamiento, informó la oficina de prensa de la Policía. Según el informe preliminar, la madre del joven fallecido, identificado como Gabriel A. Cruz Rivera, indicó que alrededor de las 4:40 de la madrugada, un amigo de su hijo la alertó que, presuntamente, tras haber compartido con él en su residencia ubicada en la urbanización Parque San Miguel de Bayamón, lo encontró convulsionando y sangrando en el suelo al salir de su cuarto. Los paramédicos acudieron al lugar y transportaron a Cruz Rivera a una institución hospitalaria cercana en condición crítica. Allí, el médico de turno señaló que los síntomas del perjudicado eran compatibles con un envenenamiento y, posteriormente, certificó su muerte a las 11:14 de la mañana del sábado. El reporte de la Uniformada menciona que Cruz Rivera tenía un grillete electrónico en una de sus piernas. Se indicó además que la madre del joven afirmó que este no padecía de ninguna enfermedad. Personal del Cuerpo de Investigaciones Criminales de Bayamón se hizo cargo de la investigación para esclarecer las circunstancias de esta muerte.\n",
      "    pueblos: []\n",
      "24: \n",
      "    headline: Hombre fallece mientras realizaba labores de poda de árboles en PonceLa Policía informó que otro sujeto resultó herido \n",
      "    url: https://www.elnuevodia.com/noticias/seguridad/notas/hombre-fallece-mientras-realizaba-labores-de-poda-de-arboles-en-ponce/\n",
      "    author: Por Yaritza Rivera Clemente\n",
      "    headline_sub: La Policía informó que otro sujeto resultó herido \n",
      "    date: 6 de julio de 2024\n",
      "    time: 2:50 PM\n",
      "    content: El Negociado de la Policía investiga como un “incidente desgraciado” la muerte de un hombre que realizaba labores de poda de árboles en la urbanización Haciendas del Monte, ubicada en la carretera 14, en Ponce. De acuerdo a un informe de novedades, el incidente -donde también un hombre resultó herido- fue reportado a las autoridades a las 12:55 p.m., de este sábado. Al momento, los perjudicados no han sido identificados. La Uniformada precisó que paramédicos se movilizaron al lugar de los hechos y le brindaron asistencia médica al hombre que resultó herido, por lo que fue transportado a una institución hospitalaria y se desconoce su condición. Agentes del Cuerpo de Investigaciones Criminales (CIC) de Ponce tienen a cargo la pesquisa.\n",
      "    pueblos: ['ponce']\n",
      "25: \n",
      "    headline: Le roban la guagua y las herramientas de trabajo a una agente de la Policía en Guayama Los hechos se reportaron en la noche del viernes \n",
      "    url: https://www.elnuevodia.com/noticias/seguridad/notas/le-roban-la-guagua-y-las-herramientas-de-trabajo-a-una-agente-de-la-policia-en-guayama/\n",
      "    author: Por Yaritza Rivera Clemente\n",
      "    headline_sub: Los hechos se reportaron en la noche del viernes \n",
      "    date: 6 de julio de 2024\n",
      "    time: 2:26 PM\n",
      "    content: La guagua de una agente del Negociado de la Policía de Puerto Rico (NPPR) fue hurtada en la noche del viernes del estacionamiento del centro comercial Céntrico, en el municipio de Guayama, informó la Uniformada. De acuerdo al informe de novedades, la querella fue presentada a las 9:20 p.m. y la perjudicada denunció que alguien se apropió de su guagua marca Kia, modelo Sportage, del año 2020, con la tablilla JKR-169. La Uniformada detalló que dentro del vehículo había herramientas de trabajo, tales como “un chaleco antibalas, un radio JCV Kenwood, un chaleco protector, gorra con corona, todos pertenecientes al NPPR”. Este caso fue referido a la División de Vehículos Hurtados, del Cuerpo de Investigaciones Criminales (CIC) de Guayama, para la pesquisa correspondiente\n",
      "    pueblos: ['guayama']\n",
      "26: \n",
      "    headline: Policías frustran robo de motora deportiva en la madrugada del sábado en Hato ReyAl percatarse de la presencia de los agentes, los ladrones abandonaron el vehículo en una calle aledaña \n",
      "    url: https://www.elnuevodia.com/noticias/seguridad/notas/policias-frustran-robo-de-motora-deportiva-en-la-madrugada-del-sabado-en-hato-rey/\n",
      "    author: Por Agustín Criollo Oquero\n",
      "    headline_sub: Al percatarse de la presencia de los agentes, los ladrones abandonaron el vehículo en una calle aledaña \n",
      "    date: 6 de julio de 2024\n",
      "    time: 2:03 PM\n",
      "    content: Agentes de la Uniformada lograron frustrar el robo de una motora en una residencia de Hato Rey durante la madrugada del sábado, informó el Negociado de la Policía (NPPR). Según el informe preliminar, agentes adscritos al precinto de Hato Rey Oeste fueron alertados a las 12:50 a.m. de hoy sobre enmascarados que hurtaban una motora deportiva Endurance, modelo 200 color anaranjado, de una residencia en la calle Héctor Salamán de ese sector del área metropolitana de San Juan. Al llegar los agentes, los ladrones, quienes vestían ropa negra y cubrían sus rostros, se percataron de la presencia de la Policía y abandonaron la motora unos metros más adelante, en la calle Ingeniero José Canals. Posteriormente, los agentes lograron localizar a la dueña del vehículo a través del registro de la motora, quien realizó gestiones para recuperar su propiedad. El agente Eric López, adscrito al precinto de Hato Rey Oeste, investigó el incidente.\n",
      "    pueblos: ['san_juan']\n",
      "27: \n",
      "    headline: Asesinan a un hombre cerca de un parque de pelota en Canóvanas El joven Jonathan Rodríguez Santiago, de 30 años, corría bicicleta cuando fue interceptado por unos individuos que le dispararon desde un vehículo\n",
      "    url: https://www.elnuevodia.com/noticias/seguridad/notas/asesinan-a-un-hombre-cerca-de-un-parque-de-pelotas-en-canovanas/\n",
      "    author: Por Yaritza Rivera Clemente\n",
      "    headline_sub: El joven Jonathan Rodríguez Santiago, de 30 años, corría bicicleta cuando fue interceptado por unos individuos que le dispararon desde un vehículo\n",
      "    date: 6 de julio de 2024\n",
      "    time: 12:23 PM\n",
      "    content: Un hombre fue asesinado a las 10:54 a.m. de este sábado mientras corría bicicleta cerca de un parque de pelota en la calle 28, de la urbanización Jardines de Palmarejo, en Canóvanas, informó el Negociado de la Policía. Según el informe de novedades, las autoridades fueron alertadas a través de una llamada realizada al Sistema de Emergencias 9-1-1 sobre unos disparos en el lugar. Cuando llegaron a la escena, los agentes encontraron a un hombre muerto con varias heridas de bala. La Policía confirmó que el occiso fue identificado como Jonathan Rodríguez Santiago, de 30 años. Sin embargo, aún se desconoce el móvil de los hechos. Rodríguez Santiago tenía expediente criminal por violencia doméstica, precisó la Uniformada. De la investigación preliminar se desprende que mientras la víctima se dirigía en su bicicleta por la calle “fue interceptado por varios individuos en un vehículo color vino, desde el cual le realizaron múltiples disparos”, precisó la Uniformada en su más reciente informe. El agente Edgar Ribot, de la División de Homicidios del Cuerpo de Investigaciones Criminales de Carolina, bajo la supervisión del sargento Felipe Rodríguez y el teniente Félix Mateo Torres, se hizo cargo de la pesquisa, en unión al fiscal José Carrasquillo Santana.\n",
      "    pueblos: ['canovanas']\n",
      "28: \n",
      "    headline: Aparece hombre de 74 años por el que se activó la Alerta Silver Josué Santiago Rosario fue hallado en buen estado de salud en Plaza del Sol en Bayamón \n",
      "    url: https://www.elnuevodia.com/noticias/seguridad/notas/aparece-hombre-de-74-anos-por-el-que-se-activo-la-alerta-silver/\n",
      "    author: Por Yaritza Rivera Clemente\n",
      "    headline_sub: Josué Santiago Rosario fue hallado en buen estado de salud en Plaza del Sol en Bayamón \n",
      "    date: 6 de julio de 2024\n",
      "    time: 10:24 AM\n",
      "    content: El Negociado de la Policía confirmó que el septuagenario por el que se había activado la Alerta Silver, fue hallado en buen estado de salud en los predios de la tienda Pep Boys, en el centro comercial Plaza del Sol, en Bayamón. El hombre identificado como Josué Santiago Rosario, de 74 años y está diagnosticado con una condición cognitiva– ya se encuentra en su residencia junto a su familia, confirmó la Uniformada a El Nuevo Día. A raíz de la aparición, el comisionado de la Policía, Antonio López Figueroa, ordenó la desactivación de la alerta. Como parte del protocolo, será transportado a una institución hospitalaria para un examen general. Más temprano, el hombre fue descrito como de 5′06″, de tez blanca, el cabello blanco, ojos negros y peso aproximado de 115 libras. “Como señas particulares tiene barba canosa y frondosa, utiliza gorras que en el interior tiene su nombre y número de teléfono”, informó la Uniformada. Santiago Rosario había sido visto por última vez el viernes a las 5:30 de la tarde, cuando salió de su residencia en la calle Camino de Hostal, de la urbanización Quintas del Río, en Bayamón. Al momento de su desaparición, vestía camisa azul marino con cuello y mangas con franjas blancas; pantalón sudadera largo gris y tenis negros. La Policía había solicitado la cooperación de los ciudadanos para dar con su paradero. La Alerta Silver tiene como objetivo difundir información rápida sobre la desaparición de adultos mayores de 60 años con condiciones de Alzheimer u otras formas de demencia. Según la Ley 132 de 2009, “la Policía será la agencia primaria responsable de operar el Plan y determinar si procede o no emitir la alerta”.\n",
      "    pueblos: ['bayamon']\n",
      "29: \n",
      "    headline: Buscan a conductor que abandonó escena de peatón atropellado en Río PiedrasEl perjudicado por el “hit and run” se encontraba en condición de cuidado\n",
      "    url: https://www.elnuevodia.com/noticias/seguridad/notas/buscan-a-conductor-que-abandono-escena-de-peaton-atropellado-en-rio-piedras/\n",
      "    author: Por Alex Figueroa Cancel\n",
      "    headline_sub: El perjudicado por el “hit and run” se encontraba en condición de cuidado\n",
      "    date: 5 de julio de 2024\n",
      "    time: 7:20 AMActualizado el 6 de julio de 2024\n",
      "    content: Las autoridades buscan a una persona que atropelló a un hombre y abandonó la escena en la madrugada de este viernes en Río Piedras. El “hit and run” fue reportado a eso de las 5:19 a.m., específicamente en la carretera PR-181, frente al local de Auto Paint Center, en dirección hacia el residencial El Prado. En comunicado de prensa, la Policía indicó que, según la información preliminar, un hombre que “no ha sido identificado se encontraba por la carretera antes mencionada, cuando fue impactado por un vehículo, el cual abandonó la escena”. El peatón fue descrito como de tez negra, ojos marrones, rapado, de 280 a 300 libras y tiene una estatura de 6′2. El mismo vestía camiseta color azul marino, pantalón largo deportivo color negro, tipo “jogger” y tenis deportivas color negras y blancas, según la Policía. El perjudicado fue atendido en el lugar por paramédicos y transportado al hospital Centro Médico de Río Piedras en condición de cuidado. Agentes adscritos al Precinto de Río Piedras y la División de Patrullas y Carreteras del área de San Juan investigan el caso. “Se exhorta a la ciudadanía que de poseer información que ayude al esclarecimiento de casos, favor de llamar al 787-343-2020″, apuntó el comunicado de la Policía. “También, pueden escribirnos a través de Twitter o Facebook”.\n",
      "    pueblos: []\n",
      "30: \n",
      "    headline: Ocupan cámaras de seguridad en escena donde fue hallado el cadáver de un hombre en Piñones  La muerte sin causa determinada fue reportada en la tarde del viernes a través del Sistema de Emergencias 9-1-1\n",
      "    url: https://www.elnuevodia.com/noticias/seguridad/notas/ocupan-camaras-de-seguridad-en-escena-donde-fue-hallado-el-cadaver-de-un-hombre-en-pinones/\n",
      "    author: Por Yaritza Rivera Clemente\n",
      "    headline_sub: La muerte sin causa determinada fue reportada en la tarde del viernes a través del Sistema de Emergencias 9-1-1\n",
      "    date: 6 de julio de 2024\n",
      "    time: 11:23 AM\n",
      "    content: El Negociado de la Policía ocupó las cámaras de seguridad que estaban instaladas en una residencia en la comunidad de Piñones, en Loíza, donde fue hallado en la tarde del viernes el cuerpo sin vida de un hombre que no ha sido identificado. En entrevista con El Nuevo Día, el teniente Félix Mateo, de la División de Homicidios del Cuerpo de Investigaciones Criminales (CIC) de Carolina, indicó que “los discos duros de las cámaras de seguridad se ocuparon para bajar la data”. “(El cuerpo) mostraba una herida abierta en el brazo, pero no tenía más heridas, no había casquillos, no había arma blanca. Se quedó como muerte sin determinar”, explicó sobre el cadáver que fue trasladado al Instituto de Ciencias Forenses para la autopsia. El informe de novedades de la Policía precisa que la muerte sin causa determinada fue reportada a la 1:14 p.m. del viernes, a través de una llamada al Sistema de Emergencias 9-1-1. El cuerpo del hombre fue localizado en el baño de la residencia. “Un amigo va a visitarlo y, cuando llega a la casa, ve que la puerta está abierta, está todo en desorden, hay mucha sangre y llama al Sistema de Emergencias 9-1-1″, agregó Mateo. Al momento, el hombre no ha sido identificado. El teniente indicó que, al momento, no hay evidencia que apunte a que dicha muerte tiene alguna relación con el feminicidio reportado en una égida en Guaynabo. “No me consta nada, ni tengo ninguna información que relacione una cosa con la otra”, precisó el viernes cuando este medio le preguntó sobre dicha información.\n",
      "    pueblos: ['loiza', 'guaynabo']\n",
      "31: \n",
      "    headline: Roban sobre $10,000 en joyas de diseñador a turista en un hotel de Isla VerdeLa perjudicada aseguró que entre las alhajas había piezas Budatai, Pandora, Tous y UNOde50, entre otras \n",
      "    url: https://www.elnuevodia.com/noticias/seguridad/notas/roban-sobre-10000-en-joyas-de-disenador-a-turista-en-un-hotel-de-isla-verde/\n",
      "    author: Por Agustín Criollo Oquero\n",
      "    headline_sub: La perjudicada aseguró que entre las alhajas había piezas Budatai, Pandora, Tous y UNOde50, entre otras \n",
      "    date: 6 de julio de 2024\n",
      "    time: 9:52 AM\n",
      "    content: Una turista de 47 años procedente del estado de California denunció en la tarde del viernes haber sido víctima de un hurto en la habitación de la hospedería de Isla Verde donde se aloja, informó el Negociado de la Policía. Según el informe preliminar, la mujer, quien no fue identificada y que se hospeda en el hotel Fairmont El San Juan, llegó del gimnasio del hotel a su habitación y se percató de que no estaba un bulto color azul y rojo, que tenía en su interior varias prendas valoradas en más de $10,200. La perjudicada hizo un recuento de las joyas extraídas, entre ellas un set de collar, sortija y pantallas de oro sólido, tres collares de plata, tres collares y dos sortijas, también de oro; tres sortijas de plata, todas estas de la marca UNOde50. Además, un set de collar y pantallas de perlas, un reloj Tous, diez pulseras Budatai, otro collar y tres pantallas de oro, dos sortijas y varias pantallas de la marca Pandora, entre otras alhajas. El agente Luis Muñiz, adscrito al Precinto de la Policía Turística, en Isla Verde, investigó preliminarmente y refirió el caso a la División de Propiedad del Cuerpo de Investigaciones Criminales (CIC) de Carolina para que continúen con la investigación.\n",
      "    pueblos: []\n",
      "32: \n",
      "    headline: Encuentran el cadáver de un hombre en el interior de una residencia en Piñones El Negociado de la Policía indicó que, al momento, se desconoce si presenta signos de violencia \n",
      "    url: https://www.elnuevodia.com/noticias/seguridad/notas/encuentran-el-cadaver-de-un-hombre-en-el-interior-de-una-residencia-en-pinones/\n",
      "    author: Por Yaritza Rivera Clemente\n",
      "    headline_sub: El Negociado de la Policía indicó que, al momento, se desconoce si presenta signos de violencia \n",
      "    date: 5 de julio de 2024\n",
      "    time: 5:05 PM\n",
      "    content: El cadáver de un hombre fue encontrado en la tarde de este viernes en el interior de una residencia en la comunidad de Piñones, en el municipio de Loíza, confirmó el Negociado de la Policía, que investiga el caso, al momento, como una “muerte sin causa determinada”. En declaraciones a El Nuevo Día, el teniente Félix Mateo, de la División de Homicidios del Cuerpo de Investigaciones Criminales (CIC) de Carolina, explicó que una persona se comunicó con el Sistema de Emergencias 9-1-1, para alertar a las autoridades. De acuerdo al informe de novedades que emitió la Policía, la llamada se recibió a la 1:14 p.m. y el cuerpo del hombre fue localizado en el área del baño de la residencia. “Es una escena de una muerte de un masculino sin determinar”, indicó Mateo, quien mencionó que en la escena hay “muchísima sangre” y que se espera por la llegada del personal del Instituto de Ciencias Forenses para poder determinar si el cuerpo presenta algún signo de violencia. Sobre la información que ha trascendido de manera extraoficial de que, presuntamente, este caso guarda relación con el feminicidio reportado en una égida en Guaynabo, el teniente indicó: “No me consta nada, ni tengo ninguna información que relacione una cosa con la otra”.\n",
      "    pueblos: ['loiza', 'guaynabo']\n",
      "\n"
     ]
    }
   ],
   "source": [
    "print(pretty_print_dict(data_handler))"
   ]
  },
  {
   "cell_type": "markdown",
   "metadata": {},
   "source": [
    "# Testing Code"
   ]
  },
  {
   "cell_type": "markdown",
   "metadata": {},
   "source": [
    "### Injecting data into database table"
   ]
  },
  {
   "cell_type": "code",
   "execution_count": 14,
   "metadata": {},
   "outputs": [
    {
     "name": "stdout",
     "output_type": "stream",
     "text": [
      "DB Connected!\n"
     ]
    }
   ],
   "source": [
    "# Import module \n",
    "import mysql.connector\n",
    "\n",
    "# Make the connection to databese\n",
    "connection= mysql.connector.connect(user= \"root\", password= \"root\", host= \"mysql\", port= \"3306\", database= \"db\")\n",
    "print(\"DB Connected!\")\n",
    "\n",
    "# Create cursor obj\n",
    "cursor= connection.cursor(buffered= True)"
   ]
  },
  {
   "cell_type": "code",
   "execution_count": 25,
   "metadata": {},
   "outputs": [],
   "source": [
    "# Create variable with MySQL query to insert data into articles_data table\n",
    "data_query= \"\"\"\n",
    "INSERT INTO articles_data (headline,\n",
    "                           url,\n",
    "                           author,\n",
    "                           date,\n",
    "                           time,\n",
    "                           location)\n",
    "VALUES (%(headline)s, %(url)s, %(author)s, %(date)s, %(time)s, %(pueblos)s) \n",
    "\"\"\"\n",
    "\n",
    "# Get the data from data_handler and format into dict so MySQL can understand it\n",
    "data= {\"headline\": data_handler[\"2\"][\"headline\"],\n",
    "       \"url\": data_handler[\"2\"][\"url\"],\n",
    "       \"author\": data_handler[\"2\"][\"author\"],\n",
    "       \"date\": data_handler[\"2\"][\"date\"],\n",
    "       \"time\": data_handler[\"2\"][\"time\"],\n",
    "       \"pueblos\": data_handler[\"2\"][\"pueblos\"][0]} # This must be rewritten in a way that MySQL can store lists in the field,\n",
    "                                                   # right now I just picked the first item from the returned list\n",
    "\n",
    "# Execute the query with data provided\n",
    "cursor.execute(data_query, data)\n",
    "\n",
    "# Make sure data is committed to the database\n",
    "# Commented for testing but must be done when not testing to make sure data is saved in the database table\n",
    "# connection.commit()"
   ]
  },
  {
   "cell_type": "code",
   "execution_count": 28,
   "metadata": {},
   "outputs": [
    {
     "name": "stdout",
     "output_type": "stream",
     "text": [
      "(1, 'Caso por disparos en playa de Vega Baja fue citado para la próxima semanaLos investigadores buscan más evidencia para analizar, con miras a radicar cargos', 'https://www.elnuevodia.com/noticias/seguridad/notas/caso-por-disparos-en-playa-de-vega-baja-fue-citado-para-la-proxima-semana/', 'Por Alex Figueroa Cancel', '8 de julio de 2024', '9:19 AM', 'san_juan')\n"
     ]
    }
   ],
   "source": [
    "# Retrieve all data from the table\n",
    "cursor.execute(\"SELECT * FROM articles_data\")\n",
    "\n",
    "# Print each table row\n",
    "for row in cursor:\n",
    "    print(row)"
   ]
  }
 ],
 "metadata": {
  "kernelspec": {
   "display_name": "Python 3",
   "language": "python",
   "name": "python3"
  },
  "language_info": {
   "codemirror_mode": {
    "name": "ipython",
    "version": 3
   },
   "file_extension": ".py",
   "mimetype": "text/x-python",
   "name": "python",
   "nbconvert_exporter": "python",
   "pygments_lexer": "ipython3",
   "version": "3.12.4"
  }
 },
 "nbformat": 4,
 "nbformat_minor": 2
}
