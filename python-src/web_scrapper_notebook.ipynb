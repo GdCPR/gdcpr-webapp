{
 "cells": [
  {
   "cell_type": "markdown",
   "metadata": {},
   "source": [
    "### Import modules"
   ]
  },
  {
   "cell_type": "code",
   "execution_count": 2,
   "metadata": {},
   "outputs": [],
   "source": [
    "from itertools import count\n",
    "\n",
    "# from scrapper.print_better_dic import print_dict\n",
    "from scrapper.extract_artcls_data import current_artcls, artcl_data, artcl_content\n",
    "from scrapper.location_detector import detect_location, validate_location, get_location_id\n",
    "from database_manager.database_connector import dbconnection as db\n",
    "from database_manager import querys\n"
   ]
  },
  {
   "cell_type": "code",
   "execution_count": 18,
   "metadata": {},
   "outputs": [
    {
     "name": "stdout",
     "output_type": "stream",
     "text": [
      "['adjuntas', 'aguada', 'aguadilla', 'aguas_buenas', 'aibonito', 'anasco', 'arecibo', 'arroyo', 'barceloneta', 'barranquitas', 'bayamon', 'cabo_rojo', 'caguas', 'camuy', 'canovanas', 'carolina', 'catano', 'cayey', 'ceiba', 'ciales', 'cidra', 'coamo', 'comerio', 'corozal', 'culebra', 'dorado', 'fajardo', 'florida', 'guanica', 'guayama', 'guayanilla', 'guaynabo', 'gurabo', 'hatillo', 'hormigueros', 'humacao', 'isabela', 'jayuya', 'juana_diaz', 'juncos', 'lajas', 'lares', 'las_marias', 'las_piedras', 'loiza', 'luquillo', 'manati', 'maricao', 'maunabo', 'mayaguez', 'moca', 'morovis', 'naguabo', 'naranjito', 'orocovis', 'patillas', 'penuelas', 'ponce', 'quebradillas', 'rincon', 'rio_grande', 'sabana_grande', 'salinas', 'san_german', 'san_juan', 'san_lorenzo', 'san_sebastian', 'santa_isabel', 'toa_alta', 'toa_baja', 'trujillo_alto', 'utuado', 'vega_alta', 'vega_baja', 'vieques', 'villalba', 'yabucoa', 'yauco']\n"
     ]
    }
   ],
   "source": [
    "# cursor = db.cursor()\n",
    "\n",
    "# query = \"\"\"SELECT * FROM Location\"\"\"\n",
    "# cursor.execute(query)\n",
    "# locs_fetch = cursor.fetchall()\n",
    "\n",
    "# loc = [row[1] for row in locs_fetch]\n",
    "\n",
    "# print(loc)\n",
    "# # for tup in loc:\n",
    "# #     print(tup[1])"
   ]
  },
  {
   "cell_type": "code",
   "execution_count": 21,
   "metadata": {},
   "outputs": [
    {
     "name": "stdout",
     "output_type": "stream",
     "text": [
      "adjuntas has locationid 1\n",
      "aguada has locationid 2\n",
      "coamo has locationid 22\n",
      "san_juan has locationid 65\n"
     ]
    }
   ],
   "source": [
    "# loc_id = []\n",
    "# locs_found = [\"san_juan\", \"adjuntas\", \"coamo\", \"aguada\"]\n",
    "# for row in locs_fetch:\n",
    "#     for municipality in locs_found:\n",
    "#         if municipality in row[1]:\n",
    "#             print(\"{} has locationid {}\".format(row[1], row[0]))"
   ]
  },
  {
   "cell_type": "markdown",
   "metadata": {},
   "source": [
    "### Save url containing articles"
   ]
  },
  {
   "cell_type": "code",
   "execution_count": null,
   "metadata": {},
   "outputs": [],
   "source": [
    "# Base url\n",
    "news_url= \"https://www.elnuevodia.com/noticias/seguridad\""
   ]
  },
  {
   "cell_type": "markdown",
   "metadata": {},
   "source": [
    "### Construct data dictionary and insert data into database"
   ]
  },
  {
   "cell_type": "code",
   "execution_count": null,
   "metadata": {},
   "outputs": [],
   "source": [
    "cursor = db.cursor(buffered=True)\n",
    "\n",
    "articles= current_artcls(news_url)\n",
    "\n",
    "for article in articles[:3]:\n",
    "    data_dict = artcl_data(article=article)\n",
    "    \n",
    "    data_dict.update(artcl_content(article_data=data_dict))\n",
    "    \n",
    "    cursor.execute(querys.INSERT_ARTICLE, data_dict)\n",
    "\n",
    "    # To do: Get ID of inserted article \n",
    "\n",
    "    locs_found = detect_location(article_data=data_dict)\n",
    "\n",
    "    for loc in locs_found:\n",
    "        loc_validated = validate_location(locations=loc)\n",
    "        loc_id = get_location_id(validated_location=loc_validated)\n",
    "\n",
    "        # To do: Insert (ArticleID, LocationID) into ArticleLocationRelationship table\n",
    "        # using the article ID fetched from database after inserted, and loc_id in this\n",
    "        # for loop\n",
    "\n"
   ]
  },
  {
   "cell_type": "markdown",
   "metadata": {},
   "source": [
    "### Print Articles table rows"
   ]
  },
  {
   "cell_type": "code",
   "execution_count": null,
   "metadata": {},
   "outputs": [],
   "source": [
    "query = \"\"\"SELECT * FROM Articles\"\"\"\n",
    "for row in cursor:\n",
    "    print(row)"
   ]
  },
  {
   "cell_type": "markdown",
   "metadata": {},
   "source": [
    "## Print Location rows"
   ]
  },
  {
   "cell_type": "code",
   "execution_count": null,
   "metadata": {},
   "outputs": [],
   "source": [
    "query = \"\"\"SELECT * FROM Location\"\"\"\n",
    "for row in cursor:\n",
    "    print(row)"
   ]
  },
  {
   "cell_type": "markdown",
   "metadata": {},
   "source": [
    "## Print bridging table rows"
   ]
  },
  {
   "cell_type": "code",
   "execution_count": null,
   "metadata": {},
   "outputs": [],
   "source": [
    "query = \"\"\"SELECT * FROM ArticlesLocationRelation\"\"\"\n",
    "for row in cursor:\n",
    "    print(row)"
   ]
  }
 ],
 "metadata": {
  "kernelspec": {
   "display_name": "Python 3",
   "language": "python",
   "name": "python3"
  },
  "language_info": {
   "codemirror_mode": {
    "name": "ipython",
    "version": 3
   },
   "file_extension": ".py",
   "mimetype": "text/x-python",
   "name": "python",
   "nbconvert_exporter": "python",
   "pygments_lexer": "ipython3",
   "version": "3.12.4"
  }
 },
 "nbformat": 4,
 "nbformat_minor": 2
}
