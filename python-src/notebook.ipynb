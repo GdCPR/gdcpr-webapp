{
 "cells": [
  {
   "cell_type": "code",
   "execution_count": 1,
   "metadata": {},
   "outputs": [],
   "source": [
    "from extract_artcls_data import current_artcls, artcl_data, artcl_content\n",
    "from print_better_dic import print_dict"
   ]
  },
  {
   "cell_type": "code",
   "execution_count": 2,
   "metadata": {},
   "outputs": [],
   "source": [
    "news_url= \"https://www.elnuevodia.com/noticias/seguridad\"\n",
    "articles= current_artcls(news_url)"
   ]
  },
  {
   "cell_type": "code",
   "execution_count": 3,
   "metadata": {},
   "outputs": [
    {
     "name": "stdout",
     "output_type": "stream",
     "text": [
      "{'headline': 'Piloto muere luego de que su avioneta se estrellara en área residencial en Aguadilla', 'url': 'https://www.elnuevodia.com/noticias/seguridad/notas/piloto-muere-luego-de-que-su-avioneta-se-estrellara-en-area-residencial-en-aguadilla/', 'author': 'Por Edlyn M. Vega Rodríguez y Alex Figueroa Cancel'}\n"
     ]
    }
   ],
   "source": [
    "data= {}\n",
    "data= artcl_data(article= articles[7])\n",
    "print(data)"
   ]
  },
  {
   "cell_type": "code",
   "execution_count": 4,
   "metadata": {},
   "outputs": [
    {
     "name": "stdout",
     "output_type": "stream",
     "text": [
      "{'headline_sub': 'La aeronave, que era manejada por Wilfredo Juarbe Saldaña, de 47 años, había estado en reparaciones después de haber tenido desperfectos mecánicos', 'date_time': datetime.datetime(2024, 7, 11, 10, 15), 'content': 'Aguadilla - Eran las 9:34 de la mañana, apenas comenzaba el día, cuando un estruendo trastocó la tranquilidad de los vecinos del barrio Maleza Alta, en Aguadilla, y avisó la inesperada tragedia de que una avioneta se había estrellado en sus patios. El humo que provocó la catástrofe era “negro y colora’o, parecía el infierno”, contó la residente Gigi Lozano. Tras el incidente, muy asustada, salió de su casa, se armó de una manguera de jardín temiendo ser alcanzada por las llamas que surgieron tras la explosión, y procuró poner a salvo a sus dos perros y 14 gatos que justo estaban en sus jaulas a pocos metros de distancia de los restos de la aeronave. “Cogí la manguera, por si acaso brincaba algo y les caía una flama a ellos (los animalitos); yo lo que pensé fue en que esos animales se me fueran a achicharrar allí. Ya ellos son viejitos”, dijo Lozano entre lágrimas. “Cuando escuché el ruido pensé que era frente (de la casa); pero cuando salí corriendo, vi el humentín y me di cuenta que había sido atrás (de la casa). Anoche yo salí soñando que la ventana me había explotado y Dios es grande y le doy gracias a ese Padre por otro día más de vida”, agregó. En la avioneta modelo Cessna 402B viajaba el piloto Wilfredo Juarbe Saldaña, de 47 años, natural de Luquillo, quien pereció en el acto. La aeronave figura registrada bajo la compañía WJ Medical Consulting. “Esta mañana, él (Juarbe Saldaña) salió con la avioneta de su propiedad para trasladarla desde el Aeropuerto (Internacional) Rafael Hernández de Aguadilla hasta el aeropuerto de Isla Grande. La avioneta estaba en Aguadilla para trabajarle unos desperfectos y él se disponía a trasladarla para continuar con las reparaciones”, dijo el teniente Orlando Camacho, director de homicidios del área de Aguadilla. El vuelo duró poco tiempo, pues el despegue fue registrado a las 9:29 de la mañana; cinco minutos más tarde llegó la alerta del accidente a través del 9-1-1. Juarbe Saldaña intentó maniobrar y regresar al aeropuerto aguadillano, pero no le dio tiempo y cayó abruptamente en el área residencial, sin afectar las estructuras. Imágenes del accidente, captadas por cámaras de seguridad, ilustran el momento en que el avión cayó de forma estrepitosa provocando una gran explosión y posterior nube de humo denso. “Testigos alegan que ven el avión cuando despega y luego una caída; no ganó suficiente altura, cayó en picada”, expresó, por su parte, el teniente Rolando Pérez, director auxiliar del precinto Ramey San Antonio. A consecuencia del incidente, una persona que estaba cerca del área resultó con heridas leves. Preliminarmente, se dijo que se trata de un vecino de 68 años, que no fue identificado. Dos horas más tarde del terrible accidente, la vecina Nélida Torres no salía de su asombro. “No estoy bien; yo no vi nada, solo escuché una explosión. Cogí mi perrito y me fui corriendo. Vi humo. Siento mucho lo de la persona que está allí muerta; a las familias, que Dios las bendiga y que puedan pasar esto como Dios quiera... es fuerte para mí saber que esa persona está ahí; pongo en las manos de Dios a toda su familia”, reiteró compungida. Su hermano Edwin Torres narró cómo fue avisado de la tragedia y temió por la vida de Nélida. “Me estoy bañando en el patio y la esposa mía me dice: ‘Edwin, Edwin te están llamando’, se me paran los pelos; y ahí me dicen que un avión se estrelló encima de la casa y para qué fue eso”, manifestó. “Parece que era un piloto experimentado, porque logró meterlo por ahí (señala un limitado espacio entre tres residencias donde quedaron los restos de la nave). Cuando llegué, lo primero que hice fue buscarla (a su hermana) para saber si estaba bien y estaba bien nerviosa”, relató. A la escena llegaron familiares de la víctima que pidieron espacio para manejar la tragedia. Sin embargo, la esposa de Juarbe Saldaña, quien no se identificó, lo describió como “un gran piloto” que se dedicaba a volar aviones desde el 2015. Más temprano, el director de la Autoridad de Puertos, Joel Pizá Batiz, lamentó el desenlace, mientras que su personal se encontraba “trabajando junto a las autoridades de respuesta de emergencia estatales y federales en lo que es la fase inicial de atención a la emergencia. Luego esto pasará a las autoridades federales para las investigaciones de rigor”. “Expresamos nuestras más sinceras condolencias a la familia del fallecido y a la comunidad aeronáutica”, agregó. Por su parte, Wilfred Torres, presidente de la Comisión de Seguridad Pública, confirmó el reporte de una persona fallecida. “Lo que sabemos al momento es que la avioneta sale del aeropuerto de Aguadilla, toma un giro e impacta la verja entre medio de una residencia y una farmacia”, explicó Torres a El Nuevo Día, agregando que se trata de la farmacia Maleza Express Pharmacy. “Después que cae, hay un fuego. Ya fue extinguido. La avioneta quedó quemada y se puede ver en el interior el cuerpo de una persona”, agregó el funcionario. “El lugar está a tres minutos del aeropuerto en carro, pero desde aquí todavía se puede ver la pista”, comentó. Con relación al reporte de una persona herida, el teniente Rolando Pérez, de la Comandancia de la región policíaca de Aguadilla, señaló que se trató de un residente del área que iba en una bicicleta al momento de estrellarse la avioneta. “Son heridas superficiales. Iba en bicicleta cuando ve que la avioneta va a caer. Con el estruendo de la explosión cayó al suelo y sufrió laceraciones”, abundó Torres. Personal de la Unidad de Rescate Aéreo del aeropuerto de Aguadilla atendieron la situación de emergencia junto a la Oficina Municipal de Manejo de Emergencias, el Negociado del Cuerpo de Bomberos y otras agencias de seguridad. La Junta Nacional de Seguridad en el Transporte se encarga de la investigación del accidente aéreo.'}\n"
     ]
    }
   ],
   "source": [
    "content= artcl_content(article_data= data)\n",
    "print(content)"
   ]
  },
  {
   "cell_type": "code",
   "execution_count": 5,
   "metadata": {},
   "outputs": [],
   "source": [
    "# for _ in zip(count(start= 1, step= 1), articles):\n",
    "#     data_handler[str(_[0])]= artcl_data(article= _[1])\n",
    "#     data_handler[str(_[0])].update(artcl_content(article_data= data_handler[str(_[0])]))\n",
    "#     data_handler[str(_[0])].update(detect_location(article_data= data_handler[str(_[0])]))"
   ]
  }
 ],
 "metadata": {
  "kernelspec": {
   "display_name": "Python 3",
   "language": "python",
   "name": "python3"
  },
  "language_info": {
   "codemirror_mode": {
    "name": "ipython",
    "version": 3
   },
   "file_extension": ".py",
   "mimetype": "text/x-python",
   "name": "python",
   "nbconvert_exporter": "python",
   "pygments_lexer": "ipython3",
   "version": "3.12.4"
  }
 },
 "nbformat": 4,
 "nbformat_minor": 2
}
