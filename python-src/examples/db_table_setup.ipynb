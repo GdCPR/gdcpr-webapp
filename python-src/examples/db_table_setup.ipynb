{
 "cells": [
  {
   "cell_type": "markdown",
   "metadata": {},
   "source": [
    "# Imports"
   ]
  },
  {
   "cell_type": "code",
   "execution_count": 9,
   "metadata": {},
   "outputs": [],
   "source": [
    "import mysql.connector"
   ]
  },
  {
   "cell_type": "markdown",
   "metadata": {},
   "source": [
    "# Connect to DB"
   ]
  },
  {
   "cell_type": "code",
   "execution_count": 10,
   "metadata": {},
   "outputs": [
    {
     "name": "stdout",
     "output_type": "stream",
     "text": [
      "DB Connected!\n"
     ]
    }
   ],
   "source": [
    "connection= mysql.connector.connect(user= \"root\", password= \"root\", host= \"mysql\", port= \"3306\", database= \"db\")\n",
    "print(\"DB Connected!\")"
   ]
  },
  {
   "cell_type": "code",
   "execution_count": 11,
   "metadata": {},
   "outputs": [
    {
     "name": "stdout",
     "output_type": "stream",
     "text": [
      "('articles_data',)\n"
     ]
    }
   ],
   "source": [
    "cursor= connection.cursor(buffered= True)\n",
    "cursor.execute(\"SHOW TABLES\")\n",
    "for tb in cursor:\n",
    "    print(tb)"
   ]
  },
  {
   "cell_type": "code",
   "execution_count": 12,
   "metadata": {},
   "outputs": [],
   "source": [
    "# query= \"\"\"DROP TABLE articles_data\"\"\"\n",
    "# cursor.execute(query)\n",
    "# cursor.execute(\"SHOW TABLES\")\n",
    "# for tb in cursor:\n",
    "#     print(tb)"
   ]
  },
  {
   "cell_type": "code",
   "execution_count": 13,
   "metadata": {},
   "outputs": [],
   "source": [
    "# Create table within db database\n",
    "create_table_query= \"\"\"\n",
    "CREATE TABLE IF NOT EXISTS articles_data (\n",
    "                                          id INT AUTO_INCREMENT, \n",
    "                                          headline VARCHAR(512) NOT NULL,\n",
    "                                          url VARCHAR(512) NOT NULL,\n",
    "                                          author VARCHAR(64),\n",
    "                                          date_time DATETIME,\n",
    "                                          municipality LONGTEXT,\n",
    "                                          PRIMARY KEY (id)\n",
    "                                          )\n",
    "\"\"\"\n"
   ]
  },
  {
   "cell_type": "code",
   "execution_count": 14,
   "metadata": {},
   "outputs": [],
   "source": [
    "cursor.execute(create_table_query)"
   ]
  },
  {
   "cell_type": "code",
   "execution_count": 15,
   "metadata": {},
   "outputs": [],
   "source": [
    "connection.commit()"
   ]
  },
  {
   "cell_type": "code",
   "execution_count": 17,
   "metadata": {},
   "outputs": [],
   "source": [
    "cursor.execute(\"SELECT * FROM articles_data\")\n",
    "for tb in cursor:\n",
    "    print(tb)"
   ]
  },
  {
   "cell_type": "code",
   "execution_count": null,
   "metadata": {},
   "outputs": [],
   "source": []
  }
 ],
 "metadata": {
  "kernelspec": {
   "display_name": "Python 3",
   "language": "python",
   "name": "python3"
  },
  "language_info": {
   "codemirror_mode": {
    "name": "ipython",
    "version": 3
   },
   "file_extension": ".py",
   "mimetype": "text/x-python",
   "name": "python",
   "nbconvert_exporter": "python",
   "pygments_lexer": "ipython3",
   "version": "3.12.4"
  }
 },
 "nbformat": 4,
 "nbformat_minor": 2
}
