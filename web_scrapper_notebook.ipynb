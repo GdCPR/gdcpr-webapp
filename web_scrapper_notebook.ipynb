{
 "cells": [
  {
   "cell_type": "code",
   "execution_count": 34,
   "metadata": {},
   "outputs": [],
   "source": [
    "import requests\n",
    "from bs4 import BeautifulSoup\n",
    "from itertools import count"
   ]
  },
  {
   "cell_type": "code",
   "execution_count": 19,
   "metadata": {},
   "outputs": [],
   "source": [
    "url_topicos = 'https://www.elnuevodia.com/topicos/seguridad/'\n",
    "url_noticias= \"https://www.elnuevodia.com/noticias/seguridad\"\n",
    "html = requests.get(url_noticias)"
   ]
  },
  {
   "cell_type": "code",
   "execution_count": 3,
   "metadata": {},
   "outputs": [
    {
     "data": {
      "text/plain": [
       "<Response [200]>"
      ]
     },
     "execution_count": 3,
     "metadata": {},
     "output_type": "execute_result"
    }
   ],
   "source": [
    "html"
   ]
  },
  {
   "cell_type": "code",
   "execution_count": 4,
   "metadata": {},
   "outputs": [],
   "source": [
    "soup = BeautifulSoup(html.text, 'html.parser')"
   ]
  },
  {
   "cell_type": "code",
   "execution_count": 9,
   "metadata": {},
   "outputs": [
    {
     "data": {
      "text/plain": [
       "32"
      ]
     },
     "execution_count": 9,
     "metadata": {},
     "output_type": "execute_result"
    }
   ],
   "source": [
    "articles = soup.find_all('article', {'class': 'standard-teaser-container condensed-horizontal news'})"
   ]
  },
  {
   "cell_type": "code",
   "execution_count": 46,
   "metadata": {},
   "outputs": [
    {
     "name": "stdout",
     "output_type": "stream",
     "text": [
      "{'1': {'Title': 'Reportan un “carjacking” a plena luz del día en Río PiedrasUna conductora alegó haber sido asaltada por un sujeto armado a eso de las 10:30 de la mañana  ', 'url': 'https://www.elnuevodia.com/noticias/seguridad/notas/reportan-un-carjacking-a-plena-luz-del-dia-en-rio-piedras/', 'author': 'Por Agustín Criollo Oquero'}, '2': {'Title': 'Hallan un cuerpo amordazado y quemado en Vega BajaFue encontrado durante un patrullaje preventivo de la Policía', 'url': 'https://www.elnuevodia.com/noticias/seguridad/notas/hallan-un-cuerpo-amordazado-y-quemado-en-vega-baja/', 'author': 'Por Alex Figueroa Cancel'}, '3': {'Title': 'Hallan el cadáver de un hombre flotando a orillas de un río en ManatíEl cuerpo fue localizado debajo del puente Montebello en la PR-6685', 'url': 'https://www.elnuevodia.com/noticias/seguridad/notas/hallan-el-cadaver-de-un-hombre-flotando-a-orillas-de-un-rio-en-manati/', 'author': 'Por Andrea Guemárez Soto'}, '4': {'Title': 'Arrestan al presunto líder de un punto de drogas tras intervención en Trujillo AltoDurante el operativo, la Policía también arrestó a un menor de 16 años', 'url': 'https://www.elnuevodia.com/noticias/seguridad/notas/arrestan-al-presunto-lider-de-un-punto-de-drogas-tras-intervencion-en-trujillo-alto/', 'author': 'Por Andrea Guemárez Soto'}, '5': {'Title': 'Ciencias Forenses confirma que cuerpo hallado en río de Arecibo corresponde al de joven arrastrada por un golpe de aguaVianca Zoe Sánchez Maisonet, de 23 años, fue identificada mediante radiografías dentales', 'url': 'https://www.elnuevodia.com/noticias/seguridad/notas/ciencias-forenses-confirma-que-cuerpo-hallado-en-rio-de-arecibo-corresponde-al-de-joven-arrastrada-por-un-golpe-de-agua/', 'author': 'Por Andrea Guemárez Soto'}, '6': {'Title': '“Esto ha sido un golpe muy fuerte”: lamentan muerte de agente atropellado en Santa Isabel Luis Algarín de Jesús se dirigía a su trabajo en una motora de la Policía cuando fue impactado por un vehículo que invadió su carril', 'url': 'https://www.elnuevodia.com/noticias/seguridad/notas/esto-ha-sido-un-golpe-muy-fuerte-lamentan-muerte-de-agente-atropellado-en-santa-isabel/', 'author': 'Por Richard I. Colón Badillo y Alex Figueroa Cancel'}, '7': {'Title': 'Se desata un fuego de escombros en un terreno baldío cerca de una fábrica en PeñuelasEl siniestro ya fue controlado por los Bomberos de Ponce, Guayanilla y Peñuelas con camiones cisterna que llegaron al lugar', 'url': 'https://www.elnuevodia.com/noticias/seguridad/notas/se-desata-un-fuego-de-escombros-en-un-terreno-baldio-cerca-de-una-fabrica-en-penuelas/', 'author': 'Por Richard I. Colón Badillo'}, '8': {'Title': 'Identifican a conductora que falleció tras su vehículo volcarse en el expreso PR-52 en Santa IsabelNora Liz Marcano de Jesús, de 27 años, fue llevada al hospital, pero murió a causa de sus heridas', 'url': 'https://www.elnuevodia.com/noticias/seguridad/notas/identifican-a-conductora-que-fallecio-tras-su-vehiculo-volcarse-en-el-expreso-pr-52-en-santa-isabel/', 'author': 'Por Richard I. Colón Badillo'}, '9': {'Title': 'Arrestan a joven que habría intentado entrar con un rifle a un establecimiento en CarolinaIntentó huir a pie y, en un momento, trató de sacar el arma en un espacio público', 'url': 'https://www.elnuevodia.com/noticias/seguridad/notas/arrestan-a-joven-que-habria-intentado-entrar-con-un-rifle-a-un-establecimiento-en-carolina/', 'author': 'Por Richard I. Colón Badillo'}, '10': {'Title': 'Identifican a empleado que falleció en accidente reportado en el Hipódromo Camarero en CanóvanasEl hombre presuntamente cayó debajo de la goma de un remolque', 'url': 'https://www.elnuevodia.com/noticias/seguridad/notas/identifican-a-empleado-que-fallecio-en-accidente-reportado-en-el-hipodromo-camarero-en-canovanas/', 'author': 'Por Redacción El Nuevo Día'}, '11': {'Title': 'Encarcelado hombre que presuntamente atacó a una mujer y a una menor con un martillo de machacar carnesEl individuo enfrentará tres cargos por maltrato, maltrato agravado y violación a la ley de armas por el ataque reportado el sábado en Cataño', 'url': 'https://www.elnuevodia.com/noticias/seguridad/notas/encarcelado-hombre-que-presuntamente-ataco-a-una-mujer-y-a-una-menor-con-un-martillo-de-machacar-carnes/', 'author': 'Por Richard I. Colón Badillo'}, '12': {'Title': 'Rescatan a dos menores que habrían desaparecido de su hogar en CaguasAdfan informó, en declaraciones escritas, que la Unidad de Investigaciones Especiales (UIE) de Caguas investiga un referido con relación a la desaparición de los menores.', 'url': 'https://www.elnuevodia.com/noticias/seguridad/notas/rescatan-a-dos-menores-que-habrian-desaparecido-de-su-hogar-en-caguas/', 'author': 'Por Richard I. Colón Badillo'}, '13': {'Title': 'Fallece un hombre en medio de una corrida de ciclistas en ManatíLa víctima presuntamente se desplomó de la bicicleta que manejaba y cayó al pavimento', 'url': 'https://www.elnuevodia.com/noticias/seguridad/notas/fallece-un-hombre-en-medio-de-una-corrida-de-ciclistas-en-manati/', 'author': 'Por Richard I. Colón Badillo'}, '14': {'Title': 'Investigan presunto asalto y agresión sexual contra una mujer trans en San JuanLa querellante, que estaba de visita en Puerto Rico, indicó que dos individuos la amenazaron con un arma de fuego para quitarle sus pertenencias', 'url': 'https://www.elnuevodia.com/noticias/seguridad/notas/investigan-presunto-asalto-y-agresion-sexual-contra-una-mujer-trans-en-san-juan/', 'author': 'Por Richard I. Colón Badillo'}, '15': {'Title': 'Muere un peatón arrollado en CatañoEl hombre de 45 años falleció debido a las heridas causadas por el impacto', 'url': 'https://www.elnuevodia.com/noticias/seguridad/notas/muere-un-peaton-arrollado-en-catano/', 'author': 'Por Richard I. Colón Badillo'}, '16': {'Title': 'Encuentran el cuerpo de una mujer en la zona de búsqueda de joven desaparecida en AreciboLa Policía indicó el domingo que se trata de Vianca Zoé Sánchez Maisonet, pero el Instituto de Ciencias Forenses aún no ha realizado una corroboración oficial de la identidad del cadáver', 'url': 'https://www.elnuevodia.com/noticias/seguridad/notas/encuentran-el-cuerpo-de-una-mujer-en-la-zona-de-busqueda-de-joven-desaparecida-en-arecibo/', 'author': 'Por Florencia García Melazzo y Richard I. Colón Badillo'}, '17': {'Title': 'Hombre asesinado el viernes en Rincón enfrentó un caso por agresión que no prosperóEl CIC de Aguadilla añadió que José Luis Sanabria Acosta pudo haber sido baleado mientras se encontraba fuera de su vehículo', 'url': 'https://www.elnuevodia.com/noticias/seguridad/notas/hombre-asesinado-el-viernes-en-rincon-enfrento-un-caso-por-agresion-que-no-prospero/', 'author': 'Por Agustín Criollo Oquero'}, '18': {'Title': 'Tirotean mortalmente a un hombre en un barrio de RincónLa Policía encontró el cuerpo baleado al lado de un automóvil que mostraba también impactos de bala ', 'url': 'https://www.elnuevodia.com/noticias/seguridad/notas/tirotean-mortalmente-a-un-hombre-en-un-barrio-de-rincon/', 'author': 'Por Agustín Criollo Oquero'}, '19': {'Title': 'Reportan un carjacking en Trujillo AltoEn el auto habían documentos personales y una cartera de la víctima', 'url': 'https://www.elnuevodia.com/noticias/seguridad/notas/reportan-un-carjacking-en-trujillo-alto/', 'author': 'Por Alex Figueroa Cancel'}, '20': {'Title': 'Hombre asalta hogar de cuidado prolongado para adultos mayores en San Juan y huye en un vehículo de una empleadaEl presidente de la Federación de Instituciones de Cuidado Prolongado de Puerto Rico (FICPRO) denunció que la Policía, presuntamente, no respondió de inmediato por una supuesta falta de agentes', 'url': 'https://www.elnuevodia.com/noticias/seguridad/notas/hombre-asalta-hogar-de-cuidado-prolongado-para-adultos-mayores-en-san-juan-y-huye-en-un-vehiculo-de-una-empleada/', 'author': 'Por Richard I. Colón Badillo'}, '21': {'Title': 'Plan de seguridad para la Noche de San Juan contará con 3,500 primeros respondedoresEl secretario del DSP, Alexis Torres, instó a ejercer precauciones para evitar incidentes, particularmente con los niños, durante el festejo', 'url': 'https://www.elnuevodia.com/noticias/seguridad/notas/plan-de-seguridad-para-la-noche-de-san-juan-contara-con-3500-primeros-respondedores/', 'author': 'Por Valeria María Torres Nieves'}, '22': {'Title': 'Radicarán cargos la semana que viene por la muerte de dos jinetes atropellados en LoízaAdemás, la Fiscalía de Carolina presentará denuncias por los dos caballos que también perdieron la vida en el incidente', 'url': 'https://www.elnuevodia.com/noticias/seguridad/notas/radicaran-cargos-la-semana-que-viene-por-la-muerte-de-dos-jinetes-atropellados-en-loiza/', 'author': 'Por Alex Figueroa Cancel'}, '23': {'Title': 'Encarcelado hombre que presuntamente atacó a una mujer y a una menor con un martillo de machacar carnesEl individuo enfrentará tres cargos por maltrato, maltrato agravado y violación a la ley de armas por el ataque reportado el sábado en Cataño', 'url': 'https://www.elnuevodia.com/noticias/seguridad/notas/encarcelado-hombre-que-presuntamente-ataco-a-una-mujer-y-a-una-menor-con-un-martillo-de-machacar-carnes/', 'author': 'Por Richard I. Colón Badillo'}, '24': {'Title': 'Rescatan a dos menores que habrían desaparecido de su hogar en CaguasAdfan informó, en declaraciones escritas, que la Unidad de Investigaciones Especiales (UIE) de Caguas investiga un referido con relación a la desaparición de los menores.', 'url': 'https://www.elnuevodia.com/noticias/seguridad/notas/rescatan-a-dos-menores-que-habrian-desaparecido-de-su-hogar-en-caguas/', 'author': 'Por Richard I. Colón Badillo'}, '25': {'Title': 'Fallece un hombre en medio de una corrida de ciclistas en ManatíLa víctima presuntamente se desplomó de la bicicleta que manejaba y cayó al pavimento', 'url': 'https://www.elnuevodia.com/noticias/seguridad/notas/fallece-un-hombre-en-medio-de-una-corrida-de-ciclistas-en-manati/', 'author': 'Por Richard I. Colón Badillo'}, '26': {'Title': 'Investigan presunto asalto y agresión sexual contra una mujer trans en San JuanLa querellante, que estaba de visita en Puerto Rico, indicó que dos individuos la amenazaron con un arma de fuego para quitarle sus pertenencias', 'url': 'https://www.elnuevodia.com/noticias/seguridad/notas/investigan-presunto-asalto-y-agresion-sexual-contra-una-mujer-trans-en-san-juan/', 'author': 'Por Richard I. Colón Badillo'}, '27': {'Title': 'Muere un peatón arrollado en CatañoEl hombre de 45 años falleció debido a las heridas causadas por el impacto', 'url': 'https://www.elnuevodia.com/noticias/seguridad/notas/muere-un-peaton-arrollado-en-catano/', 'author': 'Por Richard I. Colón Badillo'}, '28': {'Title': 'Encuentran el cuerpo de una mujer en la zona de búsqueda de joven desaparecida en AreciboLa Policía indicó el domingo que se trata de Vianca Zoé Sánchez Maisonet, pero el Instituto de Ciencias Forenses aún no ha realizado una corroboración oficial de la identidad del cadáver', 'url': 'https://www.elnuevodia.com/noticias/seguridad/notas/encuentran-el-cuerpo-de-una-mujer-en-la-zona-de-busqueda-de-joven-desaparecida-en-arecibo/', 'author': 'Por Florencia García Melazzo y Richard I. Colón Badillo'}, '29': {'Title': 'Hombre asesinado el viernes en Rincón enfrentó un caso por agresión que no prosperóEl CIC de Aguadilla añadió que José Luis Sanabria Acosta pudo haber sido baleado mientras se encontraba fuera de su vehículo', 'url': 'https://www.elnuevodia.com/noticias/seguridad/notas/hombre-asesinado-el-viernes-en-rincon-enfrento-un-caso-por-agresion-que-no-prospero/', 'author': 'Por Agustín Criollo Oquero'}, '30': {'Title': 'Rescatan a ocho adultos y tres menores que quedaron atrapados por golpe de agua en el río Toro Negro en CialesPersonal de la Oficina Municipal de Manejo de Emergencias (OMME) indicó que las 11 personas se encuentran en buen estado de salud', 'url': 'https://www.elnuevodia.com/noticias/seguridad/notas/rescatan-a-ocho-adultos-y-tres-menores-que-quedaron-atrapados-por-golpe-de-agua-en-el-rio-toro-negro-en-ciales/', 'author': 'Por Florencia García Melazzo'}, '31': {'Title': 'Muere mujer de 37 años que impactó con su guagua una barrera de metal en Humacao  La Policía informó que la fémina, identificada como Dorylin López Espinosa, falleció mientras recibía asistencia médica en un hospital del mencionado municipio ', 'url': 'https://www.elnuevodia.com/noticias/seguridad/notas/muere-mujer-de-37-anos-que-impacto-con-su-guagua-una-barrera-de-metal-en-humacao/', 'author': 'Por Yaritza Rivera Clemente'}, '32': {'Title': 'La Policía busca a un hombre de 65 años reportado como desaparecido en CarolinaEdwin Maldonado Rivera fue visto por última vez el jueves en el Hospital Universitario Dr. Federico Trilla', 'url': 'https://www.elnuevodia.com/noticias/seguridad/notas/la-policia-busca-a-un-hombre-de-65-anos-reportado-como-desaparecido-en-carolina/', 'author': 'Por Florencia García Melazzo'}}\n"
     ]
    }
   ],
   "source": [
    "def get_artcl_data(article):\n",
    "        try:\n",
    "            if (article.find(name= \"h5\", attrs= {\"class\": \"standard-teaser-subheading slug\"}).text== \"Seguridad\"\n",
    "                or article.find(name= \"h5\", attrs= {\"class\": \"standard-teaser-subheading slug\"}).text == \"Noticias\"):\n",
    "\n",
    "                article_title= article.find(name= 'h3', attrs= {'class':'standard-teaser-headline teaser-headline'}).text\n",
    "                article_path= article.find(name= \"a\", href= True)['href']\n",
    "                article_url= \"https://www.elnuevodia.com{path}\".format(path= article_path)\n",
    "                article_author= article.find(\"div\", {\"class\": \"authors-byline-text\"}).text\n",
    "                \n",
    "                return {\"Title\": article_title, \"url\": article_url, \"author\": article_author}\n",
    "        except AttributeError:\n",
    "             print(\"¡No se encontró resultado!\")\n",
    "\n",
    "data_handler= {}\n",
    "\n",
    "for artcl in zip(count(start= 1, step= 1), articles):\n",
    "\n",
    "    artcl_data= get_artcl_data(article= artcl[1])\n",
    "\n",
    "    data_handler[str(artcl[0])]= artcl_data\n"
   ]
  },
  {
   "cell_type": "code",
   "execution_count": 47,
   "metadata": {},
   "outputs": [
    {
     "data": {
      "text/plain": [
       "'https://www.elnuevodia.com/noticias/seguridad/notas/reportan-un-carjacking-a-plena-luz-del-dia-en-rio-piedras/'"
      ]
     },
     "execution_count": 47,
     "metadata": {},
     "output_type": "execute_result"
    }
   ],
   "source": [
    "note_url= data_handler[\"1\"][\"url\"]\n"
   ]
  },
  {
   "cell_type": "code",
   "execution_count": null,
   "metadata": {},
   "outputs": [],
   "source": []
  }
 ],
 "metadata": {
  "kernelspec": {
   "display_name": "Python 3",
   "language": "python",
   "name": "python3"
  },
  "language_info": {
   "codemirror_mode": {
    "name": "ipython",
    "version": 3
   },
   "file_extension": ".py",
   "mimetype": "text/x-python",
   "name": "python",
   "nbconvert_exporter": "python",
   "pygments_lexer": "ipython3",
   "version": "3.12.4"
  }
 },
 "nbformat": 4,
 "nbformat_minor": 2
}
