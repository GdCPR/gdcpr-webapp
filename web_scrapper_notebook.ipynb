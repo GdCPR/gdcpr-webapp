{
 "cells": [
  {
   "cell_type": "code",
   "execution_count": 1,
   "metadata": {},
   "outputs": [],
   "source": [
    "import requests\n",
    "from bs4 import BeautifulSoup"
   ]
  },
  {
   "cell_type": "code",
   "execution_count": 2,
   "metadata": {},
   "outputs": [],
   "source": [
    "url = 'https://www.elnuevodia.com/topicos/seguridad/'\n",
    "html = requests.get(url)"
   ]
  },
  {
   "cell_type": "code",
   "execution_count": 3,
   "metadata": {},
   "outputs": [
    {
     "data": {
      "text/plain": [
       "<Response [200]>"
      ]
     },
     "execution_count": 3,
     "metadata": {},
     "output_type": "execute_result"
    }
   ],
   "source": [
    "html"
   ]
  },
  {
   "cell_type": "code",
   "execution_count": 4,
   "metadata": {},
   "outputs": [],
   "source": [
    "soup = BeautifulSoup(html.text, 'html.parser')"
   ]
  },
  {
   "cell_type": "code",
   "execution_count": 5,
   "metadata": {},
   "outputs": [],
   "source": [
    "articles = soup.find_all('article', {'class': 'standard-teaser-container condensed-horizontal news'})"
   ]
  },
  {
   "cell_type": "code",
   "execution_count": 6,
   "metadata": {},
   "outputs": [
    {
     "name": "stdout",
     "output_type": "stream",
     "text": [
      "Titulo:  Muere mujer de 37 años que impactó con su guagua una barrera de metal en Humacao  \n",
      "Autor:  Por Yaritza Rivera Clemente\n",
      "URL:  https://www.elnuevodia.com/noticias/seguridad/notas/muere-mujer-de-37-anos-que-impacto-con-su-guagua-una-barrera-de-metal-en-humacao/\n",
      "Titulo:  Primer feminicidio del 2024 se convierte en masacre\n",
      "Autor:  Por Yaritza Rivera Clemente\n",
      "URL:  https://www.elnuevodia.com/noticias/seguridad/notas/primer-feminicidio-del-2024-se-convierte-en-masacre/\n",
      "Titulo:  No descartan ningún móvil en asesinato de contratista en Yabucoa: los gatilleros acecharon a la víctima\n",
      "Autor:  Por Yaritza Rivera Clemente\n",
      "URL:  https://www.elnuevodia.com/noticias/seguridad/notas/no-descartan-ningun-movil-en-asesinato-de-contratista-en-yabucoa-los-gatilleros-acecharon-a-la-victima/\n",
      "Titulo:  Golpe a la ganga Los Viraos: Policía le tumba control de acceso ilegal que bloqueaba entrada a residencial en Cayey \n",
      "Autor:  Por Yaritza Rivera Clemente\n",
      "URL:  https://www.elnuevodia.com/noticias/seguridad/notas/golpe-a-la-ganga-los-viraos-policia-le-tumba-control-de-acceso-ilegal-que-bloqueaba-entrada-a-residencial-en-cayey/\n",
      "Titulo:  El CIC de Fajardo indaga sobre personas desaparecidas en intento por identificar los tres cuerpos hallados en zona boscosa de Ceiba\n",
      "Autor:  Por Yaritza Rivera Clemente\n",
      "URL:  https://www.elnuevodia.com/noticias/seguridad/notas/el-cic-de-fajardo-indaga-sobre-personas-desaparecidas-en-intento-por-identificar-los-tres-cuerpos-hallados-en-zona-boscosa-de-ceiba/\n",
      "Titulo:  Crimen atroz: delincuentes secuestran y asesinan a comerciante tras perpetrar robo domiciliario\n",
      "Autor:  Por Yaritza Rivera Clemente\n",
      "URL:  https://www.elnuevodia.com/noticias/seguridad/notas/crimen-atroz-delincuentes-secuestran-y-asesinan-a-comerciante-tras-perpetrar-robo-domiciliario/\n",
      "Titulo:  Buscan a hombre que presuntamente llamó más de 19,000 veces al Sistema de Emergencias 9-1-1\n",
      "Autor:  Por Yaritza Rivera Clemente\n",
      "URL:  https://www.elnuevodia.com/noticias/seguridad/notas/buscan-a-hombre-que-presuntamente-llamo-mas-de-19000-veces-al-sistema-de-emergencias-9-1-1/\n",
      "Titulo:  Reportan varios vehículos incendiados en estacionamiento de institución hospitalaria en Manatí \n",
      "Autor:  Por Yaritza Rivera Clemente\n",
      "URL:  https://www.elnuevodia.com/noticias/seguridad/notas/reportan-varios-vehiculos-incendiados-en-estacionamiento-de-institucion-hospitalaria-en-manati/\n",
      "Titulo:  Policía ejecuta operativos en áreas donde se ha registrado un alza en la incidencia criminal \n",
      "Autor:  Por Yaritza Rivera Clemente\n",
      "URL:  https://www.elnuevodia.com/noticias/seguridad/notas/policia-ejecuta-operativos-en-areas-donde-se-ha-registrado-un-alza-en-la-incidencia-criminal/\n",
      "Titulo:  La Policía investiga fraude en compra de perro pomerania \n",
      "Autor:  Por Yaritza Rivera Clemente\n",
      "URL:  https://www.elnuevodia.com/noticias/seguridad/notas/la-policia-investiga-fraude-en-compra-de-perro-pomerania/\n",
      "Titulo:  Hallan tres cuerpos en avanzado estado de descomposición en Ceiba\n",
      "Autor:  Por Yaritza Rivera Clemente\n",
      "URL:  https://www.elnuevodia.com/noticias/seguridad/notas/hallan-tres-cuerpos-en-avanzado-estado-de-descomposicion-en-ceiba/\n",
      "Titulo:  Con nuevo rol el coronel Roberto Rivera tras ser relevado de sus funciones en el Negociado de la Policía \n",
      "Autor:  Por Yaritza Rivera Clemente\n",
      "URL:  https://www.elnuevodia.com/noticias/seguridad/notas/con-nuevo-rol-el-coronel-roberto-rivera-tras-ser-relevado-de-sus-funciones-en-el-negociado-de-la-policia/\n"
     ]
    }
   ],
   "source": [
    "for artcl in articles:\n",
    "      try:\n",
    "            if artcl.find(\"h5\", {\"class\": \"standard-teaser-subheading slug\"}).text == \"Seguridad\":\n",
    "                  title= artcl.find('h3', {'class':'standard-teaser-headline teaser-headline'}).text\n",
    "                  artcl_url= artcl.find(\"a\", href= True)['href']\n",
    "                  author= artcl.find(\"div\", {\"class\": \"authors-byline-text\"}).text\n",
    "                  print(\"Titulo: \", title)\n",
    "                  print(\"Autor: \", author)\n",
    "                  print(\"URL: \", \"https://www.elnuevodia.com\" + artcl_url)\n",
    "\n",
    "      except AttributeError:\n",
    "            print(\"nada\")\n"
   ]
  }
 ],
 "metadata": {
  "kernelspec": {
   "display_name": "Python 3",
   "language": "python",
   "name": "python3"
  },
  "language_info": {
   "codemirror_mode": {
    "name": "ipython",
    "version": 3
   },
   "file_extension": ".py",
   "mimetype": "text/x-python",
   "name": "python",
   "nbconvert_exporter": "python",
   "pygments_lexer": "ipython3",
   "version": "3.12.4"
  }
 },
 "nbformat": 4,
 "nbformat_minor": 2
}
