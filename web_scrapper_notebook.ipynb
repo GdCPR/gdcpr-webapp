{
 "cells": [
  {
   "cell_type": "markdown",
   "metadata": {},
   "source": [
    "# Endi.com Web-Scrapper"
   ]
  },
  {
   "cell_type": "markdown",
   "metadata": {},
   "source": [
    "## Import Modules\n",
    "* requests -> to send HTTP/1.1 requests\n",
    "* bas4/BeautifulSoup -> parsing HTML documents\n",
    "* itertools -> counter functionality\n",
    "* spacy -> NLP\n",
    "* unidecode -> unicode to ASCII characters"
   ]
  },
  {
   "cell_type": "code",
   "execution_count": 1,
   "metadata": {},
   "outputs": [],
   "source": [
    "import requests\n",
    "import pandas as pd\n",
    "from bs4 import BeautifulSoup, element\n",
    "from itertools import count\n",
    "import spacy\n",
    "from unidecode import unidecode\n"
   ]
  },
  {
   "cell_type": "markdown",
   "metadata": {},
   "source": [
    "## Variables"
   ]
  },
  {
   "cell_type": "code",
   "execution_count": 2,
   "metadata": {},
   "outputs": [],
   "source": [
    "# Base url\n",
    "news_url= \"https://www.elnuevodia.com/noticias/seguridad\""
   ]
  },
  {
   "cell_type": "markdown",
   "metadata": {},
   "source": [
    "## Extract and Save HTML Content"
   ]
  },
  {
   "cell_type": "code",
   "execution_count": 3,
   "metadata": {},
   "outputs": [],
   "source": [
    "# Get request to base url\n",
    "news_html = requests.get(news_url)"
   ]
  },
  {
   "cell_type": "markdown",
   "metadata": {},
   "source": [
    "## Parse HTML Content"
   ]
  },
  {
   "cell_type": "code",
   "execution_count": 4,
   "metadata": {},
   "outputs": [],
   "source": [
    "# Creating soup of HTML text content with bs4 HTML parser\n",
    "main_soup = BeautifulSoup(news_html.text, 'html.parser')"
   ]
  },
  {
   "cell_type": "markdown",
   "metadata": {},
   "source": [
    "## Find Articles"
   ]
  },
  {
   "cell_type": "code",
   "execution_count": 5,
   "metadata": {},
   "outputs": [],
   "source": [
    "# find all articles by tag and class specification\n",
    "articles = main_soup.find_all('article', {'class': 'standard-teaser-container condensed-horizontal news'})"
   ]
  },
  {
   "cell_type": "markdown",
   "metadata": {},
   "source": [
    "## Function to Print Better Fictionaries"
   ]
  },
  {
   "cell_type": "code",
   "execution_count": 6,
   "metadata": {},
   "outputs": [],
   "source": [
    "def pretty_print_dict(d):\n",
    "    # From: https://www.geeksforgeeks.org/python-pretty-print-a-dictionary-with-dictionary-value/\n",
    "    #take empty string\n",
    "    pretty_dict = ''  \n",
    "        \n",
    "    #get items for dict\n",
    "    for k, v in d.items():\n",
    "        pretty_dict += f'{k}: \\n'\n",
    "        for value in v:\n",
    "            pretty_dict += f'    {value}: {v[value]}\\n'\n",
    "    #return result\n",
    "    return pretty_dict"
   ]
  },
  {
   "cell_type": "markdown",
   "metadata": {},
   "source": [
    "## Function to Extract Articles Data\n",
    "* Title\n",
    "* Path\n",
    "* url\n",
    "* Author"
   ]
  },
  {
   "cell_type": "code",
   "execution_count": 7,
   "metadata": {},
   "outputs": [],
   "source": [
    "def get_artcl_data(article: element.Tag) -> dict:\n",
    "        \"\"\"\n",
    "        Extract articles data from endi.com digital news paper.\n",
    "\n",
    "        Parameters\n",
    "        ----------\n",
    "        articles : ResultSet\n",
    "            list of query results\n",
    "\n",
    "        Returns\n",
    "        -------\n",
    "        dict\n",
    "            a dictionary containing article title, url, and author data\n",
    "\n",
    "        Raises\n",
    "        ------\n",
    "        Error Counter\n",
    "            when article not found\n",
    "        \"\"\"\n",
    "        try:\n",
    "            # Extract article title \n",
    "            article_headline= article.find(name= 'h3', attrs= {'class':'standard-teaser-headline teaser-headline'}).text\n",
    "            \n",
    "            # Extract article path\n",
    "            article_path= article.find(name= \"a\", href= True)['href']\n",
    "            \n",
    "            # Extract article url\n",
    "            article_url= \"https://www.elnuevodia.com{path}\".format(path= article_path)\n",
    "            \n",
    "            # Extract article author\n",
    "            article_author= article.find(\"div\", {\"class\": \"authors-byline-text\"}).text\n",
    "            \n",
    "            # Return dictionary with data\n",
    "            return {\"headline\": article_headline, \"url\": article_url, \"author\": article_author}\n",
    "        except:\n",
    "             # Print message is find error\n",
    "             print(\"¡No se encontró resultado!\")"
   ]
  },
  {
   "cell_type": "markdown",
   "metadata": {},
   "source": [
    "## Function to Extract Articles Content\n",
    "Alsi, it appends the contents into the given dictionary.\n",
    "* Subheadline\n",
    "* Date\n",
    "* Time\n",
    "* Content"
   ]
  },
  {
   "cell_type": "code",
   "execution_count": 8,
   "metadata": {},
   "outputs": [],
   "source": [
    "def get_artcl_content(article_data: dict) -> dict:\n",
    "    article_html = requests.get(article_data[\"url\"])\n",
    "    \n",
    "    article_soup= BeautifulSoup(article_html.text, \"html.parser\")\n",
    "    \n",
    "    headline_sub= article_soup.find(name= \"div\", attrs= {\"class\": \"article-headline__subheadline\"}).text\n",
    "    \n",
    "    article_date_time= (article_soup.find(name= \"div\", attrs= {\"class\": \"article-headline__date\"}).text).split(\"-\")\n",
    "    article_date= article_date_time[0].strip()\n",
    "    article_time= article_date_time[1].strip()\n",
    "    \n",
    "    article_content= article_soup.find_all(name= \"p\", attrs= {\"class\": \"content-element\"})\n",
    "    content= []\n",
    "    for __ in article_content: content.append(__.text)\n",
    "    content= \" \".join(content)\n",
    "    \n",
    "    return {\"headline_sub\": headline_sub, \"date\": article_date, \"time\": article_time, \"content\": content}"
   ]
  },
  {
   "cell_type": "markdown",
   "metadata": {},
   "source": [
    "## Iterate Articles and Construct Dictionary "
   ]
  },
  {
   "cell_type": "code",
   "execution_count": 9,
   "metadata": {},
   "outputs": [],
   "source": [
    "data_handler= {}\n",
    "stats_handler= {}\n",
    "\n",
    "for _ in zip(count(start= 1, step= 1), articles): data_handler[str(_[0])]= get_artcl_data(article= _[1])\n",
    "for _ in data_handler.keys(): data_handler[_].update(get_artcl_content(article_data= data_handler[_]))"
   ]
  },
  {
   "cell_type": "markdown",
   "metadata": {},
   "source": [
    "## Download Data of Pueblos de Puerto Rico from Wikipedia"
   ]
  },
  {
   "cell_type": "code",
   "execution_count": 10,
   "metadata": {},
   "outputs": [],
   "source": [
    "# Store html tables\n",
    "df_wiki= pd.read_html(\"https://en.wikipedia.org/wiki/Pueblos_in_Puerto_Rico#List_of_Pueblos\")\n",
    "\n",
    "# Filter for the first table and unique values from the Pueblos Column\n",
    "pueblos_list= (df_wiki[0][\"Pueblo\"].unique())\n",
    "\n",
    "# Create list pueblos\n",
    "pueblos= []\n",
    "for pueblo in pueblos_list: pueblos.append(unidecode(pueblo))\n",
    "pueblos.append(\"San Juan\")"
   ]
  },
  {
   "cell_type": "markdown",
   "metadata": {},
   "source": [
    "## Configure spaCy model"
   ]
  },
  {
   "cell_type": "code",
   "execution_count": 11,
   "metadata": {},
   "outputs": [],
   "source": [
    "# Load the model\n",
    "npl= spacy.load(\"es_core_news_sm\")"
   ]
  },
  {
   "cell_type": "markdown",
   "metadata": {},
   "source": [
    "## Add pueblos to data handler\n",
    "!!!   Need to package this into a function   !!!"
   ]
  },
  {
   "cell_type": "code",
   "execution_count": 12,
   "metadata": {},
   "outputs": [
    {
     "name": "stdout",
     "output_type": "stream",
     "text": [
      "End!\n"
     ]
    }
   ],
   "source": [
    "# Iterate over data_handler\n",
    "for _ in count(start= 1, step= 1):\n",
    "    try:\n",
    "        # Get article content\n",
    "        text= unidecode(data_handler[str(_)][\"content\"])\n",
    "        \n",
    "        # Analyze article content\n",
    "        doc= npl(text)\n",
    "\n",
    "        # Store the pueblos found from the article content\n",
    "        pueblos_found= [ent.text for ent in doc.ents if ent.label_== \"LOC\"]\n",
    "\n",
    "        # \n",
    "        # Validate model found words with pueblos de puerto rico list \n",
    "        pueblos_validated= set(pueblos_found) & set(pueblos)\n",
    "        data_handler[str(_)].update({\"pueblos\": list(pueblos_validated)}) \n",
    "        # print(list(pueblos_validated)) if bool(pueblos_validated) else print(\"NaN\")\n",
    "        \n",
    "    except:\n",
    "        print(\"End!\")\n",
    "        break"
   ]
  },
  {
   "cell_type": "markdown",
   "metadata": {},
   "source": [
    "## Final Data"
   ]
  },
  {
   "cell_type": "code",
   "execution_count": 13,
   "metadata": {},
   "outputs": [
    {
     "name": "stdout",
     "output_type": "stream",
     "text": [
      "1: \n",
      "    headline: Ocupan sobre 650 plantas de marihuana en un invernadero ilegal en CaimitoHasta el momento, la Uniformada no ha arrestado a ninguna persona como parte del allanamiento\n",
      "    url: https://www.elnuevodia.com/noticias/seguridad/notas/ocupan-sobre-650-plantas-de-marihuana-en-un-invernadero-ilegal-en-caimito/\n",
      "    author: Por Andrea Guemárez Soto\n",
      "    headline_sub: Hasta el momento, la Uniformada no ha arrestado a ninguna persona como parte del allanamiento\n",
      "    date: 26 de junio de 2024\n",
      "    time: 3:42 PM\n",
      "    content: Agentes del Negociado de la Policía ocuparon este miércoles sobre 650 plantas de marihuana durante un allanamiento de un invernadero ilegal en una residencia ubicada en la calle principal del barrio Dulce, en Caimito, San Juan La portavoz de prensa de la Uniformada, Damarisse Martínez, indicó a El Nuevo Día que, al momento de realizar el operativo, no había ninguna persona en el hogar, por lo que, hasta ahora, no se ha arrestado a ningún individuo. A preguntas de este medio sobre si los agentes han ocupado algún otro artículo, Martínez señaló que se trata de un operativo que está en proceso y que “hay que esperar a que terminen de contabilizar a ver si hay otra cosa”. La orden de allanamiento fue emitida por el juez Glenn Velázquez Morales del Tribunal de Primera Instancia de San Juan. La Unidad Anticrimen del área policiaca de San Juan lidera el operativo bajo la supervisión del teniente Daniel Rosado y junto a la fiscal Teresita Morales, de la Fiscalía de San Juan.\n",
      "    pueblos: ['San Juan']\n",
      "2: \n",
      "    headline: Encuentran a dos hombres muertos en una residencia en San JuanNo se identificaron signos de violencia en la casa\n",
      "    url: https://www.elnuevodia.com/noticias/seguridad/notas/encuentran-dos-personas-muertas-en-una-residencia-en-san-juan/\n",
      "    author: Por Richard I. Colón Badillo\n",
      "    headline_sub: No se identificaron signos de violencia en la casa\n",
      "    date: 26 de junio de 2024\n",
      "    time: 2:55 PM\n",
      "    content: Los cuerpos sin vida de dos personas fueron encontrados a las 1:25 p.m. del martes dentro de una residencia ubicada en la calle 53FE, urbanización Reparto Metropolitano, en San Juan. Según la información provista por la Policía a El Nuevo Día, el caso fue investigado preliminarmente por el Precinto de Puerto Nuevo, quienes se movilizaron a la escena tras una llamada al Sistema de Emergencias 9-1-1 alertar sobre un caso médico en el lugar. Tras llegar a la casa, los agentes de la Uniformada intentaron establecer contacto con los residentes pero nadie contestó. Al lograr acceso a la casa, encontraron el cuerpo de un hombre en la sala de aproximadamente 44 años y en el cuarto encontraron el segundo cuerpo de un hombre de aproximadamente 70 años. Ninguno de los cuerpos encontrados presentaba signos de violencia. Los infortunados no han sido identificados. El Cuerpo de Investigaciones Criminales de San Juan investiga la escena.\n",
      "    pueblos: ['San Juan']\n",
      "3: \n",
      "    headline: Causa para arresto contra hombre imputado de violencia doméstica, secuestro y escalamiento en San GermánLuis A. Pérez Acosta, empleado del Municipio de Cabo Rojo, presuntamente cometió los hechos contra su pareja de 56 años \n",
      "    url: https://www.elnuevodia.com/noticias/seguridad/notas/causa-para-arresto-contra-hombre-imputado-de-violencia-domestica-secuestro-y-escalamiento-en-san-german/\n",
      "    author: Por Florencia García Melazzo\n",
      "    headline_sub: Luis A. Pérez Acosta, empleado del Municipio de Cabo Rojo, presuntamente cometió los hechos contra su pareja de 56 años \n",
      "    date: 26 de junio de 2024\n",
      "    time: 1:52 PM\n",
      "    content: El juez Luis Padilla Galiano, del Tribunal de Mayagüez, determinó el miércoles causa para arresto contra un empleado del Municipio de Cabo Rojo imputado de cometer delitos de violencia doméstica, escalamiento agravado y secuestro contra su pareja de 56 años. La investigación del Negociado de la Policía resalta que en la madrugada del pasado 24 de junio, a las 12:30 a.m., Luis A. Pérez Acosta, de 51 años, cometió los delitos antes mencionados contra su pareja consensual en el municipio de San Germán. Al momento de su detención, a Pérez Acosta se le ocupó un arma de fuego calibre .45. Por estos hechos, el fiscal Hassan Maldonado Cruz de la Fiscalía de Mayagüez radicó contra el imputado tres cargos criminales: uno por secuestro, en tenor al artículo 157 del Código Penal (CP), uno por escalamiento agravado en tenor al artículo 195 del CP, y otro por violación al artículo 3.5 de la Ley 54 para la Prevención e Intervención con la Violencia Doméstica. Tras considerar la prueba presentada, el juez Luis Padilla Galiano encontró causa contra Pérez Acosta y le impuso una fianza global de $75,000, la cual no pudo prestar, por lo que fue ingresado en la cárcel Las Cucharas de Ponce. La vista preliminar fue pautada para el 10 de julio de 2024. --- Tanto la Policía como la Oficina de la Procuradora de las Mujeres tienen herramientas para atender, confidencialmente, cualquier señalamiento o querella sobre un patrón de abuso, maltrato o situación por violencia de género. Si atraviesas por una emergencia o incidente que requiere la intervención inmediata de las autoridades, llama al Sistema de Emergencias 9-1-1. Si eres o conoces de una persona que atraviesa un patrón similar, puedes comunicarte con la Policía al 787-792-6734 o 787-343-2020, así como con la Oficina de la Procuradora de las Mujeres al 787-722-2977.\n",
      "    pueblos: ['San German']\n",
      "4: \n",
      "    headline: “Vienen de otros sitios y los llevan ahí”: aseguran que barrio en Manatí donde encontraron dos cuerpos es utilizado para deshacerse de cadáveresLa Policía sospecha que se debe a la falta de cámaras de seguridad y a lo remoto de la zona\n",
      "    url: https://www.elnuevodia.com/noticias/seguridad/notas/vienen-de-otros-sitios-y-los-llevan-ahi-aseguran-que-barrio-en-manati-donde-encontraron-dos-cuerpos-es-utilizado-para-deshacerse-de-cadaveres/\n",
      "    author: Por Richard I. Colón Badillo\n",
      "    headline_sub: La Policía sospecha que se debe a la falta de cámaras de seguridad y a lo remoto de la zona\n",
      "    date: 26 de junio de 2024\n",
      "    time: 12:31 PM\n",
      "    content: El barrio Montebello, en Manatí, es un área residencial que recientemente cobró notoriedad luego de que se encontraran los cuerpos de dos personas que se cree fueron asesinadas y tiradas en el lugar. Según las autoridades, este no sería un incidente aislado y podría deberse a la falta de cámaras de seguridad y vigilancia en la zona.  “Es más fácil para tirarlos (los cadáveres). No hay cámaras por el lugar, es un área solitaria”, expresó el inspector Carlos Vélez, director del Cuerpo de Investigaciones Criminales en Arecibo.  Montebello ubica en la carretera PR-642, en una colindancia entre los pueblos de Manatí y Florida. El área, a través de Manatí, es accesible por medio de un puente conectado a la PR-6685. Los otros dos accesos disponibles son por la PR-642 y por la PR-641, que llevan directamente hacia el municipio de Florida. “Montebello es un barrio tranquilo... vienen de otros sitios y los llevan ahí”, reiteró Vélez, cuyo equipo, al momento, busca si existe algún vínculo entre el asesinato de Ian Félix Pérez Negrón, de 19 años, y Vicent J. Oquendo Díaz, de 27 años, quienes fueron reportados como desaparecidos en la mañana del martes. El cuerpo de Oquendo Díaz fue localizado en la noche del lunes, flotando a orillas de un río debajo del puente Montebello, en la PR-6685. Una llamada al Sistema de Emergencias 9-1-1 alertó a las autoridades sobre el hallazgo. Durante la investigación, la Uniformada ocupó varios casquillos de diferentes calibres en el puente. En un informe de novedades, las autoridades indicaron que el cuerpo de Oquendo Díaz presentaba heridas de proyectil de bala en distintas partes. Posteriormente, en la tarde del martes, la Policía informó sobre el hallazgo de un segundo cuerpo baleado, atado de manos y pies, y localizado en la misma vía. El cuerpo del occiso fue identificado, horas después, como el de Pérez Negrón. Según las autoridades, Pérez Negrón poseía expediente criminal previo y una probatoria por violaciones a la Ley de Sustancias Controladas y Ley de Armas. Entre algunas de las teorías que mantiene el CIC está la posibilidad de guerras entre distintas organizaciones criminales por los puntos de droga en la zona. El pasado 30 de abril, Luis Ismael Maldonado Ramos, de 32 años, residente del pueblo de Florida, fue asesinado a balazos precisamente en el barrio Montebello. El cuerpo fue encontrado tirado sobre la puerta del conductor de un vehículo marca Mitsubishi, modelo Mirage color gris, mostrando varias heridas de bala en diferentes partes de su cuerpo que, presuntamente, le provocaron la muerte en el acto. Posteriormente, el 9 de mayo, se encontró en la PR-642 el cuerpo de Emanuel Díaz Vega, de 34 años, conocido como “Pecue” y residente de Mayagüez. En 2024, Manatí ha sido escenario de múltiples asesinatos, mayormente ligados al narcotráfico. Aunque la Policía aseguró que continúan investigando si se debe a una organización criminal específica y que mantienen un plan de trabajo para atajar la creciente ola de violencia, los asesinatos siguen aumentando.\n",
      "    pueblos: ['Mayaguez', 'Manati', 'Arecibo']\n",
      "5: \n",
      "    headline: Hallan el cuerpo sin vida de una mujer en una residencia en PonceLas autoridades fueron alertadas por el arrendador de la casa, quien notificó que un vecino le comentó sobre un fuerte hedor en el lugar\n",
      "    url: https://www.elnuevodia.com/noticias/seguridad/notas/hallan-el-cuerpo-sin-vida-de-una-mujer-en-una-residencia-en-ponce/\n",
      "    author: Por Richard I. Colón Badillo\n",
      "    headline_sub: Las autoridades fueron alertadas por el arrendador de la casa, quien notificó que un vecino le comentó sobre un fuerte hedor en el lugar\n",
      "    date: 26 de junio de 2024\n",
      "    time: 12:07 PM\n",
      "    content: El cuerpo sin vida de una mujer fue encontrado dentro de una residencia en la calle Esperanza, sector Mariani, en Ponce a las 6:30 p.m. del martes. Según un informe de la Policía, el arrendador de la residencia notificó a las autoridades que un vecino le informó sobre un fuerte hedor que salía de la casa. Al verificar la residencia, descubrieron el cuerpo de la mujer en avanzado estado de descomposición. Al momento, no se ha podido determinar su identidad. En el lugar no se observaron signos de violencia. El caso es investigado por el Cuerpo de Investigaciones Criminales (CIC) de Ponce, mientras que el cuerpo fue transportado al Instituto de Ciencias Forenses.\n",
      "    pueblos: []\n",
      "6: \n",
      "    headline: Realizan “carjacking” a conductor en estación de gasolina en Vega AltaUn conductor denunció haber sido víctima de un robo de auto a mano armada a las 8:30 de la noche en una estación de gasolina en la PR-2 \n",
      "    url: https://www.elnuevodia.com/noticias/seguridad/notas/realizan-carjacking-a-conductor-en-estacion-de-gasolina-en-vega-alta/\n",
      "    author: Por Agustín Criollo Oquero\n",
      "    headline_sub: Un conductor denunció haber sido víctima de un robo de auto a mano armada a las 8:30 de la noche en una estación de gasolina en la PR-2 \n",
      "    date: 26 de junio de 2024\n",
      "    time: 7:07 AM\n",
      "    content: Un robo de auto a mano armada fue reportado a las 8:30 de la noche del martes en una estación de gasolina en la carretera PR-2, en Vega Alta, informó el Negociado de la Policía (NPPR). Según destaca un informe preliminar, un conductor indicó que mientras se encontraba en el área de las bombas de gasolina en la estación Phillips 66 ubicada frente al residencial público Las Violetas, de ese municipio, un individuo se le acercó y, mediante amenaza e intimidación utilizando un arma de fuego, lo agredió y lo despojó de su vehículo marca Hyundai, modelo Accent color rojo de 2017 con tablilla IWZ-789. No se informó sobre la condición de la víctima del robo. El agente Waldemar Soto, adscrito al distrito policiaco de Vega Alta, investigó preliminarmente y refirió a la División de Robos del Cuerpo de Investigaciones Criminales (CIC) de Vega Baja, quienes continuaran con la investigación.\n",
      "    pueblos: ['Vega Alta', 'Vega Baja']\n",
      "7: \n",
      "    headline: Los dos cuerpos baleados hallados en Manatí corresponden a jóvenes reportados como desaparecidosLa Uniformada confirmó la información y además investiga si existe alguna relación entre las muertes violentas de Ian Félix Pérez Negrón, de 19 años, y Vicent J. Oquendo Díaz, de 27 años\n",
      "    url: https://www.elnuevodia.com/noticias/seguridad/notas/los-dos-cuerpos-baleados-hallados-en-manati-corresponden-a-jovenes-reportados-como-desaparecidos/\n",
      "    author: Por Andrea Guemárez Soto\n",
      "    headline_sub: La Uniformada confirmó la información y además investiga si existe alguna relación entre las muertes violentas de Ian Félix Pérez Negrón, de 19 años, y Vicent J. Oquendo Díaz, de 27 años\n",
      "    date: 26 de junio de 2024\n",
      "    time: 8:02 PM\n",
      "    content: El Cuerpo de Investigaciones Criminales (CIC) de Arecibo confirmó a El Nuevo Día el martes que los cuerpos baleados que fueron encontrados en Manatí, durante la noche del lunes y la tarde del martes, corresponden a dos jóvenes que fueron reportados como desaparecidos esta mañana, en Vega Alta. La teniente Francheska Barreto, directora de la División de Homicidios del CIC de Arecibo, indicó vía telefónica que, luego de que ambos jóvenes fueran identificados, la Uniformada confirmó que se trataba de Ian Félix Pérez Negrón, de 19 años y Vicent J. Oquendo Díaz, de 27 años, cuya desaparición había sido reportada más temprano en un cuartel de Vega Alta. El cuerpo de Oquendo Díaz fue localizado en la noche del lunes, flotando a orillas de un río debajo del puente Montebello, en la PR-6685. Una llamada al Sistema de Emergencias 9-1-1 alertó a las autoridades sobre el hallazgo. Durante la investigación, la Uniformada ocupó varios casquillos de diferentes calibres en el puente. En un informe de novedades, las autoridades indicaron que el cuerpo de Oquendo Díaz presentaba heridas de proyectil de bala en distintas partes. Posteriormente, en la tarde del martes, la Policía informó sobre el hallazgo de un segundo cuerpo baleado, atado de manos y pies, y localizado en la misma vía. El cuerpo del occiso fue identificado, horas después, como el de Pérez Negrón. Según las autoridades, Pérez Negrón poseía expediente criminal previo y una probatoria por violaciones a la Ley de Sustancias Controladas y Ley de Armas. Como parte de la pesquisa, el CIC investiga si existe una relación entre ambos incidentes dadas las circunstancias en que fueron encontrados los jóvenes y la cercanía de los hallazgos. “En eso, estamos trabajando. Estamos haciendo las entrevistas a los familiares para poder verificar si hay un vínculo entre ellos dos”, sostuvo la teniente Barreto.\n",
      "    pueblos: ['Manati', 'Vega Alta', 'Arecibo']\n",
      "8: \n",
      "    headline: Informe sobre la investigación de Justicia por excarcelación de feminicida de Manatí estaría listo en septiembreSe espera que el sospechoso, Hermes Ávila Vázquez, sea entrevistado por las fiscales encargadas de emitir el informe\n",
      "    url: https://www.elnuevodia.com/noticias/seguridad/notas/informe-sobre-la-investigacion-de-justicia-por-excarcelacion-de-feminicida-de-manati-estaria-listo-en-septiembre/\n",
      "    author: Por Richard I. Colón Badillo\n",
      "    headline_sub: Se espera que el sospechoso, Hermes Ávila Vázquez, sea entrevistado por las fiscales encargadas de emitir el informe\n",
      "    date: 25 de junio de 2024\n",
      "    time: 4:15 PM\n",
      "    content: El secretario de Justicia, Domingo Emanuelli, adelantó que no espera tener hasta mediados de septiembre de este año un informe de parte de las fiscales de la División de Integridad Pública que investigan el manejo de la excarcelación de Hermes Ávila Vázquez por parte del Departamento de Corrección. “Esto es un caso que requiere múltiples entrevistas y yo creo que no más temprano del 15 de septiembre no va a estar ese informe”, expresó Emanuelli durante una conferencia de prensa en la que el Departamento de Justicia anunció una serie de demandas contra exfuncionarios convictos federales para restituir el dinero apropiado. El funcionario además aseguró que las declaraciones que tenga que hacer Ávila Vázquez formarán parte de las entrevistas que harán las fiscales encargadas de la investigación. “Ya se han entrevistado sobre 40 personas, el orden de entrevista lo determinan las fiscales para así saber cuál es la etapa más adecuada para entrevistar a esas personas. Presumo yo que el señor Hermes Ávila, si se va a entrevistar, debe ser de los últimos, pero eso es una decisión que toman las fiscales en la cual yo no intervengo”, aseveró el funcionario. Ávila Vázquez, quien fue convicto por 122 años de prisión por cargos de asesinato en primer grado, secuestro, agresión sexual y violación a la Ley de Armas, de una terapista física en Caguas en el 2005, fue excarcelado en 2023 al amparo de una ley que beneficia a reos con enfermedades incapacitantes severas, pese a que no cumplía con las estipulaciones para excarcelación. Posteriormente, el individuo presuntamente asesinó a Ivette Joan Meléndez cerca de la playa Los Tubos en Manatí. Tras esto, el Departamento de Justicia inició una investigación ante el proceso de excarcelación de Ávila Vázquez y tras ser referidos los hallazgos preliminares de una evaluación del Departamento de Corrección hecha a los expedientes médicos del imputado. En una carta escrita a mano, Ávila Vázquez solicitó hablar con el Departamento de Justicia y que estaría dispuesto a revelar “quiénes fueron los que sabían que yo caminaba”. La carta fue referida a Justicia por parte del Departamento de Corrección para añadir a la investigación en curso. “El Departamento de Justicia está entrevistando a todas las personas que pueden brindar información o evidencia que contribuya al descubrimiento de la verdad sobre este caso que nos ha conmocionado a todos. Por tratarse de una investigación activa, no emitiremos detalles adicionales para no afectar el proceso”, afirmó en ese entonces el secretario.\n",
      "    pueblos: ['Manati', 'Caguas']\n",
      "9: \n",
      "    headline: Identifican cadáver de joven encontrado en la carretera PR-6685 en ManatíUn familiar identificó el cuerpo de Ian Félix Pérez Negrón de 19 años, uno de los dos jóvenes reportados como desaparecidos en Vega Alta en la mañana del martes\n",
      "    url: https://www.elnuevodia.com/noticias/seguridad/notas/identifican-cadaver-de-joven-encontrado-en-la-carretera-pr-6685-en-manati/\n",
      "    author: Por Yaritza Rivera Clemente\n",
      "    headline_sub: Un familiar identificó el cuerpo de Ian Félix Pérez Negrón de 19 años, uno de los dos jóvenes reportados como desaparecidos en Vega Alta en la mañana del martes\n",
      "    date: 25 de junio de 2024\n",
      "    time: 2:17 PM\n",
      "    content: El cuerpo de un hombre, que presenta heridas de bala y se encuentra atado de manos y pies, fue encontrado, en horas de la tarde del martes, en el kilómetro 9.0, en la carretera PR-6685, en el barrio Montebello, en el municipio de Manatí, informó el Negociado de la Policía. De acuerdo al informe preliminar emitido por la Uniformada, el occiso fue identificado por un familiar como Ian Félix Pérez Negrón, de 19 años y residente de Vega Alta, quien poseía expediente criminal previo y una probatoria federal por sustancias controladas y Ley de Armas. Las autoridades fueron alertadas sobre el hallazgo del cadáver a las 12:20 p.m. de este martes, por lo que agentes del Distrito de Manatí se movilizaron a la escena y confirmaron que se trataba de un hombre, cuyo cuerpo se encontraba boca abajo, baleado y atado de manos y pies. Al presente, la Policía indaga si este caso guarda relación con el cuerpo baleado que fue encontrado, el lunes, a orillas de un río debajo del puente Montebello, en el mismo municipio. El occiso fue identificado en la escena como Vicent J. Oquendo Díaz, de 27 años y vecino de Vega Alta. La teniente Francheska Barreto, directora de la División de Homicidios del Cuerpo de Investigaciones Criminales (CIC) de Arecibo confirmó a El Nuevo Día que ambos cuerpos corresponden a dos jóvenes reportados como desaparecidos en la mañana del martes en un cuartel de Vega Alta. A preguntas de El Nuevo Día sobre si la Policía ha identificado algún vínculo entre ambos incidentes, Barreto respondió que “en eso estamos trabajando. Estamos haciendo las entrevistas a los familiares para poder verificar si hay un vínculo entre ellos dos”. Al presente, este es el decimocuarto asesinato que se reporta en lo que va de año en Manatí.\n",
      "    pueblos: ['Manati', 'Vega Alta', 'Arecibo']\n",
      "10: \n",
      "    headline: Arrestan a tres presuntos miembros de las FARC tras chocar patrulla en San JuanEl inspector Joey Fontánez, director de la División de Inteligencia y Arrestos de la Policía, indicó que los detenidos son dos hombres de 28 y 24 años, y una mujer cuya edad no fue precisada\n",
      "    url: https://www.elnuevodia.com/noticias/seguridad/notas/arrestan-a-tres-presuntos-miembros-de-las-farc-tras-chocar-patrulla-en-san-juan/\n",
      "    author: Por Alex Figueroa Cancel\n",
      "    headline_sub: El inspector Joey Fontánez, director de la División de Inteligencia y Arrestos de la Policía, indicó que los detenidos son dos hombres de 28 y 24 años, y una mujer cuya edad no fue precisada\n",
      "    date: 25 de junio de 2024\n",
      "    time: 1:26 PM\n",
      "    content: La Policía arrestó el martes a tres personas que figuran como presuntos miembros de la narcoganga conocida como las Fuerzas Armadas Revolucionarias de Cantera, o “Las FARC”, en Barrio Obrero, San Juan. El inspector Joey Fontánez, director de la División de Inteligencia y Arrestos de la Policía, indicó que los detenidos son dos hombres de 28 y 24 años, y una mujer cuya edad no fue precisada. “Los muchachos de inteligencia y arrestos de San Juan hacen unas observaciones y cuando deciden intervenir, este vehículo trata de darse a la huida y choca un vehículo confidencial de nosotros (de la Policía”, explicó Fontánez. Agregó que uno de los oficiales rompió “el cristal del carro debido a que (uno de los detenidos) no quería abrir y estaba manipulando en ese momento un arma de fuego”. Además, señaló que se trata de una pistola que está ilegalmente “modificada para disparar en automático”, lo que es un delito estatal y federal. “La historia hubiera sido otra (si no rompen el cristal), quizás un revés para ellos o para nosotros. No obstante, avanzamos en la intervención para que no se fuera de control”, apuntó el inspector. Fontánez dijo que en el auto ocuparon cocaína y marihuana “en grandes cantidades”. “Estas personas son parte de las FARC en Cantera. Son personas previamente identificadas en esta organización. Van a ser llevados al Cuartel General y serán entrevistados por una agencia federal”, abundó. El conductor, quien tenía la oreja vendada debido a que resultó con laceraciones que serán atendidas en un hospital, no tenía expediente criminal. En cambio, según el oficial, el hombre de 24 años se encontraba libre bajo fianza mientras esperaba por el comienzo de un juicio en su contra por violación a la Ley de Armas. Mientras, la mujer se encontraba cumpliendo una probatoria por un caso de armas de fuego que se remonta al 2021.\n",
      "    pueblos: ['San Juan']\n",
      "11: \n",
      "    headline: Reportan un “carjacking” a plena luz del día en Río PiedrasUna conductora alegó haber sido asaltada por un sujeto armado a eso de las 10:30 de la mañana  \n",
      "    url: https://www.elnuevodia.com/noticias/seguridad/notas/reportan-un-carjacking-a-plena-luz-del-dia-en-rio-piedras/\n",
      "    author: Por Agustín Criollo Oquero\n",
      "    headline_sub: Una conductora alegó haber sido asaltada por un sujeto armado a eso de las 10:30 de la mañana  \n",
      "    date: 25 de junio de 2024\n",
      "    time: 12:27 PM\n",
      "    content: Un robo de auto a mano armada (“carjacking”) fue reportado el martes a las 10:30 de la mañana en la calle José De Diego, en Río Piedras, informó el Negociado de la Policía de Puerto Rico (NPPR). Según señala el informe preliminar, la conductora querellante, una mujer de 52 años y residente de Carolina, aseguró que mientras se disponía a bajar de su vehículo Honda Accord EX-L gris, de 2008 y con tablilla HIY-021, un desconocido se le acercó portando un arma de fuego y, mediante intimidación y amenaza, la despojó del mismo. De acuerdo con la perjudicada, el asaltante era un hombre de tez negra y vestía una camisa tipo polo de rayas azules y rojas, gorra azul marino, mahón corto azul, tenis blancos y llevaba gafas oscuras. El agente Juan Nieves, adscrito al precinto policíaco de Río Piedras, investigó preliminarmente y refirió el caso al personal de la División de Robo y Vehículos Hurtados del CIC de San Juan.\n",
      "    pueblos: []\n",
      "12: \n",
      "    headline: Hallan un cuerpo amordazado y quemado en Vega BajaFue encontrado durante un patrullaje preventivo de la Policía\n",
      "    url: https://www.elnuevodia.com/noticias/seguridad/notas/hallan-un-cuerpo-amordazado-y-quemado-en-vega-baja/\n",
      "    author: Por Alex Figueroa Cancel\n",
      "    headline_sub: Fue encontrado durante un patrullaje preventivo de la Policía\n",
      "    date: 25 de junio de 2024\n",
      "    time: 6:30 AM\n",
      "    content: La Policía investiga las circunstancias en torno al hallazgo del cuerpo amordazado de un hombre con quemaduras en la madrugada de este martes, en Vega Baja. Los hechos fueron reportados a eso de la 1:54 a.m., en el sector El Murciélago, del barrio Almirante Sur, en la carretera PR-645. En comunicado de prensa, la Policía indicó que mientras los agentes se encontraban realizando un patrullaje “en el área se percataron de un incendio. Al llegar al lugar, se encontró en un camino vecinal, cerca de la carretera principal, el cuerpo de un hombre el cual no ha sido identificado” y que estaba “atado de manos y pies con varias heridas y parcialmente quemado”. Personal de Manejo de Emergencias y Bomberos llegaron al lugar para extinguir el incendio. El agente Miguel Barreto, de la División de Homicidios del Cuerpo de Investigaciones Criminales de Vega Baja, y la fiscal Rosaura González se hicieron cargo de la investigación. Hasta este lunes, la Policía había reportado 251 asesinatos en lo que va de este año, 14 más que los 237 registrados a la misma fecha en el 2023.\n",
      "    pueblos: ['Vega Baja']\n",
      "13: \n",
      "    headline: Identifican a hombre cuyo cuerpo fue hallado flotando a orillas de un río en ManatíEl cuerpo baleado de Vicent J. Oquendo Díaz, de 27 años, fue localizado el lunes debajo del puente Montebello en la PR-6685\n",
      "    url: https://www.elnuevodia.com/noticias/seguridad/notas/identifican-a-hombre-cuyo-cuerpo-fue-hallado-flotando-a-orillas-de-un-rio-en-manati/\n",
      "    author: Por Andrea Guemárez Soto\n",
      "    headline_sub: El cuerpo baleado de Vicent J. Oquendo Díaz, de 27 años, fue localizado el lunes debajo del puente Montebello en la PR-6685\n",
      "    date: 25 de junio de 2024\n",
      "    time: 8:19 PM\n",
      "    content: El cuerpo de un hombre fue hallado flotando, este lunes, a orillas de un río debajo del puente Montebello, ubicado en la PR-6685, en Manatí, confirmó el Negociado de la Policía a El Nuevo Día. La oficial de prensa de la Comandancia de Arecibo, la agente Wanda Vázquez, indicó a este medio que el hallazgo del cadáver de Vicent J. Oquendo Díaz, de 27 años, fue reportado, a las 6:43 p.m., mediante una llamada al Sistema de Emergencias 9-1-1. Inicialmente, Vázquez indicó que no podía precisar si el cuerpo del occiso presentaba algún signo de violencia. No obstante, un informe de novedades de la Uniformada confirmó que el cuerpo tenía varias heridas de proyectil de bala. Por su parte, el director del Cuerpo de Investigaciones Criminales (CIC) de Arecibo, el capitán Carlos Vélez Hernández, informó a El Nuevo Día que los agentes ocuparon varios casquillos de bala de diferentes calibres en el puente. El CIC también investiga el hallazgo del cuerpo baleado de un joven, cuyo cadáver fue encontrado, en horas de la tarde del martes, atado de manos y pies en la misma vía. El occiso fue identificado por un familiar como, Ian Félix Pérez Negrón, de 19 años. Tras el hallazgo de los dos cuerpos, la teniente Francheska Barreto, directora de la División de Homicidios del CIC de Arecibo, indicó a este medio que la Policía investiga si existe algún vínculo entre ambos incidentes. “En eso, estamos trabajando. Estamos haciendo las entrevistas a los familiares para poder verificar si hay un vínculo entre ellos dos”, indicó Barreto. La oficial, a su vez, confirmó que ambos cuerpos corresponden a dos jóvenes que fueron reportados como desaparecidos, en la mañana del martes, en un cuartel en Vega Alta.\n",
      "    pueblos: ['Vega Alta', 'Manati', 'Arecibo']\n",
      "14: \n",
      "    headline: Arrestan al presunto líder de un punto de drogas tras intervención en Trujillo AltoDurante el operativo, la Policía también arrestó a un menor de 16 años\n",
      "    url: https://www.elnuevodia.com/noticias/seguridad/notas/arrestan-al-presunto-lider-de-un-punto-de-drogas-tras-intervencion-en-trujillo-alto/\n",
      "    author: Por Andrea Guemárez Soto\n",
      "    headline_sub: Durante el operativo, la Policía también arrestó a un menor de 16 años\n",
      "    date: 24 de junio de 2024\n",
      "    time: 7:47 PM\n",
      "    content: Agentes de la División de Inteligencia y Arrestos del Negociado de la Policía arrestaron, este lunes, a Edwin Ernesto Román Suárez, alias “Pinky”, señalado por la Uniformada como el presunto líder de un punto de drogas que opera en el condominio Los Claveles, en Trujillo Alto. De acuerdo con el informe policíaco, Román Suárez, de 28 años, fue arrestado en el complejo en posesión de un arma ilegal y diversas sustancias controladas que, de momento, la Policía no precisó. El sujeto cuenta con expediente criminal por violaciones a la Ley de Armas y la Ley de Violencia Doméstica.  Además, se informó que, durante la intervención, también fue arrestado un menor de 16 años, que a su vez se encontraba en posesión de un arma ilegal y sustancias controladas.  Según la Uniformada, el menor había sido arrestado, el 21 de marzo, en el mismo complejo, luego de que las autoridades le ocuparon dos pistolas modificadas ilegalmente para disparar de manera automática. La Policía resaltó que Román Suárez, supuestamente, está involucrado en múltiples crímenes violentos registrados en Trujillo Alto, aunque no ofreció detalles en cuanto a incidentes específicos.  De igual forma, se indicó que el sujeto fue baleado el 25 de julio del año pasado en una tentativa de asesinato registrada en el mismo condominio. \n",
      "    pueblos: ['Trujillo Alto']\n",
      "15: \n",
      "    headline: Ciencias Forenses confirma que cuerpo hallado en río de Arecibo corresponde al de joven arrastrada por un golpe de aguaVianca Zoe Sánchez Maisonet, de 23 años, fue identificada mediante radiografías dentales\n",
      "    url: https://www.elnuevodia.com/noticias/seguridad/notas/ciencias-forenses-confirma-que-cuerpo-hallado-en-rio-de-arecibo-corresponde-al-de-joven-arrastrada-por-un-golpe-de-agua/\n",
      "    author: Por Andrea Guemárez Soto\n",
      "    headline_sub: Vianca Zoe Sánchez Maisonet, de 23 años, fue identificada mediante radiografías dentales\n",
      "    date: 24 de junio de 2024\n",
      "    time: 5:08 PM\n",
      "    content: El Instituto de Ciencias Forenses (ICF) confirmó, mediante radiografías dentales, que el cuerpo que las autoridades recuperaron el sábado en la zona donde buscaban a Vianca Zoe Sánchez Maisonet corresponde a la joven de 23 años, quien fue reportada como desaparecida tras ser arrastrada el pasado 16 de junio por un golpe de agua en el río Tanamá, en Arecibo. “Un familiar autorizado para el proceso de identificación fue notificado hoy de la conclusión del análisis realizado por la odontóloga forense. La autopsia fue realizada ayer domingo, 23 de junio. El cuerpo de Sánchez Maisonet está listo para ser entregado a la funeraria que seleccione la familia“, indicó la agencia en declaraciones escritas. Aunque en la mañana del domingo un informe del Negociado de la Policía identificó el cuerpo hallado en el cuerpo de agua como el de Sánchez Maisonet, el ICF aún realizaba el proceso para llevar a cabo una identificación oficial. La portavoz de prensa del ICF, Betsy Rivera, informó, el domingo, que la entidad pública se encontraba en el proceso de contactar a un familiar autorizado para iniciar un proceso de identificación científica que corroboraría si el cuerpo encontrado correspondía a la joven. El director de la Oficina Municipal de Manejo de Emergencias (OMME) de Arecibo, Juan Morales Colón, indicó, en una entrevista en Noticentro de Wapa TV, que el cadáver de Sánchez Maisonet fue recuperado en la noche del sábado luego de que vecinos alertaran sobre un cuerpo flotando en el agua. En ese momento, Morales Colón indicó a El Nuevo Día que “vino un golpe de agua fuerte y los muchachos (personal de la OMME) están haciendo el anclaje para sacarlo (el cuerpo), pero ya lo tienen. Se encontró en un gravero, bien abajo”. El incidente ocurrió a las 6:00 p.m. del 16 de junio, cuando Carlos y Abraham Vera, Jared Rodríguez Ubero (29 años) y Sánchez Maisonet llegaron a la zona del río para un pasadía. Según narró Vera en una publicación en Facebook, al llegar al lugar, no estaba lloviendo y todo parecía tranquilo. Abraham Vera narró que se encontraba con Sánchez Maisonet en una pocita cuando, de repente, bajó el golpe de agua que la arrastró. Carlos y Abraham Vera, y Rodríguez Ubero, lograron salir y fueron rescatados, aunque los tres sufrieron heridas de las que aún se recuperan. El día de los hechos, el Servicio Nacional de Meteorología (SNM) emitió una advertencia de inundaciones repentinas para esa zona. Las labores de búsqueda y rescate a lo largo de la zona se vieron dificultadas debido a múltiples eventos de lluvias que provocaron golpes de agua. Como resultado, en varias ocasiones, las autoridades modificaron su protocolo de una búsqueda activa a una pasiva.\n",
      "    pueblos: ['Arecibo']\n",
      "16: \n",
      "    headline: “Esto ha sido un golpe muy fuerte”: lamentan muerte de agente atropellado en Santa Isabel Luis Algarín de Jesús se dirigía a su trabajo en una motora de la Policía cuando fue impactado por un vehículo que invadió su carril\n",
      "    url: https://www.elnuevodia.com/noticias/seguridad/notas/esto-ha-sido-un-golpe-muy-fuerte-lamentan-muerte-de-agente-atropellado-en-santa-isabel/\n",
      "    author: Por Richard I. Colón Badillo y Alex Figueroa Cancel\n",
      "    headline_sub: Luis Algarín de Jesús se dirigía a su trabajo en una motora de la Policía cuando fue impactado por un vehículo que invadió su carril\n",
      "    date: 24 de junio de 2024\n",
      "    time: 7:01 AMActualizado el 24 de junio de 2024\n",
      "    content: Santa Isabel - Un agente de la Policía falleció en la mañana del lunes luego de que la motora en la que viajaba fuera chocada por un conductor en la PR-1, kilómetro 97.9 del barrio Jauca, en Santa Isabel. El agente fue identificado como Luis Algarín de Jesús, de 51 años y casi 30 de servicio, adscrito a la Unidad Motorizada de la Policía en Ponce. “Yo también llevo 30 años y de verdad esto ha sido un golpe muy fuerte”, expresó César Rodríguez, quien fue compañero de Algarín de Jesús en la misma unidad policíaca. “Nos ha cogido a todos de sorpresa”. Agregó que Algarín de Jesús era una persona “de línea, recto en sus cosas, jovial con todos nosotros. Era un excelente compañero, muy trabajador, dedicado a su trabajo y su familia”. “A cada rato estábamos pensando en esto, en retirarnos, pero nos gusta esta profesión de ayudar a todos los demás, porque nosotros no estamos únicamente para estar dando boletos, también estamos para ayudar a las personas”, abundó Rodríguez. “El servicio llega a tal magnitud que salimos de nuestro hogar y, lamentablemente, como el compañero, no regresó”. Por su parte, el director auxiliar del Negociado de Tránsito de la Uniformada, el capitán Elvis Zeno, sostuvo que un conductor de 19 años viajaba rumbo a su trabajo, en dirección de Santa Isabel a Salinas, por la mencionada vía, cuando invadió el carril contrario -en el que viajaba Algarín de Jesús- al intentar rebasar un auto. Algarín de Jesús recibió heridas que le causaron la muerte en el lugar, precisó el capitán. El cuerpo del oficial quedó al lado de su motora en un área verde, a orillas de la carretera. Su esposa, hermana y otros familiares y allegados llegaron al lugar sin poder contender el llanto, reclamando explicaciones por una pérdida tan repentina y dolorosa. El teniente coronel Jose I. Rivera Torres indicó que, tan pronto conocieron sobre el incidente, despacharon a oficiales de la División de Capellanía y personal de apoyo psicológico para acompañar a los allegados de Algarín de Jesús. “Un compañero bien trabajador, un ser humano extraordinario. Ha sido buen hijo, buen hermano, buen padre, buen abuelo, buen esposo, un compañero bien jovial”, expuso Rivera. “Es una persona muy querida en el área. Todos los compañeros de la Motorizada que están disponibles vinieron a apoyarnos a nosotros y sus familiares”, añadió. Según Zeno, el conductor que impactó al agente se detuvo en la escena y arrojó 0% de alcohol en su organismo, mientras que no se descarta que la velocidad haya jugado un papel en el incidente. “Estamos en ese proceso de investigar. Obviamente, si él no rebasa ese vehículo e invade el carril contrario, no hubiese ocurrido el accidente”, expresó Zeno, al señalar que otro conductor que transcurría por la vía presenció los hechos y cuentan con su testimonio. El comisionado de la Policía, Antonio López Figueroa, llegó a la escena para presentar sus condolencias a la familia, destacando las cualidades del oficial fallecido. “A Algarín lo conozco de las veces que vine a Ponce a la Unidad Motorizada. Excelente servidor público, excelente compañero”, manifestó. “Murió en el cumplimiento del deber. Iba al trabajo, uniformado, en el vehículo oficial y lamentablemente ocurrió este incidente y perdió su vida”. Apuntó que al ser oficial de carrera, “sé lo que siente un policía y lo que se enfrentan cuando salen a dar servicio. Por eso sé que la gente valora la labor de los policías, por lo sacrificado que es. No nos pagan posiblemente lo que merecemos pero sí estamos dispuestos a dar el 200%”. “Era un servidor público excelente, siempre prestando el servicio como se debe. Una persona comprometida. Incluso, cuando hubo ausentismo, estuvo presente, porque sabe y conoce de primera mano lo que es el servicio público”, afirmó el jefe de la Policía, quien también envió personal de apoyo para el conductor de 19 años.\n",
      "    pueblos: ['Santa Isabel']\n",
      "17: \n",
      "    headline: Se desata un fuego de escombros en un terreno baldío cerca de una fábrica en PeñuelasEl siniestro ya fue controlado por los Bomberos de Ponce, Guayanilla y Peñuelas con camiones cisterna que llegaron al lugar\n",
      "    url: https://www.elnuevodia.com/noticias/seguridad/notas/se-desata-un-fuego-de-escombros-en-un-terreno-baldio-cerca-de-una-fabrica-en-penuelas/\n",
      "    author: Por Richard I. Colón Badillo\n",
      "    headline_sub: El siniestro ya fue controlado por los Bomberos de Ponce, Guayanilla y Peñuelas con camiones cisterna que llegaron al lugar\n",
      "    date: 24 de junio de 2024\n",
      "    time: 1:31 PM\n",
      "    content: Un incendio de escombros se desató en la tarde del lunes en un terreno baldío aledaño a la fábrica Industrial Chemical, ubicada en la PR-127, kilómetro 17.4, en Peñuelas. De acuerdo con una publicación del Negociado de Bomberos de Puerto Rico, aunque el terreno presuntamente le pertenece a esta compañía, no se llevaba a cabo ningún tipo de operación en el mismo al momento de los hechos El incendio fue controlado por los Bomberos de Ponce, Guayanilla y Peñuelas con camiones cisterna que llegaron al lugar. No se reportaron heridos en el incidente.\n",
      "    pueblos: ['Guayanilla', 'Penuelas']\n",
      "18: \n",
      "    headline: Encuentran el cuerpo de una mujer en la zona de búsqueda de joven desaparecida en AreciboLa Policía indicó el domingo que se trata de Vianca Zoé Sánchez Maisonet, pero el Instituto de Ciencias Forenses aún no ha realizado una corroboración oficial de la identidad del cadáver\n",
      "    url: https://www.elnuevodia.com/noticias/seguridad/notas/encuentran-el-cuerpo-de-una-mujer-en-la-zona-de-busqueda-de-joven-desaparecida-en-arecibo/\n",
      "    author: Por Florencia García Melazzo y Richard I. Colón Badillo\n",
      "    headline_sub: La Policía indicó el domingo que se trata de Vianca Zoé Sánchez Maisonet, pero el Instituto de Ciencias Forenses aún no ha realizado una corroboración oficial de la identidad del cadáver\n",
      "    date: 23 de junio de 2024\n",
      "    time: 8:55 PM\n",
      "    content: La Oficina Municipal de Manejo de Emergencias (OMME) de Arecibo confirmó en la noche del sábado que personal de búsqueda y rescate recuperó el cuerpo de una mujer en la zona donde buscaban a Vianca Zoe Sánchez Maisonet, la joven de 23 años reportada como desaparecida el 16 de junio cuando fue arrastrada, junto con otros dos jóvenes, por un golpe de agua en el rio La Planta de Arecibo. Aunque en un informe de la Policía enviado el domingo, posterior al descubrimiento, se identificó el cuerpo como la mujer desaparecida, una corroboración oficial por parte del Instituto de Ciencias Forenses (ICF) todavía no se estableció. La portavoz de prensa del ICF, Betsy Rivera, informó que el cadáver llegó a la institución identificado con el nombre de Sánchez Maisonet y que sería sometido a una autopsia ese mismo día. En la mañana del domingo, esa entidad pública se encuentra en el proceso de contactar a un familiar autorizado para iniciar un proceso de identificación científica que corroboraría si el cuerpo encontrado corresponde a la joven. “Al momento estamos con el rescate del cuerpo”, indicó el sábado a El Nuevo Día el director de OMME de Arecibo, Juan Morales Colón, quien no corroboró si se trata del cuerpo de Sánchez Maisonet. “Vino un golpe de agua fuerte y los muchachos (personal de la OMME) están haciendo el anclaje para sacarlo (el cuerpo), pero ya lo tienen. Se encontró en un gravero, bien abajo”, añadió Morales Colón más temprano en la noche. El director de la OMME de Arecibo luego indicó, en una entrevista en Noticentro de Wapa TV, que el Instituto de Ciencias Forenses (ICF) se encargará de confirmar la identidad del cuerpo. “Me llamaron unos vecinos que debido al golpe de agua que bajó hoy (sábado), vieron un cuerpo flotando en el agua. Nos trasladamos rápido hasta acá y recuperamos el cuerpo. Nosotros sí encontramos el cuerpo de una fémina, pero le tocará al Instituto de Ciencias Forenses confirmar la identidad. Ahora mismo nos encontramos (en el gravero) como a una milla de la zona en la que estábamos buscando”, sostuvo Morales Colón a Noticentro. El rescatista añadió que la zona donde recuperaron el cuerpo contiene muchas piedras y que “parece que el cuerpo estaba encajado en algún lado, pero con el golpe de agua, el cuerpo se zafó”. El incidente se reportó a las 6:00 p.m. del 16 de junio, cuando Carlos y Abraham Vera, Jared Rodríguez Ubero (29 años) y Sánchez Maisonet llegaron a la zona del río para un pasadía. Según narro Vera en una publicación en Facebook, al llegar al lugar, no estaba lloviendo y todo parecía tranquilo. Abraham Vera narró que se encontraba con Sánchez Maisonet en una pocita cuando, de repente, bajó el golpe de agua que la arrastró. Carlos y Abraham Vera, y Rodríguez Ubero, lograron salir y fueron rescatados, aunque los tres sufrieron heridas de las que aún se recuperan. El día del incidente, Morales Colón dijo a El Nuevo Día que aunque en la zona donde se encontraban los jóvenes no llovió, si se registró precipitación más arriba en el río. El Servicio Nacional de Meteorología (SNM), además, emitió una advertencia de inundaciones repentinas para la zona el día en que ocurrieron los hechos. Las labores de búsqueda y rescate a lo largo de la semana se dificultaron en varias ocasiones debido a múltiples eventos de lluvia en la zona que provocaron más golpes de agua.\n",
      "    pueblos: ['Arecibo']\n",
      "19: \n",
      "    headline: Hombre asesinado el viernes en Rincón enfrentó un caso por agresión que no prosperóEl CIC de Aguadilla añadió que José Luis Sanabria Acosta pudo haber sido baleado mientras se encontraba fuera de su vehículo\n",
      "    url: https://www.elnuevodia.com/noticias/seguridad/notas/hombre-asesinado-el-viernes-en-rincon-enfrento-un-caso-por-agresion-que-no-prospero/\n",
      "    author: Por Agustín Criollo Oquero\n",
      "    headline_sub: El CIC de Aguadilla añadió que José Luis Sanabria Acosta pudo haber sido baleado mientras se encontraba fuera de su vehículo\n",
      "    date: 23 de junio de 2024\n",
      "    time: 11:42 PM\n",
      "    content: El hombre de 26 años asesinado en un paraje solitario de la carretera PR-411 en la madrugada del viernes, en el barrio Atalaya de Rincón, enfrentó un caso de agresión que, en última instancia, fue archivado, confirmó a El Nuevo Día el Cuerpo de Investigaciones Criminales (CIC) de Aguadilla. El inspector Eduardo Rivera González, director de la División de Homicidios del CIC de Aguadilla, indicó que José Luis Sanabria Acosta estuvo involucrado en un caso que no prosperó, por lo que no poseía expediente en la Uniformada. “Este muchacho (Sanabria Acosta) anteriormente había tenido un caso sobre una agresión, pero se archivó, así que no figura como un expediente criminal”, aseguró. Rivera González añadió que, según la pesquisa, Sanabria Acosta pudo haber sido baleado mientras se encontraba en el exterior de su vehículo. Originalmente, se indicó que el hombre fue acribillado en el interior del automóvil. “Nosotros entendemos que los impactos de bala los recibió fuera del vehículo, o sea, que estaba detenido al momento de los hechos. En el lugar se recuperaron varios casquillos calibre nueve milímetros”, señaló el inspector. Rivera González añadió que los agentes continúan con el proceso de recopilación de evidencia. Sin embargo, debido a lo apartado del paraje, el oficial reconoció que sería una tarea compleja encontrar testigos del hecho. “El área de la carretera PR-411 donde encontramos el cadáver es un área bastante apartada y solitaria. Más arriba hay residencias, pero esa área es bien apartada. Estamos verificando y entrevistando posibles testigos, trabajando con las divisiones de inteligencia, recuperando videos cercanos y estamos en todo ese proceso ahora”, señaló. Según el reporte preliminar de la Policía, una llamada al Sistema de Emergencias 9-1-1 alertó el viernes a las 4:23 de la madrugada a agentes del precinto policiaco de Rincón sobre una muerte violenta en la carretera PR-411, a la altura del kilómetro 14.3 del mencionado barrio. Al llegar, los agentes encontraron un vehículo marca Mitsubishi color gris que mostraba varios impactos de bala y tirado en el pavimento el cadáver baleado de Sanabria Acosta de 26 años, residente de Rincón. El inspector indicó que no se descarta ningún móvil en la investigación sobre este crimen.\n",
      "    pueblos: ['Aguadilla', 'Rincon']\n",
      "20: \n",
      "    headline: Rescatan a ocho adultos y tres menores que quedaron atrapados por golpe de agua en el río Toro Negro en CialesPersonal de la Oficina Municipal de Manejo de Emergencias (OMME) indicó que las 11 personas se encuentran en buen estado de salud\n",
      "    url: https://www.elnuevodia.com/noticias/seguridad/notas/rescatan-a-ocho-adultos-y-tres-menores-que-quedaron-atrapados-por-golpe-de-agua-en-el-rio-toro-negro-en-ciales/\n",
      "    author: Por Florencia García Melazzo\n",
      "    headline_sub: Personal de la Oficina Municipal de Manejo de Emergencias (OMME) indicó que las 11 personas se encuentran en buen estado de salud\n",
      "    date: 22 de junio de 2024\n",
      "    time: 6:16 PM\n",
      "    content: Un total de 11 personas, entre ellas tres menores, fueron rescatadas en la noche del sábado por personal de la Oficina Municipal de Manejo de Emergencias (OMME) de Ciales tras quedar atrapadas por un golpe de agua en el río Toro Negro en dicho municipio. Según confirmó a El Nuevo Día el director de la OMME de Ciales, Juan Rosario, el incidente ocurrió en la parte posterior del hotel y restaurante Hacienda Negrón, donde las personas se estaban hospedando. Aunque no se reveló la identidad de los perjudicados, se indicó que no eran locales. La situación se reportó luego de que las precipitaciones en la zona afectaran las condiciones del río, que aumentó su caudal de manera repentina durante la tarde y dejó atrapados a los cuatro adultos y dos menores. Rosario recomendó a la ciudadanía a evitar los cuerpos de agua de la zona en estos días debido a las inestables condiciones del tiempo que propician situaciones de emergencia.\n",
      "    pueblos: []\n",
      "21: \n",
      "    headline: Muere mujer de 37 años que impactó con su guagua una barrera de metal en Humacao  La Policía informó que la fémina, identificada como Dorylin López Espinosa, falleció mientras recibía asistencia médica en un hospital del mencionado municipio \n",
      "    url: https://www.elnuevodia.com/noticias/seguridad/notas/muere-mujer-de-37-anos-que-impacto-con-su-guagua-una-barrera-de-metal-en-humacao/\n",
      "    author: Por Yaritza Rivera Clemente\n",
      "    headline_sub: La Policía informó que la fémina, identificada como Dorylin López Espinosa, falleció mientras recibía asistencia médica en un hospital del mencionado municipio \n",
      "    date: 22 de junio de 2024\n",
      "    time: 3:02 PM\n",
      "    content: Una mujer falleció en horas de la madrugada de este sábado al impactar con su guagua una barrera de metal en la salida número 31 de la autopista José Celso Barbosa (PR- 53), en Humacao, informó la Oficina de Prensa del Negociado de la Policía. De acuerdo al informe preliminar actualizado, Dorylin López Espinosa, de 37 años, transitaba por la carretera a bordo de su guagua Toyota RAV4 del 2024 y color gris, y al llegar a la salida impactó, con la parte frontal del vehículo, una barrera de metal. Según la Policía, debido al impacto, la mujer quedó pillada en el interior de la guagua, lo que le provocó heridas de gravedad. López Espinosa fue transportada hasta el hospital Ryder, en Humacao, para recibir asistencia médica. No obstante, la fémina falleció cuando se disponían a trasladarla al Centro Médico en Río Piedras, añadió la Policía. La agente Aracelis Santana y el fiscal Pedro Anca están a cargo de la investigación.\n",
      "    pueblos: ['Humacao']\n",
      "22: \n",
      "    headline: La Policía busca a un hombre de 65 años reportado como desaparecido en CarolinaEdwin Maldonado Rivera fue visto por última vez el jueves en el Hospital Universitario Dr. Federico Trilla\n",
      "    url: https://www.elnuevodia.com/noticias/seguridad/notas/la-policia-busca-a-un-hombre-de-65-anos-reportado-como-desaparecido-en-carolina/\n",
      "    author: Por Florencia García Melazzo\n",
      "    headline_sub: Edwin Maldonado Rivera fue visto por última vez el jueves en el Hospital Universitario Dr. Federico Trilla\n",
      "    date: 22 de junio de 2024\n",
      "    time: 9:44 PM\n",
      "    content: Un hombre de 65 años de edad, identificado como Edwin Maldonado Rivera, es buscado por las autoridades tras abandonar el jueves un tratamiento médico en el Hospital Universitario Dr. Federico Trilla en Carolina, indicó la Oficina de Prensa del Negociado de la Policía. Maldonado Rivera fue reportado como desaparecido el viernes por su expareja, Vivian Montalvo de la Paz. Según la descripción en la requisitoria especial del Cuerpo de Investigaciones Criminales (CIC) de Carolina, Maldonado Rivera es un hombre de tez trigueña, mide seis pies (6′0″) de estatura y pesa 125 libras. Se indicó, además, que tiene pelo canoso, ojos marrones y varios lunares en el rostro. Al momento de su desaparición, vestía una camiseta verde y un pantalón negro. Si usted posee información que ayuda al CIC de Carolina a localizar a Maldonado Rivera, puede llamar al 787-257-7500, o comunicarse mediante la línea confidencial de la Policía en el teléfono 787-343-2020.\n",
      "    pueblos: ['Carolina']\n",
      "23: \n",
      "    headline: Reportan un “carjacking” a plena luz del día en Río PiedrasUna conductora alegó haber sido asaltada por un sujeto armado a eso de las 10:30 de la mañana  \n",
      "    url: https://www.elnuevodia.com/noticias/seguridad/notas/reportan-un-carjacking-a-plena-luz-del-dia-en-rio-piedras/\n",
      "    author: Por Agustín Criollo Oquero\n",
      "    headline_sub: Una conductora alegó haber sido asaltada por un sujeto armado a eso de las 10:30 de la mañana  \n",
      "    date: 25 de junio de 2024\n",
      "    time: 12:27 PM\n",
      "    content: Un robo de auto a mano armada (“carjacking”) fue reportado el martes a las 10:30 de la mañana en la calle José De Diego, en Río Piedras, informó el Negociado de la Policía de Puerto Rico (NPPR). Según señala el informe preliminar, la conductora querellante, una mujer de 52 años y residente de Carolina, aseguró que mientras se disponía a bajar de su vehículo Honda Accord EX-L gris, de 2008 y con tablilla HIY-021, un desconocido se le acercó portando un arma de fuego y, mediante intimidación y amenaza, la despojó del mismo. De acuerdo con la perjudicada, el asaltante era un hombre de tez negra y vestía una camisa tipo polo de rayas azules y rojas, gorra azul marino, mahón corto azul, tenis blancos y llevaba gafas oscuras. El agente Juan Nieves, adscrito al precinto policíaco de Río Piedras, investigó preliminarmente y refirió el caso al personal de la División de Robo y Vehículos Hurtados del CIC de San Juan.\n",
      "    pueblos: []\n",
      "24: \n",
      "    headline: Hallan un cuerpo amordazado y quemado en Vega BajaFue encontrado durante un patrullaje preventivo de la Policía\n",
      "    url: https://www.elnuevodia.com/noticias/seguridad/notas/hallan-un-cuerpo-amordazado-y-quemado-en-vega-baja/\n",
      "    author: Por Alex Figueroa Cancel\n",
      "    headline_sub: Fue encontrado durante un patrullaje preventivo de la Policía\n",
      "    date: 25 de junio de 2024\n",
      "    time: 6:30 AM\n",
      "    content: La Policía investiga las circunstancias en torno al hallazgo del cuerpo amordazado de un hombre con quemaduras en la madrugada de este martes, en Vega Baja. Los hechos fueron reportados a eso de la 1:54 a.m., en el sector El Murciélago, del barrio Almirante Sur, en la carretera PR-645. En comunicado de prensa, la Policía indicó que mientras los agentes se encontraban realizando un patrullaje “en el área se percataron de un incendio. Al llegar al lugar, se encontró en un camino vecinal, cerca de la carretera principal, el cuerpo de un hombre el cual no ha sido identificado” y que estaba “atado de manos y pies con varias heridas y parcialmente quemado”. Personal de Manejo de Emergencias y Bomberos llegaron al lugar para extinguir el incendio. El agente Miguel Barreto, de la División de Homicidios del Cuerpo de Investigaciones Criminales de Vega Baja, y la fiscal Rosaura González se hicieron cargo de la investigación. Hasta este lunes, la Policía había reportado 251 asesinatos en lo que va de este año, 14 más que los 237 registrados a la misma fecha en el 2023.\n",
      "    pueblos: ['Vega Baja']\n",
      "25: \n",
      "    headline: Identifican a hombre cuyo cuerpo fue hallado flotando a orillas de un río en ManatíEl cuerpo baleado de Vicent J. Oquendo Díaz, de 27 años, fue localizado el lunes debajo del puente Montebello en la PR-6685\n",
      "    url: https://www.elnuevodia.com/noticias/seguridad/notas/identifican-a-hombre-cuyo-cuerpo-fue-hallado-flotando-a-orillas-de-un-rio-en-manati/\n",
      "    author: Por Andrea Guemárez Soto\n",
      "    headline_sub: El cuerpo baleado de Vicent J. Oquendo Díaz, de 27 años, fue localizado el lunes debajo del puente Montebello en la PR-6685\n",
      "    date: 25 de junio de 2024\n",
      "    time: 8:19 PM\n",
      "    content: El cuerpo de un hombre fue hallado flotando, este lunes, a orillas de un río debajo del puente Montebello, ubicado en la PR-6685, en Manatí, confirmó el Negociado de la Policía a El Nuevo Día. La oficial de prensa de la Comandancia de Arecibo, la agente Wanda Vázquez, indicó a este medio que el hallazgo del cadáver de Vicent J. Oquendo Díaz, de 27 años, fue reportado, a las 6:43 p.m., mediante una llamada al Sistema de Emergencias 9-1-1. Inicialmente, Vázquez indicó que no podía precisar si el cuerpo del occiso presentaba algún signo de violencia. No obstante, un informe de novedades de la Uniformada confirmó que el cuerpo tenía varias heridas de proyectil de bala. Por su parte, el director del Cuerpo de Investigaciones Criminales (CIC) de Arecibo, el capitán Carlos Vélez Hernández, informó a El Nuevo Día que los agentes ocuparon varios casquillos de bala de diferentes calibres en el puente. El CIC también investiga el hallazgo del cuerpo baleado de un joven, cuyo cadáver fue encontrado, en horas de la tarde del martes, atado de manos y pies en la misma vía. El occiso fue identificado por un familiar como, Ian Félix Pérez Negrón, de 19 años. Tras el hallazgo de los dos cuerpos, la teniente Francheska Barreto, directora de la División de Homicidios del CIC de Arecibo, indicó a este medio que la Policía investiga si existe algún vínculo entre ambos incidentes. “En eso, estamos trabajando. Estamos haciendo las entrevistas a los familiares para poder verificar si hay un vínculo entre ellos dos”, indicó Barreto. La oficial, a su vez, confirmó que ambos cuerpos corresponden a dos jóvenes que fueron reportados como desaparecidos, en la mañana del martes, en un cuartel en Vega Alta.\n",
      "    pueblos: ['Vega Alta', 'Manati', 'Arecibo']\n",
      "26: \n",
      "    headline: Arrestan al presunto líder de un punto de drogas tras intervención en Trujillo AltoDurante el operativo, la Policía también arrestó a un menor de 16 años\n",
      "    url: https://www.elnuevodia.com/noticias/seguridad/notas/arrestan-al-presunto-lider-de-un-punto-de-drogas-tras-intervencion-en-trujillo-alto/\n",
      "    author: Por Andrea Guemárez Soto\n",
      "    headline_sub: Durante el operativo, la Policía también arrestó a un menor de 16 años\n",
      "    date: 24 de junio de 2024\n",
      "    time: 7:47 PM\n",
      "    content: Agentes de la División de Inteligencia y Arrestos del Negociado de la Policía arrestaron, este lunes, a Edwin Ernesto Román Suárez, alias “Pinky”, señalado por la Uniformada como el presunto líder de un punto de drogas que opera en el condominio Los Claveles, en Trujillo Alto. De acuerdo con el informe policíaco, Román Suárez, de 28 años, fue arrestado en el complejo en posesión de un arma ilegal y diversas sustancias controladas que, de momento, la Policía no precisó. El sujeto cuenta con expediente criminal por violaciones a la Ley de Armas y la Ley de Violencia Doméstica.  Además, se informó que, durante la intervención, también fue arrestado un menor de 16 años, que a su vez se encontraba en posesión de un arma ilegal y sustancias controladas.  Según la Uniformada, el menor había sido arrestado, el 21 de marzo, en el mismo complejo, luego de que las autoridades le ocuparon dos pistolas modificadas ilegalmente para disparar de manera automática. La Policía resaltó que Román Suárez, supuestamente, está involucrado en múltiples crímenes violentos registrados en Trujillo Alto, aunque no ofreció detalles en cuanto a incidentes específicos.  De igual forma, se indicó que el sujeto fue baleado el 25 de julio del año pasado en una tentativa de asesinato registrada en el mismo condominio. \n",
      "    pueblos: ['Trujillo Alto']\n",
      "27: \n",
      "    headline: Ciencias Forenses confirma que cuerpo hallado en río de Arecibo corresponde al de joven arrastrada por un golpe de aguaVianca Zoe Sánchez Maisonet, de 23 años, fue identificada mediante radiografías dentales\n",
      "    url: https://www.elnuevodia.com/noticias/seguridad/notas/ciencias-forenses-confirma-que-cuerpo-hallado-en-rio-de-arecibo-corresponde-al-de-joven-arrastrada-por-un-golpe-de-agua/\n",
      "    author: Por Andrea Guemárez Soto\n",
      "    headline_sub: Vianca Zoe Sánchez Maisonet, de 23 años, fue identificada mediante radiografías dentales\n",
      "    date: 24 de junio de 2024\n",
      "    time: 5:08 PM\n",
      "    content: El Instituto de Ciencias Forenses (ICF) confirmó, mediante radiografías dentales, que el cuerpo que las autoridades recuperaron el sábado en la zona donde buscaban a Vianca Zoe Sánchez Maisonet corresponde a la joven de 23 años, quien fue reportada como desaparecida tras ser arrastrada el pasado 16 de junio por un golpe de agua en el río Tanamá, en Arecibo. “Un familiar autorizado para el proceso de identificación fue notificado hoy de la conclusión del análisis realizado por la odontóloga forense. La autopsia fue realizada ayer domingo, 23 de junio. El cuerpo de Sánchez Maisonet está listo para ser entregado a la funeraria que seleccione la familia“, indicó la agencia en declaraciones escritas. Aunque en la mañana del domingo un informe del Negociado de la Policía identificó el cuerpo hallado en el cuerpo de agua como el de Sánchez Maisonet, el ICF aún realizaba el proceso para llevar a cabo una identificación oficial. La portavoz de prensa del ICF, Betsy Rivera, informó, el domingo, que la entidad pública se encontraba en el proceso de contactar a un familiar autorizado para iniciar un proceso de identificación científica que corroboraría si el cuerpo encontrado correspondía a la joven. El director de la Oficina Municipal de Manejo de Emergencias (OMME) de Arecibo, Juan Morales Colón, indicó, en una entrevista en Noticentro de Wapa TV, que el cadáver de Sánchez Maisonet fue recuperado en la noche del sábado luego de que vecinos alertaran sobre un cuerpo flotando en el agua. En ese momento, Morales Colón indicó a El Nuevo Día que “vino un golpe de agua fuerte y los muchachos (personal de la OMME) están haciendo el anclaje para sacarlo (el cuerpo), pero ya lo tienen. Se encontró en un gravero, bien abajo”. El incidente ocurrió a las 6:00 p.m. del 16 de junio, cuando Carlos y Abraham Vera, Jared Rodríguez Ubero (29 años) y Sánchez Maisonet llegaron a la zona del río para un pasadía. Según narró Vera en una publicación en Facebook, al llegar al lugar, no estaba lloviendo y todo parecía tranquilo. Abraham Vera narró que se encontraba con Sánchez Maisonet en una pocita cuando, de repente, bajó el golpe de agua que la arrastró. Carlos y Abraham Vera, y Rodríguez Ubero, lograron salir y fueron rescatados, aunque los tres sufrieron heridas de las que aún se recuperan. El día de los hechos, el Servicio Nacional de Meteorología (SNM) emitió una advertencia de inundaciones repentinas para esa zona. Las labores de búsqueda y rescate a lo largo de la zona se vieron dificultadas debido a múltiples eventos de lluvias que provocaron golpes de agua. Como resultado, en varias ocasiones, las autoridades modificaron su protocolo de una búsqueda activa a una pasiva.\n",
      "    pueblos: ['Arecibo']\n",
      "28: \n",
      "    headline: “Esto ha sido un golpe muy fuerte”: lamentan muerte de agente atropellado en Santa Isabel Luis Algarín de Jesús se dirigía a su trabajo en una motora de la Policía cuando fue impactado por un vehículo que invadió su carril\n",
      "    url: https://www.elnuevodia.com/noticias/seguridad/notas/esto-ha-sido-un-golpe-muy-fuerte-lamentan-muerte-de-agente-atropellado-en-santa-isabel/\n",
      "    author: Por Richard I. Colón Badillo y Alex Figueroa Cancel\n",
      "    headline_sub: Luis Algarín de Jesús se dirigía a su trabajo en una motora de la Policía cuando fue impactado por un vehículo que invadió su carril\n",
      "    date: 24 de junio de 2024\n",
      "    time: 7:01 AMActualizado el 24 de junio de 2024\n",
      "    content: Santa Isabel - Un agente de la Policía falleció en la mañana del lunes luego de que la motora en la que viajaba fuera chocada por un conductor en la PR-1, kilómetro 97.9 del barrio Jauca, en Santa Isabel. El agente fue identificado como Luis Algarín de Jesús, de 51 años y casi 30 de servicio, adscrito a la Unidad Motorizada de la Policía en Ponce. “Yo también llevo 30 años y de verdad esto ha sido un golpe muy fuerte”, expresó César Rodríguez, quien fue compañero de Algarín de Jesús en la misma unidad policíaca. “Nos ha cogido a todos de sorpresa”. Agregó que Algarín de Jesús era una persona “de línea, recto en sus cosas, jovial con todos nosotros. Era un excelente compañero, muy trabajador, dedicado a su trabajo y su familia”. “A cada rato estábamos pensando en esto, en retirarnos, pero nos gusta esta profesión de ayudar a todos los demás, porque nosotros no estamos únicamente para estar dando boletos, también estamos para ayudar a las personas”, abundó Rodríguez. “El servicio llega a tal magnitud que salimos de nuestro hogar y, lamentablemente, como el compañero, no regresó”. Por su parte, el director auxiliar del Negociado de Tránsito de la Uniformada, el capitán Elvis Zeno, sostuvo que un conductor de 19 años viajaba rumbo a su trabajo, en dirección de Santa Isabel a Salinas, por la mencionada vía, cuando invadió el carril contrario -en el que viajaba Algarín de Jesús- al intentar rebasar un auto. Algarín de Jesús recibió heridas que le causaron la muerte en el lugar, precisó el capitán. El cuerpo del oficial quedó al lado de su motora en un área verde, a orillas de la carretera. Su esposa, hermana y otros familiares y allegados llegaron al lugar sin poder contender el llanto, reclamando explicaciones por una pérdida tan repentina y dolorosa. El teniente coronel Jose I. Rivera Torres indicó que, tan pronto conocieron sobre el incidente, despacharon a oficiales de la División de Capellanía y personal de apoyo psicológico para acompañar a los allegados de Algarín de Jesús. “Un compañero bien trabajador, un ser humano extraordinario. Ha sido buen hijo, buen hermano, buen padre, buen abuelo, buen esposo, un compañero bien jovial”, expuso Rivera. “Es una persona muy querida en el área. Todos los compañeros de la Motorizada que están disponibles vinieron a apoyarnos a nosotros y sus familiares”, añadió. Según Zeno, el conductor que impactó al agente se detuvo en la escena y arrojó 0% de alcohol en su organismo, mientras que no se descarta que la velocidad haya jugado un papel en el incidente. “Estamos en ese proceso de investigar. Obviamente, si él no rebasa ese vehículo e invade el carril contrario, no hubiese ocurrido el accidente”, expresó Zeno, al señalar que otro conductor que transcurría por la vía presenció los hechos y cuentan con su testimonio. El comisionado de la Policía, Antonio López Figueroa, llegó a la escena para presentar sus condolencias a la familia, destacando las cualidades del oficial fallecido. “A Algarín lo conozco de las veces que vine a Ponce a la Unidad Motorizada. Excelente servidor público, excelente compañero”, manifestó. “Murió en el cumplimiento del deber. Iba al trabajo, uniformado, en el vehículo oficial y lamentablemente ocurrió este incidente y perdió su vida”. Apuntó que al ser oficial de carrera, “sé lo que siente un policía y lo que se enfrentan cuando salen a dar servicio. Por eso sé que la gente valora la labor de los policías, por lo sacrificado que es. No nos pagan posiblemente lo que merecemos pero sí estamos dispuestos a dar el 200%”. “Era un servidor público excelente, siempre prestando el servicio como se debe. Una persona comprometida. Incluso, cuando hubo ausentismo, estuvo presente, porque sabe y conoce de primera mano lo que es el servicio público”, afirmó el jefe de la Policía, quien también envió personal de apoyo para el conductor de 19 años.\n",
      "    pueblos: ['Santa Isabel']\n",
      "29: \n",
      "    headline: Se desata un fuego de escombros en un terreno baldío cerca de una fábrica en PeñuelasEl siniestro ya fue controlado por los Bomberos de Ponce, Guayanilla y Peñuelas con camiones cisterna que llegaron al lugar\n",
      "    url: https://www.elnuevodia.com/noticias/seguridad/notas/se-desata-un-fuego-de-escombros-en-un-terreno-baldio-cerca-de-una-fabrica-en-penuelas/\n",
      "    author: Por Richard I. Colón Badillo\n",
      "    headline_sub: El siniestro ya fue controlado por los Bomberos de Ponce, Guayanilla y Peñuelas con camiones cisterna que llegaron al lugar\n",
      "    date: 24 de junio de 2024\n",
      "    time: 1:31 PM\n",
      "    content: Un incendio de escombros se desató en la tarde del lunes en un terreno baldío aledaño a la fábrica Industrial Chemical, ubicada en la PR-127, kilómetro 17.4, en Peñuelas. De acuerdo con una publicación del Negociado de Bomberos de Puerto Rico, aunque el terreno presuntamente le pertenece a esta compañía, no se llevaba a cabo ningún tipo de operación en el mismo al momento de los hechos El incendio fue controlado por los Bomberos de Ponce, Guayanilla y Peñuelas con camiones cisterna que llegaron al lugar. No se reportaron heridos en el incidente.\n",
      "    pueblos: ['Guayanilla', 'Penuelas']\n",
      "30: \n",
      "    headline: Identifican a conductora que falleció tras su vehículo volcarse en el expreso PR-52 en Santa IsabelNora Liz Marcano de Jesús, de 27 años, fue llevada al hospital, pero murió a causa de sus heridas\n",
      "    url: https://www.elnuevodia.com/noticias/seguridad/notas/identifican-a-conductora-que-fallecio-tras-su-vehiculo-volcarse-en-el-expreso-pr-52-en-santa-isabel/\n",
      "    author: Por Richard I. Colón Badillo\n",
      "    headline_sub: Nora Liz Marcano de Jesús, de 27 años, fue llevada al hospital, pero murió a causa de sus heridas\n",
      "    date: 24 de junio de 2024\n",
      "    time: 12:57 PM\n",
      "    content: Una mujer de 27 años falleció el lunes luego de que presuntamente perdiera el control de su vehículo y se volcara en la PR-52, kilómetro 78.5, en Santa Isabel, a eso de las 6:40 a.m. Según un informe preliminar de la Policía, la conductora, identificada como Nora Liz Marcano de Jesús, salió expulsada de una Toyota Tacoma gris del 2006 mientras transitaba de Santa Isabel a Juana Díaz, en circunstancias que aún se encuentran bajo investigación. La mujer fue transportada a un hospital cercano, donde el doctor de turno certificó su muerte. La escena fue investigada por el agente Jimmy Rodríguez, en unión al fiscal Alberto Flores de la Fiscalía de Ponce.\n",
      "    pueblos: ['Santa Isabel']\n",
      "31: \n",
      "    headline: Arrestan a joven que habría intentado entrar con un rifle a un establecimiento en CarolinaIntentó huir a pie y, en un momento, trató de sacar el arma en un espacio público\n",
      "    url: https://www.elnuevodia.com/noticias/seguridad/notas/arrestan-a-joven-que-habria-intentado-entrar-con-un-rifle-a-un-establecimiento-en-carolina/\n",
      "    author: Por Richard I. Colón Badillo\n",
      "    headline_sub: Intentó huir a pie y, en un momento, trató de sacar el arma en un espacio público\n",
      "    date: 24 de junio de 2024\n",
      "    time: 11:30 AM\n",
      "    content: Un joven de 19 años que llegó hasta la avenida Isla Verde, en Carolina, portando un rifle dentro de un bulto fue arrestado por la Policía tras intentar huir de las autoridades en la madrugada del lunes. Según un informe policíaco, Jesús Emanuel Martínez, de 19 años y vecino del residencial Alejandrino, llegó con el arma dentro del bulto y fue identificado cuando intentó entrar con ella a un establecimiento. Posteriormente, la Uniformada dio con el hombre en la entrada del hotel Royal Sonesta, lo que provocó que el hombre intentara huir a pie. Los agentes persiguieron a Martínez por todo el estacionamiento del hotel y, en un momento dado, el joven intentó sacar el arma, lo que se le imposibilitó por el ambiente concurrido que había, posiblemente a causa de las celebraciones de la Noche de San Juan. Luego de esto, Martínez soltó el arma y el bulto que cargaba y continuó corriendo. No obstante, los agentes, junto a la Policía Municipal de Carolina, lograron su arresto.  El arma es un rifle automático calibre 556 MFT EXTAR. También se ocuparon dos cargadores: uno estilo tambor con capacidad de 100 municiones y otro con capacidad de 60 municiones; tres municiones calibre 556; una máscara de asalto estilo pasamontañas y dos envases cilíndricos con marihuana. El caso será consultado con la Fiscalía de Carolina para una posible radicación de cargos.\n",
      "    pueblos: []\n",
      "32: \n",
      "    headline: Identifican a empleado que falleció en accidente reportado en el Hipódromo Camarero en CanóvanasEl hombre presuntamente cayó debajo de la goma de un remolque\n",
      "    url: https://www.elnuevodia.com/noticias/seguridad/notas/identifican-a-empleado-que-fallecio-en-accidente-reportado-en-el-hipodromo-camarero-en-canovanas/\n",
      "    author: Por Redacción El Nuevo Día\n",
      "    headline_sub: El hombre presuntamente cayó debajo de la goma de un remolque\n",
      "    date: 23 de junio de 2024\n",
      "    time: 7:02 PMActualizado el 24 de junio de 2024\n",
      "    content: Las autoridades investigaron, en la tarde del domingo, un accidente de carácter fatal que habría cobrado la vida de un palafrenero en la pista del Hipódromo Camarero, en Canóvanas. Según un informe de la Policía, la víctima de este caso fue identificada como Francisco Hance Carmona, de 65 años y vecino de Carolina. De acuerdo con la investigación, Hance Carmona se resbaló de un remolque y cayó debajo de la goma posterior del lado derecho del vehículo. Paramédicos llegaron a la escena para atender al perjudicado, pero confirmaron la ausencia de signos vitales. Como parte de la investigación, el ministerio público ordenó llevar al conductor del tractor involucrado en el accidente a la División de Patrullas de Carreteras de Carolina para una prueba de aliento, pero este arrojó un 0% de alcohol en la sangre. En la tarde del domingo, El Nuevo Día entrevistó a Juan Carlos Santaella Marchand, director interino de la Comisión de Juegos, quien indicó que no brindaría mayores detalles sobre el incidente, aunque reveló que ocurrió en una de las jaulas de donde salen los caballos a la pista. Otros empleados estaban presentes al momento de los hechos. “Se está investigando el asunto... detalles de lo que pasó no te puedo dar”, expresó a este medio. “Es algo bien triste, bien lamentable”, añadió, para luego asegurar que la víctima llevaba puesto su equipo de seguridad cuando ocurrió el accidente. Debido a la emergencia, los eventos hípicos del domingo fueron cancelados. La agente María Romero Ruiz del distrito policíaco de Canóvanas, el agente Rafael Díaz Villegas de la División de Agresiones del Cuerpo de Investigaciones Criminales (CIC) de Carolina, así como el fiscal José Carrasquillo Santana se encuentran en la escena para la pesquisa de rigor.\n",
      "    pueblos: ['Canovanas']\n",
      "\n"
     ]
    }
   ],
   "source": [
    "print(pretty_print_dict(data_handler))"
   ]
  },
  {
   "cell_type": "markdown",
   "metadata": {},
   "source": [
    "# Testing Code"
   ]
  },
  {
   "cell_type": "code",
   "execution_count": null,
   "metadata": {},
   "outputs": [],
   "source": []
  }
 ],
 "metadata": {
  "kernelspec": {
   "display_name": "Python 3",
   "language": "python",
   "name": "python3"
  },
  "language_info": {
   "codemirror_mode": {
    "name": "ipython",
    "version": 3
   },
   "file_extension": ".py",
   "mimetype": "text/x-python",
   "name": "python",
   "nbconvert_exporter": "python",
   "pygments_lexer": "ipython3",
   "version": "3.12.4"
  }
 },
 "nbformat": 4,
 "nbformat_minor": 2
}
