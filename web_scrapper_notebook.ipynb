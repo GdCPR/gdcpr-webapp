{
 "cells": [
  {
   "cell_type": "markdown",
   "metadata": {},
   "source": [
    "# Endi.com Web-Scrapper\n",
    "## Import Modules\n",
    "* requests -> to send HTTP/1.1 requests\n",
    "* bas4/BeautifulSoup -> parsing HTML documents\n",
    "* itertools -> counter functionality"
   ]
  },
  {
   "cell_type": "code",
   "execution_count": 55,
   "metadata": {},
   "outputs": [],
   "source": [
    "import requests\n",
    "from bs4 import BeautifulSoup\n",
    "from itertools import count"
   ]
  },
  {
   "cell_type": "markdown",
   "metadata": {},
   "source": [
    "## Extract and Save HTML Content"
   ]
  },
  {
   "cell_type": "code",
   "execution_count": 56,
   "metadata": {},
   "outputs": [],
   "source": [
    "# Base url\n",
    "news_url= \"https://www.elnuevodia.com/noticias/seguridad\"\n",
    "\n",
    "# Get request to base url\n",
    "news_html = requests.get(news_url)"
   ]
  },
  {
   "cell_type": "markdown",
   "metadata": {},
   "source": [
    "## Parse HTML Content"
   ]
  },
  {
   "cell_type": "code",
   "execution_count": 60,
   "metadata": {},
   "outputs": [],
   "source": [
    "# Creating soup of HTML text content with bs4 HTML parser\n",
    "main_soup = BeautifulSoup(news_html.text, 'html.parser')"
   ]
  },
  {
   "cell_type": "markdown",
   "metadata": {},
   "source": [
    "## Find Articles"
   ]
  },
  {
   "cell_type": "code",
   "execution_count": 65,
   "metadata": {},
   "outputs": [],
   "source": [
    "# find all articles by tag and class specification\n",
    "articles = main_soup.find_all('article', {'class': 'standard-teaser-container condensed-horizontal news'})"
   ]
  },
  {
   "cell_type": "markdown",
   "metadata": {},
   "source": [
    "## Function to Extract Articles Data\n",
    "* Title\n",
    "* Path\n",
    "* url\n",
    "* Author"
   ]
  },
  {
   "cell_type": "code",
   "execution_count": 62,
   "metadata": {},
   "outputs": [],
   "source": [
    "def get_artcl_data(article):\n",
    "        \"\"\"\n",
    "        Extract articles data from endi.com digital news paper.\n",
    "\n",
    "        Parameters\n",
    "        ----------\n",
    "        articles : ResultSet\n",
    "            list of query results\n",
    "\n",
    "        Returns\n",
    "        -------\n",
    "        dict\n",
    "            a dictionary containing article title, url, and author data\n",
    "\n",
    "        Raises\n",
    "        ------\n",
    "        AttribureError\n",
    "            when article not found\n",
    "        \"\"\"\n",
    "        try:\n",
    "            # Check check article tagged Noticias or Seguridad\n",
    "            if (article.find(name= \"h5\", attrs= {\"class\": \"standard-teaser-subheading slug\"}).text== \"Seguridad\"\n",
    "                or article.find(name= \"h5\", attrs= {\"class\": \"standard-teaser-subheading slug\"}).text == \"Noticias\"):\n",
    "\n",
    "                # Extract article title \n",
    "                article_headline= article.find(name= 'h3', attrs= {'class':'standard-teaser-headline teaser-headline'}).text\n",
    "                \n",
    "                # Extract article path\n",
    "                article_path= article.find(name= \"a\", href= True)['href']\n",
    "                \n",
    "                # Extract article url\n",
    "                article_url= \"https://www.elnuevodia.com{path}\".format(path= article_path)\n",
    "                \n",
    "                # Extract article author\n",
    "                article_author= article.find(\"div\", {\"class\": \"authors-byline-text\"}).text\n",
    "                \n",
    "                # Return dictionary with data\n",
    "                return {\"Headline\": article_headline, \"url\": article_url, \"author\": article_author}\n",
    "        except AttributeError:\n",
    "             # Print message is find error\n",
    "             print(\"¡No se encontró resultado!\")"
   ]
  },
  {
   "cell_type": "markdown",
   "metadata": {},
   "source": [
    "## Iterate Articles and Construct Dictionary "
   ]
  },
  {
   "cell_type": "code",
   "execution_count": null,
   "metadata": {},
   "outputs": [],
   "source": [
    "data_handler= {}\n",
    "for artcl in zip(count(start= 1, step= 1), articles):\n",
    "    artcl_data= get_artcl_data(article= artcl[1])\n",
    "    data_handler[str(artcl[0])]= artcl_data"
   ]
  },
  {
   "cell_type": "code",
   "execution_count": 68,
   "metadata": {},
   "outputs": [
    {
     "data": {
      "text/plain": [
       "'https://www.elnuevodia.com/noticias/seguridad/notas/encuentran-un-cadaver-en-la-carretera-pr-6685-en-manati/'"
      ]
     },
     "execution_count": 68,
     "metadata": {},
     "output_type": "execute_result"
    }
   ],
   "source": [
    "article_url= data_handler[\"1\"][\"url\"]\n",
    "article_url\n"
   ]
  },
  {
   "cell_type": "code",
   "execution_count": 69,
   "metadata": {},
   "outputs": [],
   "source": [
    "article_html = requests.get(article_url)"
   ]
  },
  {
   "cell_type": "code",
   "execution_count": 73,
   "metadata": {},
   "outputs": [],
   "source": [
    "article_soup= BeautifulSoup(article_html.text, \"html.parser\")"
   ]
  },
  {
   "cell_type": "code",
   "execution_count": 83,
   "metadata": {},
   "outputs": [
    {
     "data": {
      "text/plain": [
       "'La Policía investiga si guarda relación con el cuerpo baleado y hallado flotando el lunes en un río del mencionado municipio'"
      ]
     },
     "execution_count": 83,
     "metadata": {},
     "output_type": "execute_result"
    }
   ],
   "source": [
    "headline_sub= article_soup.find(name= \"div\", attrs= {\"class\": \"article-headline__subheadline\"}).text\n",
    "headline_sub"
   ]
  },
  {
   "cell_type": "code",
   "execution_count": 94,
   "metadata": {},
   "outputs": [
    {
     "data": {
      "text/plain": [
       "'2:17 PM'"
      ]
     },
     "execution_count": 94,
     "metadata": {},
     "output_type": "execute_result"
    }
   ],
   "source": [
    "article_date_time= (article_soup.find(name= \"div\", attrs= {\"class\": \"article-headline__date\"}).text).split(\"-\")\n",
    "article_date= article_date_time[0].strip()\n",
    "article_time= article_date_time[1].strip()\n",
    "article_time"
   ]
  },
  {
   "cell_type": "code",
   "execution_count": 112,
   "metadata": {},
   "outputs": [
    {
     "data": {
      "text/plain": [
       "'El cuerpo de un hombre, que presenta heridas de bala y se encuentra atado de manos y pies, fue encontrado, en horas de la tarde del martes, en el kilómetro 9.0, en la carretera PR-6685, en el barrio Montebello, en el municipio de Manatí, informó el Negociado de la Policía. El director del Cuerpo de Investigaciones Criminales (CIC) de Arecibo, Carlos Vélez Hernández, indicó a El Nuevo Día que se está investigando si guarda relación con el cuerpo baleado que fue encontrado a orillas de un río debajo del puente Montebello, el lunes, en el mencionado municipio. “Se está verificando si se relacionan”, comentó. El Nuevo Día supo que la Policía indaga, además, si ambos cuerpos corresponden a dos jóvenes que fueron reportados como desaparecidos en el municipio de Vega Alta. Al presente, este es el decimocuarto asesinato que se reporta este año en Manatí. Mantente conectado a elnuevodia.com para la ampliación de esta noticia.'"
      ]
     },
     "execution_count": 112,
     "metadata": {},
     "output_type": "execute_result"
    }
   ],
   "source": [
    "article_content= article_soup.find_all(name= \"p\", attrs= {\"class\": \"content-element\"})\n",
    "content= []\n",
    "for _ in article_content: content.append(_.text)\n",
    "\" \".join(content)"
   ]
  },
  {
   "cell_type": "code",
   "execution_count": null,
   "metadata": {},
   "outputs": [],
   "source": []
  }
 ],
 "metadata": {
  "kernelspec": {
   "display_name": "Python 3",
   "language": "python",
   "name": "python3"
  },
  "language_info": {
   "codemirror_mode": {
    "name": "ipython",
    "version": 3
   },
   "file_extension": ".py",
   "mimetype": "text/x-python",
   "name": "python",
   "nbconvert_exporter": "python",
   "pygments_lexer": "ipython3",
   "version": "3.12.4"
  }
 },
 "nbformat": 4,
 "nbformat_minor": 2
}
