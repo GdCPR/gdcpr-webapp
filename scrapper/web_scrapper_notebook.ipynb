{
 "cells": [
  {
   "cell_type": "markdown",
   "metadata": {},
   "source": [
    "### Import modules"
   ]
  },
  {
   "cell_type": "code",
   "execution_count": null,
   "metadata": {},
   "outputs": [],
   "source": [
    "from scrapper.art_hash import get_hash\n",
    "from scrapper.extract_artcls_data import current_artcls, artcl_data, artcl_content\n",
    "from scrapper.location_detector import detect_location, validate_location, get_location_id\n",
    "from scrapper.relevance_score_claculator import calculate_score as score\n",
    "from database_manager.database_connector import dbconnection as db\n",
    "from database_manager import querys"
   ]
  },
  {
   "cell_type": "markdown",
   "metadata": {},
   "source": [
    "### Save url containing articles"
   ]
  },
  {
   "cell_type": "code",
   "execution_count": null,
   "metadata": {},
   "outputs": [],
   "source": [
    "# Base url\n",
    "news_url= \"https://www.elnuevodia.com/noticias/seguridad\""
   ]
  },
  {
   "cell_type": "markdown",
   "metadata": {},
   "source": [
    "### Construct data dictionary and insert data into database"
   ]
  },
  {
   "cell_type": "code",
   "execution_count": null,
   "metadata": {},
   "outputs": [],
   "source": [
    "# Get the current articles in endi.com \n",
    "# under the Seguridad category\n",
    "articles = current_artcls(news_url)\n",
    "\n",
    "# Iterate over current articles\n",
    "for article in articles:\n",
    "    # Re-establish database connection\n",
    "    db.reconnect()\n",
    "    # Create communication cursor object\n",
    "    cursor = db.cursor(buffered=True)\n",
    "\n",
    "    # Get article hash\n",
    "    art_hash = get_hash(article=article)\n",
    "    # Fetch stored articles hashes\n",
    "    cursor.execute(querys.FETCH_HASHES)\n",
    "    # Select rows where article hash exists\n",
    "    cursor.execute(querys.CHECK_HASH, [art_hash])\n",
    "    # Count number of rows hash appears\n",
    "    check = cursor.rowcount\n",
    "\n",
    "    # Get article data and store to database only if\n",
    "    # article hash do not exists; check variable must\n",
    "    # be 0\n",
    "    if check == 0:\n",
    "        # Create data dictionary with extracted article initial\n",
    "        # data and hash \n",
    "        # URL, Headline, Author, and Hash \n",
    "        query_dict = artcl_data(article=article)\n",
    "        \n",
    "        # Update data dictionary to store content data\n",
    "        # Subheadline, Datetime, and Content\n",
    "        query_dict.update(artcl_content(article_data=query_dict))\n",
    "        \n",
    "        # Insert article data into database table Articles \n",
    "        cursor.execute(querys.INSERT_ARTICLE, query_dict)\n",
    "        # Commit the insert\n",
    "        db.commit()\n",
    "\n",
    "        # Get ID of inserted article\n",
    "        art_id = cursor.lastrowid\n",
    "\n",
    "        # Create list with article detected location \n",
    "        locs_found = detect_location(article_data=query_dict)\n",
    "        # Create list with detected locations validated\n",
    "        loc_validated = validate_location(location=locs_found)\n",
    "        \n",
    "        # Insert into ArticleLocationRelationship only if\n",
    "        # valudad location contains values \n",
    "        if loc_validated:\n",
    "            # Iterate over validated locations\n",
    "            for loc in loc_validated:\n",
    "                # Get the location id\n",
    "                loc_id = get_location_id(validated_location=loc)\n",
    "                \n",
    "                # Insert ArticleID and LocationID into ArticlesLocationRelation\n",
    "                query_dict = {\"articleid\": art_id, \"locationid\": loc_id}\n",
    "                cursor.execute(querys.INSERT_ARTICLE_LOCATION, query_dict)\n",
    "                db.commit()\n",
    "\n",
    "                # Calculate relevance score for the given location\n",
    "                sc = score(location_id=loc_id)\n",
    "                # Update the location relevance score\n",
    "                query_dict = {\"locationid\":loc_id , \"score\": sc}\n",
    "                cursor.execute(querys.UPDATE_RELEVACE_SCORE, query_dict)\n",
    "                db.commit()\n",
    "    cursor.close()\n",
    "    db.close()"
   ]
  },
  {
   "cell_type": "markdown",
   "metadata": {},
   "source": [
    "## Print Articles rows"
   ]
  },
  {
   "cell_type": "code",
   "execution_count": null,
   "metadata": {},
   "outputs": [],
   "source": [
    "db.reconnect()\n",
    "query = \"\"\"SELECT * FROM Articles\"\"\"\n",
    "cursor = db.cursor(buffered=True)\n",
    "cursor.execute(query)\n",
    "for row in cursor:\n",
    "    print(row)\n",
    "db.close()"
   ]
  },
  {
   "cell_type": "markdown",
   "metadata": {},
   "source": [
    "## Print Articles-Location Relation rows"
   ]
  },
  {
   "cell_type": "code",
   "execution_count": null,
   "metadata": {},
   "outputs": [],
   "source": [
    "db.reconnect()\n",
    "query = \"\"\"SELECT * FROM ArticlesLocationRelation\"\"\"\n",
    "cursor = db.cursor(buffered=True)\n",
    "cursor.execute(query)\n",
    "for row in cursor:\n",
    "    print(row)\n",
    "db.close()"
   ]
  },
  {
   "cell_type": "markdown",
   "metadata": {},
   "source": [
    "## Print Location rows"
   ]
  },
  {
   "cell_type": "code",
   "execution_count": null,
   "metadata": {},
   "outputs": [],
   "source": [
    "db.reconnect()\n",
    "query = \"\"\"SELECT * FROM Location\"\"\"\n",
    "cursor = db.cursor(buffered=True)\n",
    "cursor.execute(query)\n",
    "for row in cursor:\n",
    "    print(row)\n",
    "db.close()"
   ]
  },
  {
   "cell_type": "markdown",
   "metadata": {},
   "source": [
    "# Testing"
   ]
  },
  {
   "cell_type": "code",
   "execution_count": null,
   "metadata": {},
   "outputs": [],
   "source": []
  }
 ],
 "metadata": {
  "kernelspec": {
   "display_name": "Python 3",
   "language": "python",
   "name": "python3"
  },
  "language_info": {
   "codemirror_mode": {
    "name": "ipython",
    "version": 3
   },
   "file_extension": ".py",
   "mimetype": "text/x-python",
   "name": "python",
   "nbconvert_exporter": "python",
   "pygments_lexer": "ipython3",
   "version": "3.12.4"
  }
 },
 "nbformat": 4,
 "nbformat_minor": 2
}
