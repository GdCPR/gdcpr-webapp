{
 "cells": [
  {
   "cell_type": "markdown",
   "metadata": {},
   "source": [
    "### Import modules"
   ]
  },
  {
   "cell_type": "code",
   "execution_count": 1,
   "metadata": {},
   "outputs": [],
   "source": [
    "from scrapper.art_hash import get_hash\n",
    "from scrapper.extract_artcls_data import current_artcls, artcl_data, artcl_content\n",
    "from scrapper.location_detector import detect_location, validate_location, get_location_id\n",
    "from scrapper.relevance_score_claculator import calculate_score as score\n",
    "from database_manager.database_connector import dbconnection as db\n",
    "from database_manager import querys"
   ]
  },
  {
   "cell_type": "markdown",
   "metadata": {},
   "source": [
    "### Save url containing articles"
   ]
  },
  {
   "cell_type": "code",
   "execution_count": null,
   "metadata": {},
   "outputs": [],
   "source": [
    "# Base url\n",
    "news_url= \"https://www.elnuevodia.com/noticias/seguridad\""
   ]
  },
  {
   "cell_type": "markdown",
   "metadata": {},
   "source": [
    "### Construct data dictionary and insert data into database"
   ]
  },
  {
   "cell_type": "code",
   "execution_count": null,
   "metadata": {},
   "outputs": [],
   "source": [
    "# Get the current articles in endi.com \n",
    "# under the Seguridad category\n",
    "articles = current_artcls(news_url)\n",
    "\n",
    "# Iterate over current articles\n",
    "for article in articles:\n",
    "    # Re-establish database connection\n",
    "    db.reconnect()\n",
    "    # Create communication cursor object\n",
    "    cursor = db.cursor(buffered=True)\n",
    "\n",
    "    # Get article hash\n",
    "    art_hash = get_hash(article=article)\n",
    "    # Fetch stored articles hashes\n",
    "    cursor.execute(querys.FETCH_HASHES)\n",
    "    # Select rows where article hash exists\n",
    "    cursor.execute(querys.CHECK_HASH, [art_hash])\n",
    "    # Count number of rows hash appears\n",
    "    check = cursor.rowcount\n",
    "\n",
    "    # Get article data and store to database only if\n",
    "    # article hash do not exists; check variable must\n",
    "    # be 0\n",
    "    if check == 0:\n",
    "        # Create data dictionary with extracted article initial\n",
    "        # data and hash \n",
    "        # URL, Headline, Author, and Hash \n",
    "        query_dict = artcl_data(article=article)\n",
    "        \n",
    "        # Update data dictionary to store content data\n",
    "        # Subheadline, Datetime, and Content\n",
    "        query_dict.update(artcl_content(article_data=query_dict))\n",
    "        \n",
    "        # Insert article data into database table Articles \n",
    "        cursor.execute(querys.INSERT_ARTICLE, query_dict)\n",
    "        # Commit the insert\n",
    "        db.commit()\n",
    "\n",
    "        # Get ID of inserted article\n",
    "        art_id = cursor.lastrowid\n",
    "\n",
    "        # Create list with article detected location \n",
    "        locs_found = detect_location(article_data=query_dict)\n",
    "        # Create list with detected locations validated\n",
    "        loc_validated = validate_location(location=locs_found)\n",
    "        \n",
    "        # Insert into ArticleLocationRelationship only if\n",
    "        # valudad location contains values \n",
    "        if loc_validated:\n",
    "            # Iterate over validated locations\n",
    "            for loc in loc_validated:\n",
    "                # Get the location id\n",
    "                loc_id = get_location_id(validated_location=loc)\n",
    "                \n",
    "                # Insert ArticleID and LocationID into ArticlesLocationRelation\n",
    "                query_dict = {\"articleid\": art_id, \"locationid\": loc_id}\n",
    "                cursor.execute(querys.INSERT_ARTICLE_LOCATION, query_dict)\n",
    "                db.commit()\n",
    "\n",
    "                # Calculate relevance score for the given location\n",
    "                sc = score(location_id=loc_id)\n",
    "                # Update the location relevance score\n",
    "                query_dict = {\"locationid\":loc_id , \"score\": sc}\n",
    "                cursor.execute(querys.UPDATE_RELEVACE_SCORE, query_dict)\n",
    "                db.commit()\n",
    "    cursor.close()\n",
    "    db.close()"
   ]
  },
  {
   "cell_type": "markdown",
   "metadata": {},
   "source": [
    "## Print Articles rows"
   ]
  },
  {
   "cell_type": "code",
   "execution_count": 2,
   "metadata": {},
   "outputs": [
    {
     "name": "stdout",
     "output_type": "stream",
     "text": [
      "(1, 'https://www.elnuevodia.com/noticias/seguridad/notas/arrestan-a-cinco-presuntos-miembros-de-una-ganga-sospechosa-de-cometer-crimenes-violentos-en-santa-isabel-y-coamo/', 'Arrestan a cinco presuntos miembros de una ganga sospechosa de cometer crímenes violentos en Santa Isabel y Coamo', 'Por Alex Figueroa Cancel', 'La Policía indicó que los detenidos figuran entre las edades de 19 a 23 años', datetime.datetime(2024, 7, 25, 13, 42), 'ad1d7d3dbba78796329c59cf7c5b725c7f533ce1478c0609ab95e5b4cc6bd010')\n",
      "(2, 'https://www.elnuevodia.com/noticias/seguridad/notas/investigan-si-cuerpo-hallado-en-rio-grande-corresponde-a-victima-de-un-hit-and-run/', 'Investigan si cuerpo hallado en Río Grande corresponde a víctima de un “hit and run”', 'Por Alex Figueroa Cancel', 'Un ciudadano alegó a la Policía que vio cuando fue atropellado', datetime.datetime(2024, 7, 25, 6, 23), '37f843f48093b4b0e8ad60f9b4f9ddb9999cf029dbad5c54e971d5f42339fc51')\n",
      "(3, 'https://www.elnuevodia.com/noticias/seguridad/notas/roban-dinero-de-ofrendas-y-rompen-urna-valorada-en-9-mil-tras-escalar-parroquia-en-santurce/', 'Roban dinero de ofrendas y rompen urna valorada en $9 mil tras escalar parroquia en Santurce', 'Por Yaritza Rivera Clemente', 'El querellante alegó a la Policía que alguien forzó una puerta del edificio logrando acceso a su interior', datetime.datetime(2024, 7, 24, 16, 48), '9f160551968af1cdd2356856066f61bf048c6f145b4af643e267f0c781eb4776')\n",
      "(4, 'https://www.elnuevodia.com/noticias/seguridad/notas/recuperan-la-corona-y-la-banda-de-miss-mundo-republica-dominicana-robada-en-el-aeropuerto-luis-munoz-marin/', 'Recuperan la corona y la banda de Miss Mundo República Dominicana robada en el aeropuerto Luis Muñoz Marín', 'Por Richard I. Colón Badillo', 'La corona está valorada en $10,000', datetime.datetime(2024, 7, 24, 8, 55), '25090b39fdd3b1f2b8c6ac84b7236b363d33803c24615dafe4c419bae8627c49')\n",
      "(5, 'https://www.elnuevodia.com/noticias/seguridad/notas/camion-volcado-provoca-el-cierre-temporal-de-la-carretera-pr-10-en-direccion-de-adjuntas-a-ponce/', 'Camión volcado provoca el cierre temporal de la carretera PR-10 en dirección de Adjuntas a Ponce', 'Por Richard I. Colón Badillo', 'Las autoridades se encuentran limpiando el área', datetime.datetime(2024, 7, 24, 13, 54), 'cdf21a515ba854a540d0f0403ea681621ac34f5c569c4709601c6668fe4d3f29')\n",
      "(6, 'https://www.elnuevodia.com/noticias/seguridad/notas/reportan-dos-accidentes-de-transito-fatales-en-barceloneta-y-lares/', 'Reportan dos accidentes de tránsito fatales en Barceloneta y Lares', 'Por Alex Figueroa Cancel', 'Los hechos ocurrieron con menos de media hora de diferencia', datetime.datetime(2024, 7, 24, 6, 32), 'ca2a454b1fb49833bb0bad51163330cef4307313d5457dc4c131d559f9efaf61')\n",
      "(7, 'https://www.elnuevodia.com/noticias/seguridad/notas/hallan-causa-para-arresto-contra-dos-sujetos-imputados-de-asesinar-a-un-hombre-mientras-corria-bicicleta-en-canovanas/', 'Hallan causa para arresto contra dos sujetos imputados de asesinar a un hombre mientras corría bicicleta en Canóvanas', 'Por Andrea Guemárez Soto', 'A Jadvier Vázquez Díaz, de 24 años y Wilfredo Rivera Fuentes, de 35 años, se le impuso una fianza de $220,000, la cual no prestaron, siendo ingresados a la cárcel', datetime.datetime(2024, 7, 24, 22, 16), '481ef7262e5630eb5a57818fd69dddfbcc15e0165891afb2a2ba619c76fa675a')\n",
      "(8, 'https://www.elnuevodia.com/noticias/seguridad/notas/tres-personas-alegan-ser-timadas-de-un-total-de-sobre-8000-por-una-agencia-de-viajes/', 'Tres personas alegan ser timadas de un total de sobre $8,000 por una agencia de viajes', 'Por Andrea Guemárez Soto', 'Los querellantes informaron que el viaje, cuya fecha de partida prevista era el 15 de julio de este año, fue cancelado y “no le han devuelto el dinero”', datetime.datetime(2024, 7, 24, 21, 20), '4dd92ffcbafae12eb01c856bf70cd4312e2f29c2d9fb8f235e803690e27d4abd')\n",
      "(9, 'https://www.elnuevodia.com/noticias/seguridad/notas/policia-verifica-videos-y-entrevista-testigos-en-relacion-al-asesinato-de-un-adolescente-de-15-anos-en-aguadilla/', 'Policía verifica vídeos y entrevista testigos en relación al asesinato de un adolescente de 15 años en Aguadilla', 'Por Alex Figueroa Cancel', 'Los investigadores sospechan que hubo más de un atacante', datetime.datetime(2024, 7, 23, 11, 51), 'b15fbb2241cd5026433ac9450f31f15657ef962bea5d9a858774038795b8c224')\n",
      "(10, 'https://www.elnuevodia.com/noticias/seguridad/notas/hallan-el-cuerpo-de-una-persona-en-estado-descomposicion-en-toa-baja/', 'Hallan el cuerpo de una persona en estado de descomposición en Toa Baja', 'Por Alex Figueroa Cancel', 'Fue encontrado por un ciudadano debajo del llamado “Puente de las Banderas” en Levittown', datetime.datetime(2024, 7, 23, 9, 14), '93b03214d9c01502ab0d032a5e103a84f9a8e978a72b1e5c0e691122cc6476ef')\n",
      "(11, 'https://www.elnuevodia.com/noticias/seguridad/notas/desmantelan-organizacion-criminal-que-introducia-drogas-a-la-carcel-federal-en-puerto-rico-a-traves-del-correo/', 'Desmantelan organización criminal que introducía drogas a la cárcel federal en Puerto Rico a través del correo', 'Por Alex Figueroa Cancel', 'Los cargos de un gran jurado alegan que los ocho acusados conspiraron para enviar sustancias controladas al Centro Metropolitano de Detención en Guaynabo', datetime.datetime(2024, 7, 23, 9, 37), 'bec1800a6f2c50be138e13108df5a62d6f524b5484e3b4e1859c26ff684e6ee1')\n",
      "(12, 'https://www.elnuevodia.com/noticias/seguridad/notas/realizan-carjacking-en-guayama-durante-confuso-incidente/', 'Realizan “carjacking” en Guayama durante confuso incidente', 'Por Agustín Criollo Oquero', 'El robo a mano armada ocurrió en la carretera PR-3, a la altura del kilómetro 143.2', datetime.datetime(2024, 7, 23, 7, 2), 'a2ddc919b939641cee955c013b011901f39a76d99328647552a456b0aa59b9e6')\n",
      "(13, 'https://www.elnuevodia.com/noticias/seguridad/notas/reportan-incendio-en-una-embarcacion-en-humacao/', 'Reportan incendio en una embarcación en Humacao', 'Por Alex Figueroa Cancel', 'Los daños fueron estimados en unos $10,000', datetime.datetime(2024, 7, 23, 6, 31), '0d723999068629b57d67310e7631a8237e80a81d25427e9e5092db6cb241ddbc')\n",
      "(14, 'https://www.elnuevodia.com/noticias/seguridad/notas/como-se-utiliza-la-inteligencia-artificial-en-las-investigaciones-criminales-en-puerto-rico-componentes-del-sistema-de-justicia-lo-explican/', '¿Cómo se utiliza la inteligencia artificial en las investigaciones criminales en Puerto Rico? Componentes del sistema de justicia lo explican', 'Por Adriana Díaz Tirado', 'El auge de estas herramientas en las agencias de orden público abre una nueva ventana de discusión sobre los controles que se requieren para su uso y desarrollo enmarcado en los derechos civiles', datetime.datetime(2024, 7, 23, 23, 10), '278cb5c54e5931e316e0574e0590ac7f75f4815e32299944e40b9931906718c5')\n",
      "(15, 'https://www.elnuevodia.com/noticias/seguridad/notas/arrestan-en-san-juan-a-presunto-lider-de-la-organizacion-criminal-65-inc/', 'Arrestan en San Juan a presunto líder de la organización criminal “65 Inc.“', 'Por Andrea Guemárez Soto', 'Según la Policía, a Christian Escalera Rodríguez, alias “Mono”, también se le vincula con el asesinato de un joven de 21 años en hechos ocurridos el domingo', datetime.datetime(2024, 7, 23, 20, 23), 'f6132e5616841f96f52ee54e041f28e27a62c1fb37e44377d315b2cec581a849')\n",
      "(16, 'https://www.elnuevodia.com/noticias/seguridad/notas/roban-de-una-residencia-herramientas-valoradas-en-4663/', 'Roban de una residencia herramientas valoradas en $4,663', 'Por Alex Figueroa Cancel', 'Los hechos fueron reportados en urbanización Reparto Metropolitano, en San Juan', datetime.datetime(2024, 7, 22, 14, 59), '85dd46e4b4e8efe0b0d6819bf6aa1d9f464892632cd38e220dfc4eec70eb9870')\n",
      "(17, 'https://www.elnuevodia.com/noticias/seguridad/notas/encuentran-dentro-de-un-vehiculo-a-un-hombre-asesinado-a-tiros-en-san-juan/', 'Encuentran dentro de un vehículo a un hombre asesinado a tiros en San Juan', 'Por Alex Figueroa Cancel', 'Los hechos ocurrieron frente a una residencia en la urbanización Villa Olímpica y la víctima fue identificada como Lionel Simonetti García, de 39 años', datetime.datetime(2024, 7, 22, 6, 58), '90b98f83f1d58d99bcae1d97b37dd67502c079f62d321725b0d870113a7f8b79')\n",
      "(18, 'https://www.elnuevodia.com/noticias/seguridad/notas/delincuentes-amarran-a-hombre-en-residencia-en-toa-alta-y-se-llevan-45000-en-efectivo-de-la-caja-fuerte/', 'Delincuentes amarran a hombre en residencia en Toa Alta y se llevan $45,000 en efectivo de la caja fuerte', 'Por Yaritza Rivera Clemente', 'Los individuos armados, además, despojaron al perjudicado de una cadena de oro y dos relojes marca Rolex valorados en $25,000', datetime.datetime(2024, 7, 20, 11, 9), 'ab4f0c2a168d822df285e6fabb53fcd69a29426add5102464f239f03d1dd3f39')\n",
      "(19, 'https://www.elnuevodia.com/noticias/seguridad/notas/muere-peaton-que-fue-arrollado-frente-a-un-negocio-en-guanica/', 'Muere peatón que fue arrollado frente a un negocio en Guánica', 'Por Yaritza Rivera Clemente', 'La Policía informó que el conductor se detuvo en la escena', datetime.datetime(2024, 7, 20, 9, 53), 'a6b632c3db27b8f500c6b43ddac3a2576eb0b2fa11a24991cae17d28af5b15bb')\n",
      "(20, 'https://www.elnuevodia.com/noticias/seguridad/notas/conductor-presuntamente-ebrio-arrolla-fatalmente-a-peaton-en-la-avenida-barbosa-en-rio-piedras/', 'Conductor presuntamente ebrio provocó la muerte de peatón en la avenida Barbosa en Río Piedras', 'Por Agustín Criollo Oquero', 'La víctima fue impactado a las 4:53 de la madrugada del sábado por un conductor que, al hacerle la prueba de alcohol, arrojó 0.192%', datetime.datetime(2024, 7, 20, 9, 29), '56a92609b3652969128b38e9df462d2533258c8252b44cc6254fa66d906e3f4b')\n",
      "(21, 'https://www.elnuevodia.com/noticias/seguridad/notas/asesinan-a-dos-jovenes-de-22-y-16-anos-mientras-transitaban-en-motora-en-vega-alta/', 'Asesinan a dos jóvenes de 22 y 16 años mientras transitaban en motora en Vega Alta', 'Por Yaritza Rivera Clemente', 'El adolescente falleció en la escena, mientras que la muerte de la otra víctima fue certificada en un hospital', datetime.datetime(2024, 7, 20, 9, 19), '8b0411fab89918c2e73dcd9ce979abd710c389fecf5ac538552397612386ecab')\n",
      "(22, 'https://www.elnuevodia.com/noticias/seguridad/notas/conductor-de-74-anos-muere-durante-accidente-en-sabana-grande/', 'Conductor de 74 años muere durante accidente en Sabana Grande', 'Por Agustín Criollo Oquero', 'El hombre iba acompañado de su esposa, quien sufrió lesiones superficiales y se encuentra en condición estable', datetime.datetime(2024, 7, 20, 9, 5), 'a88f644eb8d518d46115556912e463f809d27266c3e5d8a24bb93406a65f5920')\n",
      "(23, 'https://www.elnuevodia.com/noticias/seguridad/notas/desmantelan-organizacion-criminal-que-introducia-drogas-a-la-carcel-federal-en-puerto-rico-a-traves-del-correo/', 'Desmantelan organización criminal que introducía drogas a la cárcel federal en Puerto Rico a través del correo', 'Por Alex Figueroa Cancel', 'Los cargos de un gran jurado alegan que los ocho acusados conspiraron para enviar sustancias controladas al Centro Metropolitano de Detención en Guaynabo', datetime.datetime(2024, 7, 23, 9, 37), 'a804326f6f58c96717c4b41360e8fb050faeba03eb093e4bb99a8e65cb882e3a')\n",
      "(24, 'https://www.elnuevodia.com/noticias/seguridad/notas/realizan-carjacking-en-guayama-durante-confuso-incidente/', 'Realizan “carjacking” en Guayama durante confuso incidente', 'Por Agustín Criollo Oquero', 'El robo a mano armada ocurrió en la carretera PR-3, a la altura del kilómetro 143.2', datetime.datetime(2024, 7, 23, 7, 2), '2052a4d6d79113c6e7fbee8c7217f5762c9af016f9db3dfa2f7159b2244f4b0f')\n",
      "(25, 'https://www.elnuevodia.com/noticias/seguridad/notas/reportan-incendio-en-una-embarcacion-en-humacao/', 'Reportan incendio en una embarcación en Humacao', 'Por Alex Figueroa Cancel', 'Los daños fueron estimados en unos $10,000', datetime.datetime(2024, 7, 23, 6, 31), 'a2474d9ad589324b00d97439c6abacc2becb09194d45d634d0f69d7bd737b293')\n",
      "(26, 'https://www.elnuevodia.com/noticias/seguridad/notas/como-se-utiliza-la-inteligencia-artificial-en-las-investigaciones-criminales-en-puerto-rico-componentes-del-sistema-de-justicia-lo-explican/', '¿Cómo se utiliza la inteligencia artificial en las investigaciones criminales en Puerto Rico? Componentes del sistema de justicia lo explican', 'Por Adriana Díaz Tirado', 'El auge de estas herramientas en las agencias de orden público abre una nueva ventana de discusión sobre los controles que se requieren para su uso y desarrollo enmarcado en los derechos civiles', datetime.datetime(2024, 7, 23, 23, 10), '920276333145dfe16ce1f1c041987dd0826841a374d5dc1f71af9eebe664c616')\n",
      "(27, 'https://www.elnuevodia.com/noticias/seguridad/notas/arrestan-en-san-juan-a-presunto-lider-de-la-organizacion-criminal-65-inc/', 'Arrestan en San Juan a presunto líder de la organización criminal “65 Inc.“', 'Por Andrea Guemárez Soto', 'Según la Policía, a Christian Escalera Rodríguez, alias “Mono”, también se le vincula con el asesinato de un joven de 21 años en hechos ocurridos el domingo', datetime.datetime(2024, 7, 23, 20, 23), '918233326df71ee6e209343b45e4f32a19a68db45eb6423f1c1b3ce40a0477a5')\n",
      "(28, 'https://www.elnuevodia.com/noticias/seguridad/notas/roban-de-una-residencia-herramientas-valoradas-en-4663/', 'Roban de una residencia herramientas valoradas en $4,663', 'Por Alex Figueroa Cancel', 'Los hechos fueron reportados en urbanización Reparto Metropolitano, en San Juan', datetime.datetime(2024, 7, 22, 14, 59), 'ecde3ae21f929344f352df4d1b3b879be4aff526ba6b1598b9bb5ed9a956516a')\n",
      "(29, 'https://www.elnuevodia.com/noticias/seguridad/notas/encuentran-dentro-de-un-vehiculo-a-un-hombre-asesinado-a-tiros-en-san-juan/', 'Encuentran dentro de un vehículo a un hombre asesinado a tiros en San Juan', 'Por Alex Figueroa Cancel', 'Los hechos ocurrieron frente a una residencia en la urbanización Villa Olímpica y la víctima fue identificada como Lionel Simonetti García, de 39 años', datetime.datetime(2024, 7, 22, 6, 58), 'd7b014d3efbb4734dfa297cd5e3f169f1faa8cfeee93643cf824cd17f80ccf81')\n",
      "(30, 'https://www.elnuevodia.com/noticias/seguridad/notas/transportistas-llevaran-caravana-de-protesta-por-el-expreso-pr-22/', 'Transportistas llevarán caravana de protesta por el expreso PR-22', 'Por Alex Figueroa Cancel', 'Tienen planificado llegar hasta el Negociado de Transporte en la mañana de este lunes', datetime.datetime(2024, 7, 22, 10, 51), '59b183a5a43b76623c1703cf1326d1eb13bb7d0c66a6fe6feef36062e39d7081')\n",
      "(31, 'https://www.elnuevodia.com/noticias/seguridad/notas/asesinan-a-adolescente-de-15-anos-y-su-madre-y-hermano-resultan-heridos-en-aguadilla/', 'Asesinan a adolescente de 15 años y su madre y hermano resultan heridos en Aguadilla', 'Por Alex Figueroa Cancel', 'La Policía informó que los tres tenían heridas de arma blanca', datetime.datetime(2024, 7, 22, 6, 25), '98ee38cea5daaa5a9caac94f6af143c529d3a092b18530dd68c8c06b89395955')\n",
      "(32, 'https://www.elnuevodia.com/noticias/seguridad/notas/identifican-a-occiso-hallado-en-juncos-como-un-chofer-de-uber-reportado-como-desaparecido/', 'Identifican a occiso hallado en Juncos como un chofer de Uber reportado como desaparecido', 'Por Alex Figueroa Cancel', 'La Policía reportó el hallazgo del cuerpo el jueves pasado', datetime.datetime(2024, 7, 22, 8, 4), 'e5389d4ac3fd9cf81233390493d85ff10bb3d3765f6f027463b2827bda5c96a1')\n"
     ]
    }
   ],
   "source": [
    "db.reconnect()\n",
    "query = \"\"\"SELECT * FROM Articles\"\"\"\n",
    "cursor = db.cursor(buffered=True)\n",
    "cursor.execute(query)\n",
    "for row in cursor:\n",
    "    print(row)\n",
    "db.close()"
   ]
  },
  {
   "cell_type": "markdown",
   "metadata": {},
   "source": [
    "## Print Articles-Location Relation rows"
   ]
  },
  {
   "cell_type": "code",
   "execution_count": null,
   "metadata": {},
   "outputs": [],
   "source": [
    "db.reconnect()\n",
    "query = \"\"\"SELECT * FROM ArticlesLocationRelation\"\"\"\n",
    "cursor = db.cursor(buffered=True)\n",
    "cursor.execute(query)\n",
    "for row in cursor:\n",
    "    print(row)\n",
    "db.close()"
   ]
  },
  {
   "cell_type": "markdown",
   "metadata": {},
   "source": [
    "## Print Location rows"
   ]
  },
  {
   "cell_type": "code",
   "execution_count": null,
   "metadata": {},
   "outputs": [],
   "source": [
    "db.reconnect()\n",
    "query = \"\"\"SELECT * FROM Location\"\"\"\n",
    "cursor = db.cursor(buffered=True)\n",
    "cursor.execute(query)\n",
    "for row in cursor:\n",
    "    print(row)\n",
    "db.close()"
   ]
  },
  {
   "cell_type": "markdown",
   "metadata": {},
   "source": [
    "# Testing"
   ]
  },
  {
   "cell_type": "code",
   "execution_count": null,
   "metadata": {},
   "outputs": [],
   "source": []
  }
 ],
 "metadata": {
  "kernelspec": {
   "display_name": "Python 3",
   "language": "python",
   "name": "python3"
  },
  "language_info": {
   "codemirror_mode": {
    "name": "ipython",
    "version": 3
   },
   "file_extension": ".py",
   "mimetype": "text/x-python",
   "name": "python",
   "nbconvert_exporter": "python",
   "pygments_lexer": "ipython3",
   "version": "3.12.4"
  }
 },
 "nbformat": 4,
 "nbformat_minor": 2
}
