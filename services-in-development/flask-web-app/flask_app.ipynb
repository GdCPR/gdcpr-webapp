{
 "cells": [
  {
   "cell_type": "markdown",
   "metadata": {},
   "source": [
    "### Import modules"
   ]
  },
  {
   "cell_type": "code",
   "execution_count": 1,
   "metadata": {},
   "outputs": [],
   "source": [
    "from database_manager.database_connector import dbconnection as db"
   ]
  },
  {
   "cell_type": "markdown",
   "metadata": {},
   "source": [
    "## Create cursor obj"
   ]
  },
  {
   "cell_type": "code",
   "execution_count": 2,
   "metadata": {},
   "outputs": [],
   "source": [
    "cursor = db.cursor()"
   ]
  },
  {
   "cell_type": "markdown",
   "metadata": {},
   "source": [
    "## Fetch Articles table all fields and entries"
   ]
  },
  {
   "cell_type": "code",
   "execution_count": 4,
   "metadata": {},
   "outputs": [],
   "source": [
    "cursor.execute(\"SELECT * FROM Articles\")"
   ]
  },
  {
   "cell_type": "markdown",
   "metadata": {},
   "source": [
    "## Print each row"
   ]
  },
  {
   "cell_type": "code",
   "execution_count": 5,
   "metadata": {},
   "outputs": [
    {
     "name": "stdout",
     "output_type": "stream",
     "text": [
      "(1, 'https://www.elnuevodia.com/noticias/seguridad/notas/identifican-a-hombre-cuyo-cuerpo-fue-hallado-baleado-en-juana-diaz/', 'Identifican a hombre cuyo cuerpo fue hallado baleado en Juana Díaz', 'Por Richard I. Colón Badillo', 'El individuo, identificado como Jorge Alberto González Rivera, tenía 25 años', datetime.datetime(2024, 7, 28, 9, 35), 'ef38cb894b935db283e3c1691d689499864f07578767bf9ac02fdcc292751784')\n",
      "(2, 'https://www.elnuevodia.com/noticias/seguridad/notas/san-juan-busca-combatir-el-hurto-de-vehiculos-con-el-uso-de-inteligencia-artificial/', 'San Juan busca combatir el hurto de vehículos con el uso de inteligencia artificial', 'Por Gloria Ruiz Kuilan', 'La administración municipal apuesta a poder identificar autos, posiblemente asociados a actividad delictiva, integrando la tecnología a las cámaras que tiene el gobierno central en varias vías públicas', datetime.datetime(2024, 7, 28, 13, 36), 'ddace202f2e9ffcc4bd4ca68643707797d1f51ac3d3318622cb7b473bb0c4624')\n",
      "(3, 'https://www.elnuevodia.com/noticias/seguridad/notas/accidente-de-transito-cobra-la-vida-de-un-hombre-de-79-anos-en-cabo-rojo/', 'Accidente de tránsito cobra la vida de un hombre de 79 años en Cabo Rojo', 'Por Richard I. Colón Badillo', 'La víctima presuntamente chocó con otro vehículo al invadir el carril contrario', datetime.datetime(2024, 7, 28, 9, 57), 'affa5a71e6132e007e10ec075846d5126fc2b1b5336bbaee9c310ea1fea011a2')\n",
      "(4, 'https://www.elnuevodia.com/noticias/seguridad/notas/sargento-de-la-policia-resulta-herido-con-su-arma-de-reglamento/', 'Sargento de la Policía resulta herido con su arma de reglamento', 'Por Keila López Alicea', 'El agente de la Uniformada se disparó a sí mismo en una pierna', datetime.datetime(2024, 7, 28, 9, 33), 'd6193ccc5fefdc021dd22d57feda2519364441b12aaca3f77c16e0c22c65257d')\n",
      "(5, 'https://www.elnuevodia.com/noticias/seguridad/notas/es-bien-fuerte-la-separacion-familias-sufren-las-secuelas-de-perder-a-sus-hijos-asesinados-en-medio-de-la-ola-de-violencia-en-puerto-rico/', '“Es bien fuerte la separación”: familias sufren las secuelas de perder a sus hijos asesinados en medio de la ola de violencia en Puerto Rico', 'Por Adriana Díaz Tirado', 'Las madres de Tanaisha de Jesús Curet y Nahia Ramos López, asesinadas hace un año en Piñones, narran lo difícil que ha sido seguir con sus vidas, y aseguran no querer la pena de muerte para los acusados a nivel federal', datetime.datetime(2024, 7, 28, 23, 10), '32eb98bfa9cc2d7f55de4c57062ee58789c34bbb9091499734d60332ed177e25')\n",
      "(6, 'https://www.elnuevodia.com/noticias/seguridad/notas/la-policia-identifica-al-hombre-asesinado-en-el-expreso-baldorioty-de-castro/', 'La Policía identifica al hombre asesinado en el expreso Baldorioty de Castro', 'Por Yaritza Rivera Clemente', 'En la escena donde el sábado balearon a Edgardo Caldero Calderón, de 45 años, se recuperaron casquillos de municiones para pistolas y para rifles', datetime.datetime(2024, 7, 27, 16, 22), '77097170af6373b8b511a6ad22d1745a1372065029c2589dd1925e9496cb52f0')\n",
      "(7, 'https://www.elnuevodia.com/noticias/seguridad/notas/dos-menores-de-15-y-16-anos-resultan-con-heridas-de-gravedad-tras-chocar-contra-verja-de-hospital-en-arroyo/', 'Dos menores de 15 y 16 años resultan con heridas de gravedad tras chocar contra verja de hospital en Arroyo', 'Por Yaritza Rivera Clemente', 'La Policía informó que le dio conocimiento del caso al Departamento de la Familia y que los adolescentes, dentro de su condición, se encuentran estables', datetime.datetime(2024, 7, 27, 18, 22), '16af9fc4b10b29cf170fe1889f40976c27cb14b91189279ffb7c01a28090778c')\n",
      "(8, 'https://www.elnuevodia.com/noticias/seguridad/notas/sujetos-armados-roban-10000-en-efectivo-y-prendas-tras-amarrar-a-propietario-de-residencia-en-guaynabo/', 'Sujetos armados roban $10,000 en efectivo y prendas tras amarrar a propietario de residencia en Guaynabo', 'Por Yaritza Rivera Clemente', 'El perjudicado alegó a la Policía que los tres individuos estaban enmascarados y vestidos de negro', datetime.datetime(2024, 7, 27, 16, 40), '2137d28e54e3837a5406b2ed993d6759c4a7f96f207c5ba27599223180072f24')\n",
      "(9, 'https://www.elnuevodia.com/noticias/seguridad/notas/identifican-a-hombre-hallado-muerto-en-la-calle-principal-del-barrio-las-dolores-en-rio-grande/', 'Identifican a hombre hallado muerto en la calle principal del barrio Las Dolores en Río Grande', 'Por Yaritza Rivera Clemente', 'El caso se reportó en horas de la tarde del pasado jueves y la Policía entiende que pudo haber sido víctima de un “hit and run”', datetime.datetime(2024, 7, 27, 16, 34), 'fcaade89d1c1a3642bafdf0542c9bc50d4a2978253cc68c8e4f1386262ea2277')\n",
      "(10, 'https://www.elnuevodia.com/noticias/seguridad/notas/una-disputa-familiar-pudo-ser-el-detonante-de-una-balacera-registrada-el-viernes-en-loiza/', 'Una disputa familiar pudo ser el detonante de una balacera registrada el viernes en Loíza', 'Por Agustín Criollo Oquero', 'Los cuatro perjudicados se encuentran en condición estable y la Policía indicó que ninguno posee récord criminal', datetime.datetime(2024, 7, 27, 12, 24), '3ff0d459f56176afae82928a39bfbf13e0dfec6d42fb17083ef524feeeb9bad4')\n",
      "(11, 'https://www.elnuevodia.com/noticias/seguridad/notas/bien-encaminada-la-investigacion-de-la-policia-sobre-asesinato-de-adolescente-de-15-anos-en-aguadilla/', '“Bien encaminada” la investigación de la Policía sobre asesinato de adolescente de 15 años en Aguadilla', 'Por Yaritza Rivera Clemente', 'En el incidente también resultaron heridos su hermano, de 16 años, y la madre de estos, de 33 años', datetime.datetime(2024, 7, 27, 12, 20), 'f5b36ec94b985477ada20edb28c8d47007aab42454f213016bade0b02773bf4f')\n",
      "(12, 'https://www.elnuevodia.com/noticias/seguridad/notas/encuentran-aparente-feto-humano-en-el-area-de-la-playa-en-pinones/', 'Encuentran aparente feto humano en el área de la playa en Piñones', 'Por Yaritza Rivera Clemente', 'El Negociado de la Policía confirmó que investiga el hallazgo reportado por un ciudadano', datetime.datetime(2024, 7, 27, 9, 33), 'b1d13a045992bd6f8843ddec052a1acf8719d49f81316740a9c200b31ceeca62')\n",
      "(13, 'https://www.elnuevodia.com/noticias/seguridad/notas/un-peaton-fallece-tras-ser-arrollado-en-juana-diaz/', 'Un peatón fallece tras ser arrollado en Juana Díaz', 'Por Agustín Criollo Oquero', 'La víctima, de 50 años y residente de Santa Isabel, cruzaba la PR-1 cuando un conductor le impactó', datetime.datetime(2024, 7, 27, 10, 36), '0926616559cdb207c7cb5977915b2a39047cf0d5d78c8122d05c38d63546927f')\n",
      "(14, 'https://www.elnuevodia.com/noticias/seguridad/notas/en-conversaciones-la-policia-y-el-fbi-ante-la-posible-formulacion-de-cargos-por-asesinato-de-sargento-en-carolina/', 'En conversaciones la Policía y el FBI ante la posible formulación de cargos por asesinato de sargento en Carolina', 'Por Yaritza Rivera Clemente', 'Eliezer Ramos Vélez fue asesinado el 29 de marzo frente al residencial Sabana Abajo', datetime.datetime(2024, 7, 26, 16, 43), '8d6f1ab584443e42be7435d1dd371d1fe5bc480f1e574b0d144f411649b2367d')\n",
      "(15, 'https://www.elnuevodia.com/noticias/seguridad/notas/tenian-la-mente-hecha-de-darle-muerte-a-quien-fuera-sospechosos-de-asesinar-a-chofer-de-uber-buscaban-robar-su-auto/', '“Tenían la mente hecha de darle muerte a quien fuera”: sospechosos de asesinar a chofer de Uber buscaban robar su auto', 'Por Yaritza Rivera Clemente', 'Uno de los tres presuntos autores del crimen está cooperando con la Policía. Todos los jóvenes tienen 18 años y presuntamente son miembros de una organización criminal', datetime.datetime(2024, 7, 26, 9, 5), '1535d28ed78d74d6c00b2041b7a3786cc508916a936430f5060c785729a23e18')\n",
      "(16, 'https://www.elnuevodia.com/noticias/seguridad/notas/policia-solicita-ayuda-ciudadana-para-dar-con-el-paradero-de-hombre-desaparecido-en-caguas-en-enero-pasado/', 'Policía solicita ayuda ciudadana para dar con el paradero de hombre desaparecido en Caguas en enero pasado', 'Por Agustín Criollo Oquero', 'Edwin Javier Muñoz Sosa, de 29 años, fue descrito como de 6′2″ de estatura, de 180 libras de peso, tez blanca, ojos y cabello color marrón', datetime.datetime(2024, 7, 26, 11, 27), 'ac803074917b385857dc6f4adedc7d4da12c2b032e35e1504efc83ef68c2079b')\n",
      "(17, 'https://www.elnuevodia.com/noticias/seguridad/notas/bomberos-logran-extinguir-incendio-en-aibonito-que-amenazaba-residencias/', 'Bomberos logran extinguir incendio en Aibonito que amenazaba residencias', 'Por Alex Figueroa Cancel', 'Los daños fueron estimados en $25,000', datetime.datetime(2024, 7, 26, 8, 41), 'ee2aa1660998a4a78bee763c123534bf74b0ed951f74a10c522784234f2ba9a4')\n",
      "(18, 'https://www.elnuevodia.com/noticias/seguridad/notas/reportan-dos-accidentes-de-transito-fatales-en-barceloneta-y-lares/', 'Reportan dos accidentes de tránsito fatales en Barceloneta y Lares', 'Por Alex Figueroa Cancel', 'Los hechos ocurrieron con menos de media hora de diferencia', datetime.datetime(2024, 7, 24, 6, 32), 'ca2a454b1fb49833bb0bad51163330cef4307313d5457dc4c131d559f9efaf61')\n",
      "(19, 'https://www.elnuevodia.com/noticias/seguridad/notas/hallan-causa-para-arresto-contra-dos-sujetos-imputados-de-asesinar-a-un-hombre-mientras-corria-bicicleta-en-canovanas/', 'Hallan causa para arresto contra dos sujetos imputados de asesinar a un hombre mientras corría bicicleta en Canóvanas', 'Por Andrea Guemárez Soto', 'A Jadvier Vázquez Díaz, de 24 años y Wilfredo Rivera Fuentes, de 35 años, se le impuso una fianza de $220,000, la cual no prestaron, siendo ingresados a la cárcel', datetime.datetime(2024, 7, 24, 22, 16), '481ef7262e5630eb5a57818fd69dddfbcc15e0165891afb2a2ba619c76fa675a')\n",
      "(20, 'https://www.elnuevodia.com/noticias/seguridad/notas/tres-personas-alegan-ser-timadas-de-un-total-de-sobre-8000-por-una-agencia-de-viajes/', 'Tres personas alegan ser timadas de un total de sobre $8,000 por una agencia de viajes', 'Por Andrea Guemárez Soto', 'Los querellantes informaron que el viaje, cuya fecha de partida prevista era el 15 de julio de este año, fue cancelado y “no le han devuelto el dinero”', datetime.datetime(2024, 7, 24, 21, 20), '4dd92ffcbafae12eb01c856bf70cd4312e2f29c2d9fb8f235e803690e27d4abd')\n",
      "(21, 'https://www.elnuevodia.com/noticias/seguridad/notas/policia-verifica-videos-y-entrevista-testigos-en-relacion-al-asesinato-de-un-adolescente-de-15-anos-en-aguadilla/', 'Policía verifica vídeos y entrevista testigos en relación al asesinato de un adolescente de 15 años en Aguadilla', 'Por Alex Figueroa Cancel', 'Los investigadores sospechan que hubo más de un atacante', datetime.datetime(2024, 7, 23, 11, 51), 'b15fbb2241cd5026433ac9450f31f15657ef962bea5d9a858774038795b8c224')\n",
      "(22, 'https://www.elnuevodia.com/noticias/seguridad/notas/hallan-el-cuerpo-de-una-persona-en-estado-descomposicion-en-toa-baja/', 'Hallan el cuerpo de una persona en estado de descomposición en Toa Baja', 'Por Alex Figueroa Cancel', 'Fue encontrado por un ciudadano debajo del llamado “Puente de las Banderas” en Levittown', datetime.datetime(2024, 7, 23, 9, 14), '93b03214d9c01502ab0d032a5e103a84f9a8e978a72b1e5c0e691122cc6476ef')\n",
      "(23, 'https://www.elnuevodia.com/noticias/seguridad/notas/bien-encaminada-la-investigacion-de-la-policia-sobre-asesinato-de-adolescente-de-15-anos-en-aguadilla/', '“Bien encaminada” la investigación de la Policía sobre asesinato de adolescente de 15 años en Aguadilla', 'Por Yaritza Rivera Clemente', 'En el incidente también resultaron heridos su hermano, de 16 años, y la madre de estos, de 33 años', datetime.datetime(2024, 7, 27, 12, 20), '7de5e7bb3ae32cbda2f0184e1814c6d3c68d1012e20f5bafc4be10a7da67745e')\n",
      "(24, 'https://www.elnuevodia.com/noticias/seguridad/notas/encuentran-aparente-feto-humano-en-el-area-de-la-playa-en-pinones/', 'Encuentran aparente feto humano en el área de la playa en Piñones', 'Por Yaritza Rivera Clemente', 'El Negociado de la Policía confirmó que investiga el hallazgo reportado por un ciudadano', datetime.datetime(2024, 7, 27, 9, 33), '1b7a2d6aa50c34e7df88850f03a7d9c3500ca65f787e67cef064f9d6fce7d559')\n",
      "(25, 'https://www.elnuevodia.com/noticias/seguridad/notas/un-peaton-fallece-tras-ser-arrollado-en-juana-diaz/', 'Un peatón fallece tras ser arrollado en Juana Díaz', 'Por Agustín Criollo Oquero', 'La víctima, de 50 años y residente de Santa Isabel, cruzaba la PR-1 cuando un conductor le impactó', datetime.datetime(2024, 7, 27, 10, 36), 'ca631b8643c73031bb7e8b028dc05ac4ade0879a16e67dce1bd5aa012972b707')\n",
      "(26, 'https://www.elnuevodia.com/noticias/seguridad/notas/en-conversaciones-la-policia-y-el-fbi-ante-la-posible-formulacion-de-cargos-por-asesinato-de-sargento-en-carolina/', 'En conversaciones la Policía y el FBI ante la posible formulación de cargos por asesinato de sargento en Carolina', 'Por Yaritza Rivera Clemente', 'Eliezer Ramos Vélez fue asesinado el 29 de marzo frente al residencial Sabana Abajo', datetime.datetime(2024, 7, 26, 16, 43), 'ef1c5874ef27d664a255f365d18aae69f899368c7083fa09ccffab572c9cb37e')\n",
      "(27, 'https://www.elnuevodia.com/noticias/seguridad/notas/tenian-la-mente-hecha-de-darle-muerte-a-quien-fuera-sospechosos-de-asesinar-a-chofer-de-uber-buscaban-robar-su-auto/', '“Tenían la mente hecha de darle muerte a quien fuera”: sospechosos de asesinar a chofer de Uber buscaban robar su auto', 'Por Yaritza Rivera Clemente', 'Uno de los tres presuntos autores del crimen está cooperando con la Policía. Todos los jóvenes tienen 18 años y presuntamente son miembros de una organización criminal', datetime.datetime(2024, 7, 26, 9, 5), '28c02a303bd0b949a64cf6cdf06f51e557b2b9221f9418626f24ed8eecbeff92')\n",
      "(28, 'https://www.elnuevodia.com/noticias/seguridad/notas/policia-solicita-ayuda-ciudadana-para-dar-con-el-paradero-de-hombre-desaparecido-en-caguas-en-enero-pasado/', 'Policía solicita ayuda ciudadana para dar con el paradero de hombre desaparecido en Caguas en enero pasado', 'Por Agustín Criollo Oquero', 'Edwin Javier Muñoz Sosa, de 29 años, fue descrito como de 6′2″ de estatura, de 180 libras de peso, tez blanca, ojos y cabello color marrón', datetime.datetime(2024, 7, 26, 11, 27), 'c63ece4159f400a0c6c23e7d391c42ced146a30b9baddb26d29c5937deeb29ee')\n",
      "(29, 'https://www.elnuevodia.com/noticias/seguridad/notas/bomberos-logran-extinguir-incendio-en-aibonito-que-amenazaba-residencias/', 'Bomberos logran extinguir incendio en Aibonito que amenazaba residencias', 'Por Alex Figueroa Cancel', 'Los daños fueron estimados en $25,000', datetime.datetime(2024, 7, 26, 8, 41), 'b4897bce1b14101622bb8bc10eb1a7ff4c6db8b20ce65c1675430706c4a04263')\n",
      "(30, 'https://www.elnuevodia.com/noticias/seguridad/notas/fallece-un-joven-en-un-accidente-de-motora/', 'Fallece un joven en un accidente de motora', 'Por Alex Figueroa Cancel', 'Los hechos fueron reportados en la carretera PR-187 en Loíza', datetime.datetime(2024, 7, 26, 6, 41), '7e8c1ec0d446081e2c27b16c231a977f1cd8063d3092694b30d3da748f399a6e')\n",
      "(31, 'https://www.elnuevodia.com/archivo/clasificados/notas/balacera-deja-cuatro-personas-heridas-en-loiza/', 'Balacera deja cuatro personas heridas en Loíza', 'Por Alex Figueroa Cancel', 'Algunos de los perjudicados son jóvenes adultos entre las edades de los 18 y 24 años', datetime.datetime(2024, 7, 26, 6, 39), '123477c467e6de1568e3f20342c0339b8beac58b7ae0ab363cf2a757998508ce')\n",
      "(32, 'https://www.elnuevodia.com/noticias/seguridad/notas/conductor-es-victima-de-carjacking-en-barrio-de-gurabo/', 'Conductor es víctima de “carjacking” en barrio de Gurabo', 'Por Agustín Criollo Oquero', 'El perjudicado indicó que fue interceptado por desconocidos en la carretera PR-9030 del barrio Mamey', datetime.datetime(2024, 7, 26, 6, 24), 'aae1b76329bc09e7e2f7eaffa6f7cf749d6b7d9c582f8acbc6688dcd19f22b83')\n"
     ]
    }
   ],
   "source": [
    "for row in cursor:\n",
    "    print(row)"
   ]
  },
  {
   "cell_type": "code",
   "execution_count": null,
   "metadata": {},
   "outputs": [],
   "source": []
  }
 ],
 "metadata": {
  "kernelspec": {
   "display_name": "Python 3",
   "language": "python",
   "name": "python3"
  },
  "language_info": {
   "codemirror_mode": {
    "name": "ipython",
    "version": 3
   },
   "file_extension": ".py",
   "mimetype": "text/x-python",
   "name": "python",
   "nbconvert_exporter": "python",
   "pygments_lexer": "ipython3",
   "version": "3.12.4"
  }
 },
 "nbformat": 4,
 "nbformat_minor": 2
}
