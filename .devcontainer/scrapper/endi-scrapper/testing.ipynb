{
 "cells": [
  {
   "cell_type": "code",
   "execution_count": 1,
   "metadata": {},
   "outputs": [],
   "source": [
    "import time\n",
    "import logging\n",
    "from datetime import datetime ,timedelta\n",
    "from collector.art_hash import get_hash\n",
    "from collector.extract_artcls_data import current_artcls, artcl_data, artcl_content\n",
    "from collector.location_detector import detect_location, validate_location, get_location_id\n",
    "from collector.relevance_score_claculator import calculate_score as score\n",
    "from database_manager.database_connector import dbconnection as db\n",
    "from database_manager import querys"
   ]
  },
  {
   "cell_type": "code",
   "execution_count": 2,
   "metadata": {},
   "outputs": [],
   "source": [
    "news_url= \"https://www.elnuevodia.com/noticias/seguridad\""
   ]
  },
  {
   "cell_type": "code",
   "execution_count": 3,
   "metadata": {},
   "outputs": [],
   "source": [
    "articles = current_artcls(news_url)"
   ]
  },
  {
   "cell_type": "code",
   "execution_count": 4,
   "metadata": {},
   "outputs": [],
   "source": [
    "# Re-establish database connection\n",
    "db.reconnect()\n",
    "# Create communication cursor object\n",
    "cursor = db.cursor(buffered=True)"
   ]
  },
  {
   "cell_type": "code",
   "execution_count": 5,
   "metadata": {},
   "outputs": [],
   "source": [
    "query_dict = artcl_data(article=articles[1])\n",
    "# Update data dictionary to store content data\n",
    "# Subheadline, Datetime, and Content\n",
    "query_dict.update(artcl_content(article_data=query_dict))"
   ]
  },
  {
   "cell_type": "code",
   "execution_count": 6,
   "metadata": {},
   "outputs": [
    {
     "name": "stdout",
     "output_type": "stream",
     "text": [
      "['adjuntas', 'aguada', 'aguadilla', 'aguas_buenas', 'aibonito', 'arecibo', 'arroyo', 'anasco', 'barceloneta', 'barranquitas', 'bayamon', 'cabo_rojo', 'caguas', 'camuy', 'canovanas', 'carolina', 'catano', 'cayey', 'ceiba', 'ciales', 'cidra', 'coamo', 'comerio', 'corozal', 'culebra', 'dorado', 'fajardo', 'florida', 'guanica', 'guayama', 'guayanilla', 'guaynabo', 'gurabo', 'hatillo', 'hormigueros', 'humacao', 'isabela', 'jayuya', 'juana_diaz', 'juncos', 'lajas', 'lares', 'las_marias', 'las_piedras', 'loiza', 'luquillo', 'manati', 'maricao', 'maunabo', 'mayaguez', 'moca', 'morovis', 'naguabo', 'naranjito', 'orocovis', 'patillas', 'penuelas', 'ponce', 'quebradillas', 'rincon', 'rio_grande', 'sabana_grande', 'salinas', 'san_german', 'san_juan', 'san_lorenzo', 'san_sebastian', 'santa_isabel', 'toa_alta', 'toa_baja', 'trujillo_alto', 'utuado', 'vega_alta', 'vega_baja', 'vieques', 'villalba', 'yabucoa', 'yauco']\n",
      "['descomposicion', 'las_banderas', 'negociado_de_la_policia', 'este', 'puente_de_las_banderas', 'levittown', 'toa_baja', 'sistema_de_emergencias', 'vestia']\n"
     ]
    }
   ],
   "source": [
    "locs_found = detect_location(article_data=query_dict)\n",
    "loc_validated = validate_location(location=locs_found)"
   ]
  },
  {
   "cell_type": "code",
   "execution_count": 7,
   "metadata": {},
   "outputs": [
    {
     "data": {
      "text/plain": [
       "{'toa_baja'}"
      ]
     },
     "execution_count": 7,
     "metadata": {},
     "output_type": "execute_result"
    }
   ],
   "source": [
    "loc_validated"
   ]
  },
  {
   "cell_type": "code",
   "execution_count": null,
   "metadata": {},
   "outputs": [],
   "source": []
  }
 ],
 "metadata": {
  "kernelspec": {
   "display_name": "Python 3",
   "language": "python",
   "name": "python3"
  },
  "language_info": {
   "codemirror_mode": {
    "name": "ipython",
    "version": 3
   },
   "file_extension": ".py",
   "mimetype": "text/x-python",
   "name": "python",
   "nbconvert_exporter": "python",
   "pygments_lexer": "ipython3",
   "version": "3.12.4"
  }
 },
 "nbformat": 4,
 "nbformat_minor": 2
}
